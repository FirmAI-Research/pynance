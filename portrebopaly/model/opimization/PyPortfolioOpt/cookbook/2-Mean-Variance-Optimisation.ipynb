{
 "cells": [
  {
   "cell_type": "markdown",
   "metadata": {},
   "source": [
    "# Mean-variance optimization\n",
    "\n",
    "In this cookbook recipe, we work on several examples demonstrating PyPortfolioOpt's mean-variance capabilities. I will discuss what I think should be your \"default\" options, based on my experience in optimising portfolios.\n",
    "\n",
    "To start, you need a list of tickers. Some people just provide the whole universe of stocks, but I don't think this is a good idea - portfolio optimization is quite different from asset selection. I would suggest anywhere from 10-50 stocks as a starting point.\n",
    "\n",
    "Some of the things we cover:\n",
    "\n",
    "- Downloading data and getting it into PyPortfolioOpt\n",
    "- Calculating and visualising the covariance matrix\n",
    "- Optimising a long/short portfolio to minimise total variance\n",
    "- Optimising a portfolio to maximise the Sharpe ratio, subject to sector constraints\n",
    "- Optimising a portfolio to maximise return for a given risk, subject to sector constraints, with an L2 regularisation objective\n",
    "- Optimising a market-neutral portfolio to minimise risk for a given level of return\n",
    "- Optimising along the mean-semivariance frontier\n",
    "- Optimising along the mean-CVaR frontier\n",
    "- Plotting the efficient frontier:\n",
    "    - Simple (using CLA)\n",
    "    - Constrained\n",
    "    - Complex plots\n",
    "\n",
    "Please consult the [docs](https://pyportfolioopt.readthedocs.io/) for more info.\n",
    "\n",
    "## Downloading data\n",
    "\n",
    "To download data, we will use `yfinance`, an excellent library that provides free price data from Yahoo Finance, no API key needed."
   ]
  },
  {
   "cell_type": "code",
   "execution_count": 1,
   "metadata": {},
   "outputs": [],
   "source": [
    "import yfinance as yf\n",
    "import matplotlib.pyplot as plt\n",
    "import pandas as pd\n",
    "import numpy as np"
   ]
  },
  {
   "cell_type": "code",
   "execution_count": 2,
   "metadata": {},
   "outputs": [],
   "source": [
    "tickers = [\"MSFT\", \"AMZN\", \"KO\", \"MA\", \"COST\", \n",
    "           \"LUV\", \"XOM\", \"PFE\", \"JPM\", \"UNH\", \n",
    "           \"ACN\", \"DIS\", \"GILD\", \"F\", \"TSLA\"] "
   ]
  },
  {
   "cell_type": "code",
   "execution_count": 3,
   "metadata": {},
   "outputs": [
    {
     "name": "stdout",
     "output_type": "stream",
     "text": [
      "[*********************100%***********************]  15 of 15 completed\n"
     ]
    }
   ],
   "source": [
    "ohlc = yf.download(tickers, period=\"max\")"
   ]
  },
  {
   "cell_type": "code",
   "execution_count": 4,
   "metadata": {},
   "outputs": [
    {
     "data": {
      "text/html": [
       "<div>\n",
       "<style scoped>\n",
       "    .dataframe tbody tr th:only-of-type {\n",
       "        vertical-align: middle;\n",
       "    }\n",
       "\n",
       "    .dataframe tbody tr th {\n",
       "        vertical-align: top;\n",
       "    }\n",
       "\n",
       "    .dataframe thead th {\n",
       "        text-align: right;\n",
       "    }\n",
       "</style>\n",
       "<table border=\"1\" class=\"dataframe\">\n",
       "  <thead>\n",
       "    <tr style=\"text-align: right;\">\n",
       "      <th></th>\n",
       "      <th>ACN</th>\n",
       "      <th>AMZN</th>\n",
       "      <th>COST</th>\n",
       "      <th>DIS</th>\n",
       "      <th>F</th>\n",
       "      <th>GILD</th>\n",
       "      <th>JPM</th>\n",
       "      <th>KO</th>\n",
       "      <th>LUV</th>\n",
       "      <th>MA</th>\n",
       "      <th>MSFT</th>\n",
       "      <th>PFE</th>\n",
       "      <th>TSLA</th>\n",
       "      <th>UNH</th>\n",
       "      <th>XOM</th>\n",
       "    </tr>\n",
       "    <tr>\n",
       "      <th>Date</th>\n",
       "      <th></th>\n",
       "      <th></th>\n",
       "      <th></th>\n",
       "      <th></th>\n",
       "      <th></th>\n",
       "      <th></th>\n",
       "      <th></th>\n",
       "      <th></th>\n",
       "      <th></th>\n",
       "      <th></th>\n",
       "      <th></th>\n",
       "      <th></th>\n",
       "      <th></th>\n",
       "      <th></th>\n",
       "      <th></th>\n",
       "    </tr>\n",
       "  </thead>\n",
       "  <tbody>\n",
       "    <tr>\n",
       "      <th>2021-02-08</th>\n",
       "      <td>257.309998</td>\n",
       "      <td>3322.939941</td>\n",
       "      <td>359.829987</td>\n",
       "      <td>190.000000</td>\n",
       "      <td>11.56</td>\n",
       "      <td>67.970001</td>\n",
       "      <td>140.139999</td>\n",
       "      <td>49.919998</td>\n",
       "      <td>52.240002</td>\n",
       "      <td>337.029999</td>\n",
       "      <td>242.470001</td>\n",
       "      <td>34.820000</td>\n",
       "      <td>863.419983</td>\n",
       "      <td>324.339996</td>\n",
       "      <td>51.230000</td>\n",
       "    </tr>\n",
       "    <tr>\n",
       "      <th>2021-02-09</th>\n",
       "      <td>257.679993</td>\n",
       "      <td>3305.000000</td>\n",
       "      <td>359.559998</td>\n",
       "      <td>188.210007</td>\n",
       "      <td>11.93</td>\n",
       "      <td>67.300003</td>\n",
       "      <td>139.580002</td>\n",
       "      <td>49.700001</td>\n",
       "      <td>51.180000</td>\n",
       "      <td>333.440002</td>\n",
       "      <td>243.770004</td>\n",
       "      <td>34.970001</td>\n",
       "      <td>849.460022</td>\n",
       "      <td>329.630005</td>\n",
       "      <td>50.630001</td>\n",
       "    </tr>\n",
       "    <tr>\n",
       "      <th>2021-02-10</th>\n",
       "      <td>256.940002</td>\n",
       "      <td>3286.580078</td>\n",
       "      <td>356.119995</td>\n",
       "      <td>189.630005</td>\n",
       "      <td>11.76</td>\n",
       "      <td>67.290001</td>\n",
       "      <td>139.660004</td>\n",
       "      <td>49.599998</td>\n",
       "      <td>51.279999</td>\n",
       "      <td>334.209991</td>\n",
       "      <td>242.820007</td>\n",
       "      <td>34.740002</td>\n",
       "      <td>804.820007</td>\n",
       "      <td>333.399994</td>\n",
       "      <td>51.119999</td>\n",
       "    </tr>\n",
       "    <tr>\n",
       "      <th>2021-02-11</th>\n",
       "      <td>258.970001</td>\n",
       "      <td>3262.129883</td>\n",
       "      <td>352.200012</td>\n",
       "      <td>190.910004</td>\n",
       "      <td>11.45</td>\n",
       "      <td>66.919998</td>\n",
       "      <td>139.270004</td>\n",
       "      <td>50.299999</td>\n",
       "      <td>51.419998</td>\n",
       "      <td>342.869995</td>\n",
       "      <td>244.490005</td>\n",
       "      <td>34.430000</td>\n",
       "      <td>811.659973</td>\n",
       "      <td>333.070007</td>\n",
       "      <td>49.840000</td>\n",
       "    </tr>\n",
       "    <tr>\n",
       "      <th>2021-02-12</th>\n",
       "      <td>257.470001</td>\n",
       "      <td>3277.709961</td>\n",
       "      <td>352.750000</td>\n",
       "      <td>187.669998</td>\n",
       "      <td>11.45</td>\n",
       "      <td>66.889999</td>\n",
       "      <td>141.250000</td>\n",
       "      <td>50.689999</td>\n",
       "      <td>51.340000</td>\n",
       "      <td>341.000000</td>\n",
       "      <td>244.990005</td>\n",
       "      <td>34.720001</td>\n",
       "      <td>816.119995</td>\n",
       "      <td>328.239990</td>\n",
       "      <td>50.520000</td>\n",
       "    </tr>\n",
       "  </tbody>\n",
       "</table>\n",
       "</div>"
      ],
      "text/plain": [
       "                   ACN         AMZN        COST         DIS      F       GILD  \\\n",
       "Date                                                                            \n",
       "2021-02-08  257.309998  3322.939941  359.829987  190.000000  11.56  67.970001   \n",
       "2021-02-09  257.679993  3305.000000  359.559998  188.210007  11.93  67.300003   \n",
       "2021-02-10  256.940002  3286.580078  356.119995  189.630005  11.76  67.290001   \n",
       "2021-02-11  258.970001  3262.129883  352.200012  190.910004  11.45  66.919998   \n",
       "2021-02-12  257.470001  3277.709961  352.750000  187.669998  11.45  66.889999   \n",
       "\n",
       "                   JPM         KO        LUV          MA        MSFT  \\\n",
       "Date                                                                   \n",
       "2021-02-08  140.139999  49.919998  52.240002  337.029999  242.470001   \n",
       "2021-02-09  139.580002  49.700001  51.180000  333.440002  243.770004   \n",
       "2021-02-10  139.660004  49.599998  51.279999  334.209991  242.820007   \n",
       "2021-02-11  139.270004  50.299999  51.419998  342.869995  244.490005   \n",
       "2021-02-12  141.250000  50.689999  51.340000  341.000000  244.990005   \n",
       "\n",
       "                  PFE        TSLA         UNH        XOM  \n",
       "Date                                                      \n",
       "2021-02-08  34.820000  863.419983  324.339996  51.230000  \n",
       "2021-02-09  34.970001  849.460022  329.630005  50.630001  \n",
       "2021-02-10  34.740002  804.820007  333.399994  51.119999  \n",
       "2021-02-11  34.430000  811.659973  333.070007  49.840000  \n",
       "2021-02-12  34.720001  816.119995  328.239990  50.520000  "
      ]
     },
     "execution_count": 4,
     "metadata": {},
     "output_type": "execute_result"
    }
   ],
   "source": [
    "prices = ohlc[\"Adj Close\"].dropna(how=\"all\")\n",
    "prices.tail()"
   ]
  },
  {
   "cell_type": "code",
   "execution_count": 5,
   "metadata": {},
   "outputs": [
    {
     "data": {
      "image/png": "[encoded data removed]",
      "text/plain": [
       "<Figure size 1080x720 with 1 Axes>"
      ]
     },
     "metadata": {
      "needs_background": "light"
     },
     "output_type": "display_data"
    }
   ],
   "source": [
    "prices[prices.index >= \"2008-01-01\"].plot(figsize=(15,10));"
   ]
  },
  {
   "cell_type": "markdown",
   "metadata": {},
   "source": [
    "## Calculating the covariance matrix"
   ]
  },
  {
   "cell_type": "code",
   "execution_count": 6,
   "metadata": {},
   "outputs": [
    {
     "data": {
      "text/plain": [
       "'1.4.0'"
      ]
     },
     "execution_count": 6,
     "metadata": {},
     "output_type": "execute_result"
    }
   ],
   "source": [
    "import pypfopt\n",
    "pypfopt.__version__"
   ]
  },
  {
   "cell_type": "code",
   "execution_count": 7,
   "metadata": {},
   "outputs": [
    {
     "data": {
      "text/html": [
       "<div>\n",
       "<style scoped>\n",
       "    .dataframe tbody tr th:only-of-type {\n",
       "        vertical-align: middle;\n",
       "    }\n",
       "\n",
       "    .dataframe tbody tr th {\n",
       "        vertical-align: top;\n",
       "    }\n",
       "\n",
       "    .dataframe thead th {\n",
       "        text-align: right;\n",
       "    }\n",
       "</style>\n",
       "<table border=\"1\" class=\"dataframe\">\n",
       "  <thead>\n",
       "    <tr style=\"text-align: right;\">\n",
       "      <th></th>\n",
       "      <th>ACN</th>\n",
       "      <th>AMZN</th>\n",
       "      <th>COST</th>\n",
       "      <th>DIS</th>\n",
       "      <th>F</th>\n",
       "      <th>GILD</th>\n",
       "      <th>JPM</th>\n",
       "      <th>KO</th>\n",
       "      <th>LUV</th>\n",
       "      <th>MA</th>\n",
       "      <th>MSFT</th>\n",
       "      <th>PFE</th>\n",
       "      <th>TSLA</th>\n",
       "      <th>UNH</th>\n",
       "      <th>XOM</th>\n",
       "    </tr>\n",
       "  </thead>\n",
       "  <tbody>\n",
       "    <tr>\n",
       "      <th>ACN</th>\n",
       "      <td>0.092632</td>\n",
       "      <td>0.045222</td>\n",
       "      <td>0.027420</td>\n",
       "      <td>0.041136</td>\n",
       "      <td>0.043728</td>\n",
       "      <td>0.029906</td>\n",
       "      <td>0.049748</td>\n",
       "      <td>0.020555</td>\n",
       "      <td>0.037300</td>\n",
       "      <td>0.045992</td>\n",
       "      <td>0.040781</td>\n",
       "      <td>0.026349</td>\n",
       "      <td>0.039622</td>\n",
       "      <td>0.030803</td>\n",
       "      <td>0.031405</td>\n",
       "    </tr>\n",
       "    <tr>\n",
       "      <th>AMZN</th>\n",
       "      <td>0.045222</td>\n",
       "      <td>0.343494</td>\n",
       "      <td>0.047852</td>\n",
       "      <td>0.055384</td>\n",
       "      <td>0.052702</td>\n",
       "      <td>0.061289</td>\n",
       "      <td>0.068269</td>\n",
       "      <td>0.020497</td>\n",
       "      <td>0.047922</td>\n",
       "      <td>0.057267</td>\n",
       "      <td>0.072572</td>\n",
       "      <td>0.032640</td>\n",
       "      <td>0.055948</td>\n",
       "      <td>0.035728</td>\n",
       "      <td>0.027309</td>\n",
       "    </tr>\n",
       "    <tr>\n",
       "      <th>COST</th>\n",
       "      <td>0.027420</td>\n",
       "      <td>0.047852</td>\n",
       "      <td>0.103043</td>\n",
       "      <td>0.032323</td>\n",
       "      <td>0.031280</td>\n",
       "      <td>0.027764</td>\n",
       "      <td>0.039449</td>\n",
       "      <td>0.021299</td>\n",
       "      <td>0.031869</td>\n",
       "      <td>0.032874</td>\n",
       "      <td>0.037152</td>\n",
       "      <td>0.025790</td>\n",
       "      <td>0.022850</td>\n",
       "      <td>0.027662</td>\n",
       "      <td>0.020850</td>\n",
       "    </tr>\n",
       "    <tr>\n",
       "      <th>DIS</th>\n",
       "      <td>0.041136</td>\n",
       "      <td>0.055384</td>\n",
       "      <td>0.032323</td>\n",
       "      <td>0.099902</td>\n",
       "      <td>0.040218</td>\n",
       "      <td>0.033266</td>\n",
       "      <td>0.047556</td>\n",
       "      <td>0.026385</td>\n",
       "      <td>0.038803</td>\n",
       "      <td>0.050691</td>\n",
       "      <td>0.042951</td>\n",
       "      <td>0.030051</td>\n",
       "      <td>0.037425</td>\n",
       "      <td>0.032662</td>\n",
       "      <td>0.025617</td>\n",
       "    </tr>\n",
       "    <tr>\n",
       "      <th>F</th>\n",
       "      <td>0.043728</td>\n",
       "      <td>0.052702</td>\n",
       "      <td>0.031280</td>\n",
       "      <td>0.040218</td>\n",
       "      <td>0.124799</td>\n",
       "      <td>0.030711</td>\n",
       "      <td>0.054607</td>\n",
       "      <td>0.026455</td>\n",
       "      <td>0.045436</td>\n",
       "      <td>0.063188</td>\n",
       "      <td>0.041333</td>\n",
       "      <td>0.027786</td>\n",
       "      <td>0.049550</td>\n",
       "      <td>0.029579</td>\n",
       "      <td>0.027373</td>\n",
       "    </tr>\n",
       "    <tr>\n",
       "      <th>GILD</th>\n",
       "      <td>0.029906</td>\n",
       "      <td>0.061289</td>\n",
       "      <td>0.027764</td>\n",
       "      <td>0.033266</td>\n",
       "      <td>0.030711</td>\n",
       "      <td>0.243911</td>\n",
       "      <td>0.043923</td>\n",
       "      <td>0.016872</td>\n",
       "      <td>0.032021</td>\n",
       "      <td>0.034330</td>\n",
       "      <td>0.036330</td>\n",
       "      <td>0.033188</td>\n",
       "      <td>0.034865</td>\n",
       "      <td>0.034951</td>\n",
       "      <td>0.021699</td>\n",
       "    </tr>\n",
       "    <tr>\n",
       "      <th>JPM</th>\n",
       "      <td>0.049748</td>\n",
       "      <td>0.068269</td>\n",
       "      <td>0.039449</td>\n",
       "      <td>0.047556</td>\n",
       "      <td>0.054607</td>\n",
       "      <td>0.043923</td>\n",
       "      <td>0.130590</td>\n",
       "      <td>0.028210</td>\n",
       "      <td>0.049142</td>\n",
       "      <td>0.072991</td>\n",
       "      <td>0.050343</td>\n",
       "      <td>0.033541</td>\n",
       "      <td>0.041013</td>\n",
       "      <td>0.039428</td>\n",
       "      <td>0.033259</td>\n",
       "    </tr>\n",
       "    <tr>\n",
       "      <th>KO</th>\n",
       "      <td>0.020555</td>\n",
       "      <td>0.020497</td>\n",
       "      <td>0.021299</td>\n",
       "      <td>0.026385</td>\n",
       "      <td>0.026455</td>\n",
       "      <td>0.016872</td>\n",
       "      <td>0.028210</td>\n",
       "      <td>0.054270</td>\n",
       "      <td>0.023276</td>\n",
       "      <td>0.026849</td>\n",
       "      <td>0.028257</td>\n",
       "      <td>0.026512</td>\n",
       "      <td>0.020186</td>\n",
       "      <td>0.023216</td>\n",
       "      <td>0.020920</td>\n",
       "    </tr>\n",
       "    <tr>\n",
       "      <th>LUV</th>\n",
       "      <td>0.037300</td>\n",
       "      <td>0.047922</td>\n",
       "      <td>0.031869</td>\n",
       "      <td>0.038803</td>\n",
       "      <td>0.045436</td>\n",
       "      <td>0.032021</td>\n",
       "      <td>0.049142</td>\n",
       "      <td>0.023276</td>\n",
       "      <td>0.139199</td>\n",
       "      <td>0.048147</td>\n",
       "      <td>0.037210</td>\n",
       "      <td>0.026772</td>\n",
       "      <td>0.036284</td>\n",
       "      <td>0.033389</td>\n",
       "      <td>0.023149</td>\n",
       "    </tr>\n",
       "    <tr>\n",
       "      <th>MA</th>\n",
       "      <td>0.045992</td>\n",
       "      <td>0.057267</td>\n",
       "      <td>0.032874</td>\n",
       "      <td>0.050691</td>\n",
       "      <td>0.063188</td>\n",
       "      <td>0.034330</td>\n",
       "      <td>0.072991</td>\n",
       "      <td>0.026849</td>\n",
       "      <td>0.048147</td>\n",
       "      <td>0.121321</td>\n",
       "      <td>0.049953</td>\n",
       "      <td>0.034302</td>\n",
       "      <td>0.047479</td>\n",
       "      <td>0.044907</td>\n",
       "      <td>0.043456</td>\n",
       "    </tr>\n",
       "    <tr>\n",
       "      <th>MSFT</th>\n",
       "      <td>0.040781</td>\n",
       "      <td>0.072572</td>\n",
       "      <td>0.037152</td>\n",
       "      <td>0.042951</td>\n",
       "      <td>0.041333</td>\n",
       "      <td>0.036330</td>\n",
       "      <td>0.050343</td>\n",
       "      <td>0.028257</td>\n",
       "      <td>0.037210</td>\n",
       "      <td>0.049953</td>\n",
       "      <td>0.116249</td>\n",
       "      <td>0.031407</td>\n",
       "      <td>0.045927</td>\n",
       "      <td>0.034455</td>\n",
       "      <td>0.029879</td>\n",
       "    </tr>\n",
       "    <tr>\n",
       "      <th>PFE</th>\n",
       "      <td>0.026349</td>\n",
       "      <td>0.032640</td>\n",
       "      <td>0.025790</td>\n",
       "      <td>0.030051</td>\n",
       "      <td>0.027786</td>\n",
       "      <td>0.033188</td>\n",
       "      <td>0.033541</td>\n",
       "      <td>0.026512</td>\n",
       "      <td>0.026772</td>\n",
       "      <td>0.034302</td>\n",
       "      <td>0.031407</td>\n",
       "      <td>0.076198</td>\n",
       "      <td>0.021108</td>\n",
       "      <td>0.028741</td>\n",
       "      <td>0.023489</td>\n",
       "    </tr>\n",
       "    <tr>\n",
       "      <th>TSLA</th>\n",
       "      <td>0.039622</td>\n",
       "      <td>0.055948</td>\n",
       "      <td>0.022850</td>\n",
       "      <td>0.037425</td>\n",
       "      <td>0.049550</td>\n",
       "      <td>0.034865</td>\n",
       "      <td>0.041013</td>\n",
       "      <td>0.020186</td>\n",
       "      <td>0.036284</td>\n",
       "      <td>0.047479</td>\n",
       "      <td>0.045927</td>\n",
       "      <td>0.021108</td>\n",
       "      <td>0.317409</td>\n",
       "      <td>0.033046</td>\n",
       "      <td>0.031579</td>\n",
       "    </tr>\n",
       "    <tr>\n",
       "      <th>UNH</th>\n",
       "      <td>0.030803</td>\n",
       "      <td>0.035728</td>\n",
       "      <td>0.027662</td>\n",
       "      <td>0.032662</td>\n",
       "      <td>0.029579</td>\n",
       "      <td>0.034951</td>\n",
       "      <td>0.039428</td>\n",
       "      <td>0.023216</td>\n",
       "      <td>0.033389</td>\n",
       "      <td>0.044907</td>\n",
       "      <td>0.034455</td>\n",
       "      <td>0.028741</td>\n",
       "      <td>0.033046</td>\n",
       "      <td>0.167136</td>\n",
       "      <td>0.022773</td>\n",
       "    </tr>\n",
       "    <tr>\n",
       "      <th>XOM</th>\n",
       "      <td>0.031405</td>\n",
       "      <td>0.027309</td>\n",
       "      <td>0.020850</td>\n",
       "      <td>0.025617</td>\n",
       "      <td>0.027373</td>\n",
       "      <td>0.021699</td>\n",
       "      <td>0.033259</td>\n",
       "      <td>0.020920</td>\n",
       "      <td>0.023149</td>\n",
       "      <td>0.043456</td>\n",
       "      <td>0.029879</td>\n",
       "      <td>0.023489</td>\n",
       "      <td>0.031579</td>\n",
       "      <td>0.022773</td>\n",
       "      <td>0.051136</td>\n",
       "    </tr>\n",
       "  </tbody>\n",
       "</table>\n",
       "</div>"
      ],
      "text/plain": [
       "           ACN      AMZN      COST       DIS         F      GILD       JPM  \\\n",
       "ACN   0.092632  0.045222  0.027420  0.041136  0.043728  0.029906  0.049748   \n",
       "AMZN  0.045222  0.343494  0.047852  0.055384  0.052702  0.061289  0.068269   \n",
       "COST  0.027420  0.047852  0.103043  0.032323  0.031280  0.027764  0.039449   \n",
       "DIS   0.041136  0.055384  0.032323  0.099902  0.040218  0.033266  0.047556   \n",
       "F     0.043728  0.052702  0.031280  0.040218  0.124799  0.030711  0.054607   \n",
       "GILD  0.029906  0.061289  0.027764  0.033266  0.030711  0.243911  0.043923   \n",
       "JPM   0.049748  0.068269  0.039449  0.047556  0.054607  0.043923  0.130590   \n",
       "KO    0.020555  0.020497  0.021299  0.026385  0.026455  0.016872  0.028210   \n",
       "LUV   0.037300  0.047922  0.031869  0.038803  0.045436  0.032021  0.049142   \n",
       "MA    0.045992  0.057267  0.032874  0.050691  0.063188  0.034330  0.072991   \n",
       "MSFT  0.040781  0.072572  0.037152  0.042951  0.041333  0.036330  0.050343   \n",
       "PFE   0.026349  0.032640  0.025790  0.030051  0.027786  0.033188  0.033541   \n",
       "TSLA  0.039622  0.055948  0.022850  0.037425  0.049550  0.034865  0.041013   \n",
       "UNH   0.030803  0.035728  0.027662  0.032662  0.029579  0.034951  0.039428   \n",
       "XOM   0.031405  0.027309  0.020850  0.025617  0.027373  0.021699  0.033259   \n",
       "\n",
       "            KO       LUV        MA      MSFT       PFE      TSLA       UNH  \\\n",
       "ACN   0.020555  0.037300  0.045992  0.040781  0.026349  0.039622  0.030803   \n",
       "AMZN  0.020497  0.047922  0.057267  0.072572  0.032640  0.055948  0.035728   \n",
       "COST  0.021299  0.031869  0.032874  0.037152  0.025790  0.022850  0.027662   \n",
       "DIS   0.026385  0.038803  0.050691  0.042951  0.030051  0.037425  0.032662   \n",
       "F     0.026455  0.045436  0.063188  0.041333  0.027786  0.049550  0.029579   \n",
       "GILD  0.016872  0.032021  0.034330  0.036330  0.033188  0.034865  0.034951   \n",
       "JPM   0.028210  0.049142  0.072991  0.050343  0.033541  0.041013  0.039428   \n",
       "KO    0.054270  0.023276  0.026849  0.028257  0.026512  0.020186  0.023216   \n",
       "LUV   0.023276  0.139199  0.048147  0.037210  0.026772  0.036284  0.033389   \n",
       "MA    0.026849  0.048147  0.121321  0.049953  0.034302  0.047479  0.044907   \n",
       "MSFT  0.028257  0.037210  0.049953  0.116249  0.031407  0.045927  0.034455   \n",
       "PFE   0.026512  0.026772  0.034302  0.031407  0.076198  0.021108  0.028741   \n",
       "TSLA  0.020186  0.036284  0.047479  0.045927  0.021108  0.317409  0.033046   \n",
       "UNH   0.023216  0.033389  0.044907  0.034455  0.028741  0.033046  0.167136   \n",
       "XOM   0.020920  0.023149  0.043456  0.029879  0.023489  0.031579  0.022773   \n",
       "\n",
       "           XOM  \n",
       "ACN   0.031405  \n",
       "AMZN  0.027309  \n",
       "COST  0.020850  \n",
       "DIS   0.025617  \n",
       "F     0.027373  \n",
       "GILD  0.021699  \n",
       "JPM   0.033259  \n",
       "KO    0.020920  \n",
       "LUV   0.023149  \n",
       "MA    0.043456  \n",
       "MSFT  0.029879  \n",
       "PFE   0.023489  \n",
       "TSLA  0.031579  \n",
       "UNH   0.022773  \n",
       "XOM   0.051136  "
      ]
     },
     "execution_count": 7,
     "metadata": {},
     "output_type": "execute_result"
    }
   ],
   "source": [
    "from pypfopt import risk_models\n",
    "from pypfopt import plotting\n",
    "\n",
    "sample_cov = risk_models.sample_cov(prices, frequency=252)\n",
    "sample_cov"
   ]
  },
  {
   "cell_type": "code",
   "execution_count": 8,
   "metadata": {},
   "outputs": [
    {
     "data": {
      "image/png": "[encoded data removed]",
      "text/plain": [
       "<Figure size 432x288 with 2 Axes>"
      ]
     },
     "metadata": {
      "needs_background": "light"
     },
     "output_type": "display_data"
    }
   ],
   "source": [
    "plotting.plot_covariance(sample_cov, plot_correlation=True);"
   ]
  },
  {
   "cell_type": "markdown",
   "metadata": {},
   "source": [
    "For reasons discussed in the docs, the sample covariance matrix should not be your default choice. I think a better option is Ledoit-Wolf shrinkage, which reduces the extreme values in the covariance matrix. In the image below, we can see that there are fewer bright spots outside the diagonal:"
   ]
  },
  {
   "cell_type": "code",
   "execution_count": 9,
   "metadata": {},
   "outputs": [
    {
     "data": {
      "image/png": "[encoded data removed]",
      "text/plain": [
       "<Figure size 432x288 with 2 Axes>"
      ]
     },
     "metadata": {
      "needs_background": "light"
     },
     "output_type": "display_data"
    }
   ],
   "source": [
    "S = risk_models.CovarianceShrinkage(prices).ledoit_wolf()\n",
    "plotting.plot_covariance(S, plot_correlation=True);"
   ]
  },
  {
   "cell_type": "markdown",
   "metadata": {},
   "source": [
    "## Return estimation\n",
    "\n",
    "As discussed in the docs, it is often a bad idea to provide returns using a simple estimate like the mean of past returns. Unless you have a proprietary method for estimating returns, research suggests that you may be better off not providing expected returns – you can then just find the `min_volatility()` portfolio or use `HRP`. \n",
    "\n",
    "However, in this example we will use the CAPM returns, which aims to be slightly more stable than the default mean historical return. Please see the notebook `1-RiskReturnModels.ipynb` for more information."
   ]
  },
  {
   "cell_type": "code",
   "execution_count": 10,
   "metadata": {},
   "outputs": [
    {
     "data": {
      "text/plain": [
       "ACN     0.211835\n",
       "AMZN    0.364327\n",
       "COST    0.196707\n",
       "DIS     0.225129\n",
       "F       0.224453\n",
       "GILD    0.261351\n",
       "JPM     0.255334\n",
       "KO      0.149650\n",
       "LUV     0.228796\n",
       "MA      0.268048\n",
       "MSFT    0.241563\n",
       "PFE     0.180952\n",
       "TSLA    0.283734\n",
       "UNH     0.224482\n",
       "XOM     0.142013\n",
       "Name: mkt, dtype: float64"
      ]
     },
     "execution_count": 10,
     "metadata": {},
     "output_type": "execute_result"
    }
   ],
   "source": [
    "from pypfopt import expected_returns\n",
    "\n",
    "mu = expected_returns.capm_return(prices)\n",
    "mu"
   ]
  },
  {
   "cell_type": "code",
   "execution_count": 11,
   "metadata": {},
   "outputs": [
    {
     "data": {
      "image/png": "[encoded data removed]",
      "text/plain": [
       "<Figure size 720x432 with 1 Axes>"
      ]
     },
     "metadata": {
      "needs_background": "light"
     },
     "output_type": "display_data"
    }
   ],
   "source": [
    "mu.plot.barh(figsize=(10,6));"
   ]
  },
  {
   "cell_type": "markdown",
   "metadata": {},
   "source": [
    "## Long/short min variance\n",
    "\n",
    "In this section, we construct a long/short portfolio with the objective of minimising variance. There is a good deal of research that demonstrates that these global-minimum variance (GMV) portfolios outperform mean-variance optimized portfolios."
   ]
  },
  {
   "cell_type": "code",
   "execution_count": 12,
   "metadata": {},
   "outputs": [],
   "source": [
    "from pypfopt import EfficientFrontier"
   ]
  },
  {
   "cell_type": "code",
   "execution_count": 13,
   "metadata": {},
   "outputs": [
    {
     "data": {
      "text/plain": [
       "OrderedDict([('ACN', 0.23339),\n",
       "             ('AMZN', 0.00834),\n",
       "             ('COST', 0.09859),\n",
       "             ('DIS', -0.01636),\n",
       "             ('F', -0.01648),\n",
       "             ('GILD', 0.04163),\n",
       "             ('JPM', -0.05159),\n",
       "             ('KO', 0.12184),\n",
       "             ('LUV', 0.02395),\n",
       "             ('MA', 0.23815),\n",
       "             ('MSFT', 0.00328),\n",
       "             ('PFE', 0.06219),\n",
       "             ('TSLA', 0.15029),\n",
       "             ('UNH', 0.02962),\n",
       "             ('XOM', 0.07316)])"
      ]
     },
     "execution_count": 13,
     "metadata": {},
     "output_type": "execute_result"
    }
   ],
   "source": [
    "S = risk_models.CovarianceShrinkage(prices).ledoit_wolf()\n",
    "\n",
    "# You don't have to provide expected returns in this case\n",
    "ef = EfficientFrontier(None, S, weight_bounds=(None, None))\n",
    "ef.min_volatility()\n",
    "weights = ef.clean_weights()\n",
    "weights"
   ]
  },
  {
   "cell_type": "code",
   "execution_count": 14,
   "metadata": {},
   "outputs": [
    {
     "data": {
      "image/png": "[encoded data removed]",
      "text/plain": [
       "<Figure size 432x288 with 1 Axes>"
      ]
     },
     "metadata": {
      "needs_background": "light"
     },
     "output_type": "display_data"
    }
   ],
   "source": [
    "pd.Series(weights).plot.barh();"
   ]
  },
  {
   "cell_type": "markdown",
   "metadata": {},
   "source": [
    "We can get a quick indication of the portfolio performance as follows. Note that this is an in sample estimate and may have very little resemblance to how the portfolio actually performs!"
   ]
  },
  {
   "cell_type": "code",
   "execution_count": 15,
   "metadata": {},
   "outputs": [
    {
     "name": "stdout",
     "output_type": "stream",
     "text": [
      "Annual volatility: 11.8%\n"
     ]
    }
   ],
   "source": [
    "ef.portfolio_performance(verbose=True);"
   ]
  },
  {
   "cell_type": "code",
   "execution_count": 16,
   "metadata": {},
   "outputs": [
    {
     "data": {
      "text/html": [
       "<div>\n",
       "<style scoped>\n",
       "    .dataframe tbody tr th:only-of-type {\n",
       "        vertical-align: middle;\n",
       "    }\n",
       "\n",
       "    .dataframe tbody tr th {\n",
       "        vertical-align: top;\n",
       "    }\n",
       "\n",
       "    .dataframe thead th {\n",
       "        text-align: right;\n",
       "    }\n",
       "</style>\n",
       "<table border=\"1\" class=\"dataframe\">\n",
       "  <thead>\n",
       "    <tr style=\"text-align: right;\">\n",
       "      <th></th>\n",
       "      <th>ACN</th>\n",
       "      <th>AMZN</th>\n",
       "      <th>COST</th>\n",
       "      <th>DIS</th>\n",
       "      <th>F</th>\n",
       "      <th>GILD</th>\n",
       "      <th>JPM</th>\n",
       "      <th>KO</th>\n",
       "      <th>LUV</th>\n",
       "      <th>MA</th>\n",
       "      <th>MSFT</th>\n",
       "      <th>PFE</th>\n",
       "      <th>TSLA</th>\n",
       "      <th>UNH</th>\n",
       "      <th>XOM</th>\n",
       "    </tr>\n",
       "    <tr>\n",
       "      <th>Date</th>\n",
       "      <th></th>\n",
       "      <th></th>\n",
       "      <th></th>\n",
       "      <th></th>\n",
       "      <th></th>\n",
       "      <th></th>\n",
       "      <th></th>\n",
       "      <th></th>\n",
       "      <th></th>\n",
       "      <th></th>\n",
       "      <th></th>\n",
       "      <th></th>\n",
       "      <th></th>\n",
       "      <th></th>\n",
       "      <th></th>\n",
       "    </tr>\n",
       "  </thead>\n",
       "  <tbody>\n",
       "    <tr>\n",
       "      <th>1962-01-02</th>\n",
       "      <td>NaN</td>\n",
       "      <td>NaN</td>\n",
       "      <td>NaN</td>\n",
       "      <td>0.058398</td>\n",
       "      <td>NaN</td>\n",
       "      <td>NaN</td>\n",
       "      <td>NaN</td>\n",
       "      <td>0.052365</td>\n",
       "      <td>NaN</td>\n",
       "      <td>NaN</td>\n",
       "      <td>NaN</td>\n",
       "      <td>NaN</td>\n",
       "      <td>NaN</td>\n",
       "      <td>NaN</td>\n",
       "      <td>0.107491</td>\n",
       "    </tr>\n",
       "    <tr>\n",
       "      <th>1962-01-03</th>\n",
       "      <td>NaN</td>\n",
       "      <td>NaN</td>\n",
       "      <td>NaN</td>\n",
       "      <td>0.059182</td>\n",
       "      <td>NaN</td>\n",
       "      <td>NaN</td>\n",
       "      <td>NaN</td>\n",
       "      <td>0.051198</td>\n",
       "      <td>NaN</td>\n",
       "      <td>NaN</td>\n",
       "      <td>NaN</td>\n",
       "      <td>NaN</td>\n",
       "      <td>NaN</td>\n",
       "      <td>NaN</td>\n",
       "      <td>0.109087</td>\n",
       "    </tr>\n",
       "    <tr>\n",
       "      <th>1962-01-04</th>\n",
       "      <td>NaN</td>\n",
       "      <td>NaN</td>\n",
       "      <td>NaN</td>\n",
       "      <td>0.059182</td>\n",
       "      <td>NaN</td>\n",
       "      <td>NaN</td>\n",
       "      <td>NaN</td>\n",
       "      <td>0.051587</td>\n",
       "      <td>NaN</td>\n",
       "      <td>NaN</td>\n",
       "      <td>NaN</td>\n",
       "      <td>NaN</td>\n",
       "      <td>NaN</td>\n",
       "      <td>NaN</td>\n",
       "      <td>0.109353</td>\n",
       "    </tr>\n",
       "    <tr>\n",
       "      <th>1962-01-05</th>\n",
       "      <td>NaN</td>\n",
       "      <td>NaN</td>\n",
       "      <td>NaN</td>\n",
       "      <td>0.059378</td>\n",
       "      <td>NaN</td>\n",
       "      <td>NaN</td>\n",
       "      <td>NaN</td>\n",
       "      <td>0.050421</td>\n",
       "      <td>NaN</td>\n",
       "      <td>NaN</td>\n",
       "      <td>NaN</td>\n",
       "      <td>NaN</td>\n",
       "      <td>NaN</td>\n",
       "      <td>NaN</td>\n",
       "      <td>0.106959</td>\n",
       "    </tr>\n",
       "    <tr>\n",
       "      <th>1962-01-08</th>\n",
       "      <td>NaN</td>\n",
       "      <td>NaN</td>\n",
       "      <td>NaN</td>\n",
       "      <td>0.059182</td>\n",
       "      <td>NaN</td>\n",
       "      <td>NaN</td>\n",
       "      <td>NaN</td>\n",
       "      <td>0.049902</td>\n",
       "      <td>NaN</td>\n",
       "      <td>NaN</td>\n",
       "      <td>NaN</td>\n",
       "      <td>NaN</td>\n",
       "      <td>NaN</td>\n",
       "      <td>NaN</td>\n",
       "      <td>0.106693</td>\n",
       "    </tr>\n",
       "    <tr>\n",
       "      <th>...</th>\n",
       "      <td>...</td>\n",
       "      <td>...</td>\n",
       "      <td>...</td>\n",
       "      <td>...</td>\n",
       "      <td>...</td>\n",
       "      <td>...</td>\n",
       "      <td>...</td>\n",
       "      <td>...</td>\n",
       "      <td>...</td>\n",
       "      <td>...</td>\n",
       "      <td>...</td>\n",
       "      <td>...</td>\n",
       "      <td>...</td>\n",
       "      <td>...</td>\n",
       "      <td>...</td>\n",
       "    </tr>\n",
       "    <tr>\n",
       "      <th>2021-02-08</th>\n",
       "      <td>257.309998</td>\n",
       "      <td>3322.939941</td>\n",
       "      <td>359.829987</td>\n",
       "      <td>190.000000</td>\n",
       "      <td>11.56</td>\n",
       "      <td>67.970001</td>\n",
       "      <td>140.139999</td>\n",
       "      <td>49.919998</td>\n",
       "      <td>52.240002</td>\n",
       "      <td>337.029999</td>\n",
       "      <td>242.470001</td>\n",
       "      <td>34.820000</td>\n",
       "      <td>863.419983</td>\n",
       "      <td>324.339996</td>\n",
       "      <td>51.230000</td>\n",
       "    </tr>\n",
       "    <tr>\n",
       "      <th>2021-02-09</th>\n",
       "      <td>257.679993</td>\n",
       "      <td>3305.000000</td>\n",
       "      <td>359.559998</td>\n",
       "      <td>188.210007</td>\n",
       "      <td>11.93</td>\n",
       "      <td>67.300003</td>\n",
       "      <td>139.580002</td>\n",
       "      <td>49.700001</td>\n",
       "      <td>51.180000</td>\n",
       "      <td>333.440002</td>\n",
       "      <td>243.770004</td>\n",
       "      <td>34.970001</td>\n",
       "      <td>849.460022</td>\n",
       "      <td>329.630005</td>\n",
       "      <td>50.630001</td>\n",
       "    </tr>\n",
       "    <tr>\n",
       "      <th>2021-02-10</th>\n",
       "      <td>256.940002</td>\n",
       "      <td>3286.580078</td>\n",
       "      <td>356.119995</td>\n",
       "      <td>189.630005</td>\n",
       "      <td>11.76</td>\n",
       "      <td>67.290001</td>\n",
       "      <td>139.660004</td>\n",
       "      <td>49.599998</td>\n",
       "      <td>51.279999</td>\n",
       "      <td>334.209991</td>\n",
       "      <td>242.820007</td>\n",
       "      <td>34.740002</td>\n",
       "      <td>804.820007</td>\n",
       "      <td>333.399994</td>\n",
       "      <td>51.119999</td>\n",
       "    </tr>\n",
       "    <tr>\n",
       "      <th>2021-02-11</th>\n",
       "      <td>258.970001</td>\n",
       "      <td>3262.129883</td>\n",
       "      <td>352.200012</td>\n",
       "      <td>190.910004</td>\n",
       "      <td>11.45</td>\n",
       "      <td>66.919998</td>\n",
       "      <td>139.270004</td>\n",
       "      <td>50.299999</td>\n",
       "      <td>51.419998</td>\n",
       "      <td>342.869995</td>\n",
       "      <td>244.490005</td>\n",
       "      <td>34.430000</td>\n",
       "      <td>811.659973</td>\n",
       "      <td>333.070007</td>\n",
       "      <td>49.840000</td>\n",
       "    </tr>\n",
       "    <tr>\n",
       "      <th>2021-02-12</th>\n",
       "      <td>257.470001</td>\n",
       "      <td>3277.709961</td>\n",
       "      <td>352.750000</td>\n",
       "      <td>187.669998</td>\n",
       "      <td>11.45</td>\n",
       "      <td>66.889999</td>\n",
       "      <td>141.250000</td>\n",
       "      <td>50.689999</td>\n",
       "      <td>51.340000</td>\n",
       "      <td>341.000000</td>\n",
       "      <td>244.990005</td>\n",
       "      <td>34.720001</td>\n",
       "      <td>816.119995</td>\n",
       "      <td>328.239990</td>\n",
       "      <td>50.520000</td>\n",
       "    </tr>\n",
       "  </tbody>\n",
       "</table>\n",
       "<p>14882 rows × 15 columns</p>\n",
       "</div>"
      ],
      "text/plain": [
       "                   ACN         AMZN        COST         DIS      F       GILD  \\\n",
       "Date                                                                            \n",
       "1962-01-02         NaN          NaN         NaN    0.058398    NaN        NaN   \n",
       "1962-01-03         NaN          NaN         NaN    0.059182    NaN        NaN   \n",
       "1962-01-04         NaN          NaN         NaN    0.059182    NaN        NaN   \n",
       "1962-01-05         NaN          NaN         NaN    0.059378    NaN        NaN   \n",
       "1962-01-08         NaN          NaN         NaN    0.059182    NaN        NaN   \n",
       "...                ...          ...         ...         ...    ...        ...   \n",
       "2021-02-08  257.309998  3322.939941  359.829987  190.000000  11.56  67.970001   \n",
       "2021-02-09  257.679993  3305.000000  359.559998  188.210007  11.93  67.300003   \n",
       "2021-02-10  256.940002  3286.580078  356.119995  189.630005  11.76  67.290001   \n",
       "2021-02-11  258.970001  3262.129883  352.200012  190.910004  11.45  66.919998   \n",
       "2021-02-12  257.470001  3277.709961  352.750000  187.669998  11.45  66.889999   \n",
       "\n",
       "                   JPM         KO        LUV          MA        MSFT  \\\n",
       "Date                                                                   \n",
       "1962-01-02         NaN   0.052365        NaN         NaN         NaN   \n",
       "1962-01-03         NaN   0.051198        NaN         NaN         NaN   \n",
       "1962-01-04         NaN   0.051587        NaN         NaN         NaN   \n",
       "1962-01-05         NaN   0.050421        NaN         NaN         NaN   \n",
       "1962-01-08         NaN   0.049902        NaN         NaN         NaN   \n",
       "...                ...        ...        ...         ...         ...   \n",
       "2021-02-08  140.139999  49.919998  52.240002  337.029999  242.470001   \n",
       "2021-02-09  139.580002  49.700001  51.180000  333.440002  243.770004   \n",
       "2021-02-10  139.660004  49.599998  51.279999  334.209991  242.820007   \n",
       "2021-02-11  139.270004  50.299999  51.419998  342.869995  244.490005   \n",
       "2021-02-12  141.250000  50.689999  51.340000  341.000000  244.990005   \n",
       "\n",
       "                  PFE        TSLA         UNH        XOM  \n",
       "Date                                                      \n",
       "1962-01-02        NaN         NaN         NaN   0.107491  \n",
       "1962-01-03        NaN         NaN         NaN   0.109087  \n",
       "1962-01-04        NaN         NaN         NaN   0.109353  \n",
       "1962-01-05        NaN         NaN         NaN   0.106959  \n",
       "1962-01-08        NaN         NaN         NaN   0.106693  \n",
       "...               ...         ...         ...        ...  \n",
       "2021-02-08  34.820000  863.419983  324.339996  51.230000  \n",
       "2021-02-09  34.970001  849.460022  329.630005  50.630001  \n",
       "2021-02-10  34.740002  804.820007  333.399994  51.119999  \n",
       "2021-02-11  34.430000  811.659973  333.070007  49.840000  \n",
       "2021-02-12  34.720001  816.119995  328.239990  50.520000  \n",
       "\n",
       "[14882 rows x 15 columns]"
      ]
     },
     "execution_count": 16,
     "metadata": {},
     "output_type": "execute_result"
    }
   ],
   "source": [
    "prices"
   ]
  },
  {
   "cell_type": "markdown",
   "metadata": {},
   "source": [
    "Let's say we were happy with this portfolio and wanted to actually go out and buy the shares.  To do this, we would need to construct a **discrete allocation** (unless your broker supports fractional shares!)\n",
    "\n",
    "If we had \\$20,0000 to invest and would like our portfolio to be 130/30 long/short, we can construct the actual allocation as follows:"
   ]
  },
  {
   "cell_type": "code",
   "execution_count": 17,
   "metadata": {},
   "outputs": [
    {
     "name": "stdout",
     "output_type": "stream",
     "text": [
      "Discrete allocation performed with $42.97 leftover\n"
     ]
    },
    {
     "data": {
      "text/plain": [
       "{'ACN': 17,\n",
       " 'COST': 5,\n",
       " 'GILD': 12,\n",
       " 'KO': 45,\n",
       " 'LUV': 9,\n",
       " 'MA': 13,\n",
       " 'MSFT': 1,\n",
       " 'PFE': 33,\n",
       " 'TSLA': 3,\n",
       " 'UNH': 2,\n",
       " 'XOM': 27,\n",
       " 'DIS': -6,\n",
       " 'F': -103,\n",
       " 'JPM': -26}"
      ]
     },
     "execution_count": 17,
     "metadata": {},
     "output_type": "execute_result"
    }
   ],
   "source": [
    "from pypfopt import DiscreteAllocation\n",
    "\n",
    "latest_prices = prices.iloc[-1]  # prices as of the day you are allocating\n",
    "da = DiscreteAllocation(weights, latest_prices, total_portfolio_value=20000, short_ratio=0.3)\n",
    "alloc, leftover = da.lp_portfolio()\n",
    "print(f\"Discrete allocation performed with ${leftover:.2f} leftover\")\n",
    "alloc"
   ]
  },
  {
   "cell_type": "markdown",
   "metadata": {},
   "source": [
    "## Max Sharpe with sector constraints\n",
    "\n",
    "If you have your own model for returns (or have read the warnings and want to proceed anyways), you may consider maximising the Sharpe ratio. This theoretically gives the optimal portfolio in terms of risks-returns.\n",
    "\n",
    "In this section, we construct a long-only max-sharpe portfolio, but also incorporate sector constraints. Sector constraints require three things. A `sector_mapper`, your `sector_lower` bounds, and your `sector_upper` bounds."
   ]
  },
  {
   "cell_type": "code",
   "execution_count": 18,
   "metadata": {},
   "outputs": [],
   "source": [
    "sector_mapper = {\n",
    "    \"MSFT\": \"Tech\",\n",
    "    \"AMZN\": \"Consumer Discretionary\",\n",
    "    \"KO\": \"Consumer Staples\",\n",
    "    \"MA\": \"Financial Services\",\n",
    "    \"COST\": \"Consumer Staples\",\n",
    "    \"LUV\": \"Aerospace\",\n",
    "    \"XOM\": \"Energy\",\n",
    "    \"PFE\": \"Healthcare\",\n",
    "    \"JPM\": \"Financial Services\",\n",
    "    \"UNH\": \"Healthcare\",\n",
    "    \"ACN\": \"Misc\",\n",
    "    \"DIS\": \"Media\",\n",
    "    \"GILD\": \"Healthcare\",\n",
    "    \"F\": \"Auto\",\n",
    "    \"TSLA\": \"Auto\"\n",
    "}\n",
    "\n",
    "sector_lower = {\n",
    "    \"Consumer Staples\": 0.1, # at least 10% to staples\n",
    "    \"Tech\": 0.05 # at least 5% to tech\n",
    "    # For all other sectors, it will be assumed there is no lower bound\n",
    "}\n",
    "\n",
    "sector_upper = {\n",
    "    \"Tech\": 0.2,\n",
    "    \"Aerospace\":0.1,\n",
    "    \"Energy\": 0.1,\n",
    "    \"Auto\":0.15\n",
    "}"
   ]
  },
  {
   "cell_type": "markdown",
   "metadata": {},
   "source": [
    "We then set up the optimizer and add our constraints. We can use `ef.add_objective()` to add other constraints. For example, let's say that in addition to the above sector constraints, I specifically want:\n",
    "\n",
    "- 10% of the portfolio in AMZN\n",
    "- Less than 5% of my portfolio in TSLA"
   ]
  },
  {
   "cell_type": "code",
   "execution_count": 19,
   "metadata": {},
   "outputs": [],
   "source": [
    "mu = expected_returns.capm_return(prices)\n",
    "S = risk_models.CovarianceShrinkage(prices).ledoit_wolf()\n",
    "\n",
    "ef = EfficientFrontier(mu, S)  # weight_bounds automatically set to (0, 1)\n",
    "ef.add_sector_constraints(sector_mapper, sector_lower, sector_upper)\n",
    "\n",
    "amzn_index = ef.tickers.index(\"AMZN\")\n",
    "ef.add_constraint(lambda w: w[amzn_index] == 0.10)\n",
    "\n",
    "tsla_index = ef.tickers.index(\"TSLA\")\n",
    "ef.add_constraint(lambda w: w[tsla_index] <= 0.05)\n",
    "\n",
    "ef.add_constraint(lambda w: w[10] >= 0.05)\n",
    "\n",
    "ef.max_sharpe()\n",
    "weights = ef.clean_weights()"
   ]
  },
  {
   "cell_type": "code",
   "execution_count": 20,
   "metadata": {},
   "outputs": [
    {
     "data": {
      "text/plain": [
       "OrderedDict([('ACN', 0.16992),\n",
       "             ('AMZN', 0.1),\n",
       "             ('COST', 0.05577),\n",
       "             ('DIS', 0.0),\n",
       "             ('F', 0.0),\n",
       "             ('GILD', 0.05976),\n",
       "             ('JPM', 0.0),\n",
       "             ('KO', 0.04423),\n",
       "             ('LUV', 0.01928),\n",
       "             ('MA', 0.40059),\n",
       "             ('MSFT', 0.05),\n",
       "             ('PFE', 0.01916),\n",
       "             ('TSLA', 0.05),\n",
       "             ('UNH', 0.0313),\n",
       "             ('XOM', 0.0)])"
      ]
     },
     "execution_count": 20,
     "metadata": {},
     "output_type": "execute_result"
    }
   ],
   "source": [
    "weights"
   ]
  },
  {
   "cell_type": "code",
   "execution_count": 21,
   "metadata": {},
   "outputs": [
    {
     "data": {
      "image/png": "[encoded data removed]",
      "text/plain": [
       "<Figure size 720x720 with 1 Axes>"
      ]
     },
     "metadata": {},
     "output_type": "display_data"
    }
   ],
   "source": [
    "pd.Series(weights).plot.pie(figsize=(10,10));"
   ]
  },
  {
   "cell_type": "markdown",
   "metadata": {},
   "source": [
    "We can immediately see that our explicit constraints were satisfied, and can check all the sector constraints as follows:\n"
   ]
  },
  {
   "cell_type": "code",
   "execution_count": 22,
   "metadata": {},
   "outputs": [
    {
     "name": "stdout",
     "output_type": "stream",
     "text": [
      "Auto: 0.050\n",
      "Misc: 0.170\n",
      "Aerospace: 0.019\n",
      "Tech: 0.050\n",
      "Consumer Discretionary: 0.100\n",
      "Consumer Staples: 0.100\n",
      "Healthcare: 0.110\n",
      "Financial Services: 0.401\n",
      "Energy: 0.000\n",
      "Media: 0.000\n"
     ]
    }
   ],
   "source": [
    "# O(N^2) loop not a good idea in a coding interview :)\n",
    "for sector in set(sector_mapper.values()):\n",
    "    total_weight = 0\n",
    "    for t,w in weights.items():\n",
    "        if sector_mapper[t] == sector:\n",
    "            total_weight += w\n",
    "    print(f\"{sector}: {total_weight:.3f}\")"
   ]
  },
  {
   "cell_type": "markdown",
   "metadata": {},
   "source": [
    "## Maximise return for a given risk, with L2 regularisation\n",
    "\n",
    "Let's imagine that we've put a lot of thought into our risk tolerance, and have decided that we can't accept anything more than 15% volatility. We can use PyPortfolioOpt to construct a portfolio that maximises return for a given risk (with the same caveats about expected returns)."
   ]
  },
  {
   "cell_type": "code",
   "execution_count": 23,
   "metadata": {},
   "outputs": [
    {
     "data": {
      "text/plain": [
       "OrderedDict([('ACN', 0.0),\n",
       "             ('AMZN', 0.19559),\n",
       "             ('COST', 0.1),\n",
       "             ('DIS', 0.0),\n",
       "             ('F', 0.0),\n",
       "             ('GILD', 0.05459),\n",
       "             ('JPM', 0.0),\n",
       "             ('KO', 0.0),\n",
       "             ('LUV', 0.0),\n",
       "             ('MA', 0.44981),\n",
       "             ('MSFT', 0.05),\n",
       "             ('PFE', 0.0),\n",
       "             ('TSLA', 0.15),\n",
       "             ('UNH', 0.0),\n",
       "             ('XOM', 0.0)])"
      ]
     },
     "execution_count": 23,
     "metadata": {},
     "output_type": "execute_result"
    }
   ],
   "source": [
    "ef = EfficientFrontier(mu, S)\n",
    "ef.add_sector_constraints(sector_mapper, sector_lower, sector_upper)\n",
    "ef.efficient_risk(target_volatility=0.15)\n",
    "weights = ef.clean_weights()\n",
    "weights"
   ]
  },
  {
   "cell_type": "code",
   "execution_count": 24,
   "metadata": {},
   "outputs": [
    {
     "name": "stdout",
     "output_type": "stream",
     "text": [
      "9/15 tickers have zero weight\n"
     ]
    }
   ],
   "source": [
    "num_small = len([k for k in weights if weights[k] <= 1e-4])\n",
    "print(f\"{num_small}/{len(ef.tickers)} tickers have zero weight\")"
   ]
  },
  {
   "cell_type": "code",
   "execution_count": 25,
   "metadata": {},
   "outputs": [
    {
     "name": "stdout",
     "output_type": "stream",
     "text": [
      "Expected annual return: 28.0%\n",
      "Annual volatility: 15.0%\n",
      "Sharpe Ratio: 1.74\n"
     ]
    }
   ],
   "source": [
    "ef.portfolio_performance(verbose=True);"
   ]
  },
  {
   "cell_type": "markdown",
   "metadata": {},
   "source": [
    "While this portfolio seems like it meets our objectives, we might be worried by the fact that a lot of the tickers have been assigned zero weight. In effect, the optimizer is \"overfitting\" to the data you have provided -- you are much more likely to get better results by enforcing some level of diversification. One way of doing this is to use **L2 regularisation** – essentially, adding a penalty on the number of near-zero weights."
   ]
  },
  {
   "cell_type": "code",
   "execution_count": 26,
   "metadata": {},
   "outputs": [
    {
     "data": {
      "text/plain": [
       "OrderedDict([('ACN', 0.04657),\n",
       "             ('AMZN', 0.20993),\n",
       "             ('COST', 0.09026),\n",
       "             ('DIS', 0.00859),\n",
       "             ('F', 0.0),\n",
       "             ('GILD', 0.08339),\n",
       "             ('JPM', 0.04231),\n",
       "             ('KO', 0.00974),\n",
       "             ('LUV', 0.02584),\n",
       "             ('MA', 0.25121),\n",
       "             ('MSFT', 0.05),\n",
       "             ('PFE', 0.0),\n",
       "             ('TSLA', 0.15),\n",
       "             ('UNH', 0.03218),\n",
       "             ('XOM', 0.0)])"
      ]
     },
     "execution_count": 26,
     "metadata": {},
     "output_type": "execute_result"
    }
   ],
   "source": [
    "from pypfopt import objective_functions\n",
    "\n",
    "# You must always create a new efficient frontier object\n",
    "ef = EfficientFrontier(mu, S)\n",
    "ef.add_sector_constraints(sector_mapper, sector_lower, sector_upper)\n",
    "ef.add_objective(objective_functions.L2_reg, gamma=0.1)  # gamme is the tuning parameter\n",
    "ef.efficient_risk(0.15)\n",
    "weights = ef.clean_weights()\n",
    "weights"
   ]
  },
  {
   "cell_type": "code",
   "execution_count": 27,
   "metadata": {},
   "outputs": [
    {
     "name": "stdout",
     "output_type": "stream",
     "text": [
      "3/15 tickers have zero weight\n"
     ]
    }
   ],
   "source": [
    "num_small = len([k for k in weights if weights[k] <= 1e-4])\n",
    "print(f\"{num_small}/{len(ef.tickers)} tickers have zero weight\")"
   ]
  },
  {
   "cell_type": "markdown",
   "metadata": {},
   "source": [
    "We can tune the value of gamma to choose the number of nonzero tickers. Larger gamma pulls portfolio weights towards an equal allocation."
   ]
  },
  {
   "cell_type": "code",
   "execution_count": 28,
   "metadata": {},
   "outputs": [
    {
     "data": {
      "text/plain": [
       "OrderedDict([('ACN', 0.05574),\n",
       "             ('AMZN', 0.13199),\n",
       "             ('COST', 0.06176),\n",
       "             ('DIS', 0.06239),\n",
       "             ('F', 0.06018),\n",
       "             ('GILD', 0.0805),\n",
       "             ('JPM', 0.07749),\n",
       "             ('KO', 0.03824),\n",
       "             ('LUV', 0.06422),\n",
       "             ('MA', 0.08385),\n",
       "             ('MSFT', 0.07061),\n",
       "             ('PFE', 0.0403),\n",
       "             ('TSLA', 0.08982),\n",
       "             ('UNH', 0.06207),\n",
       "             ('XOM', 0.02083)])"
      ]
     },
     "execution_count": 28,
     "metadata": {},
     "output_type": "execute_result"
    }
   ],
   "source": [
    "ef = EfficientFrontier(mu, S)\n",
    "ef.add_sector_constraints(sector_mapper, sector_lower, sector_upper)\n",
    "ef.add_objective(objective_functions.L2_reg, gamma=1)  # gamme is the tuning parameter\n",
    "ef.efficient_risk(0.15)\n",
    "weights = ef.clean_weights()\n",
    "weights"
   ]
  },
  {
   "cell_type": "code",
   "execution_count": 29,
   "metadata": {},
   "outputs": [
    {
     "name": "stderr",
     "output_type": "stream",
     "text": [
      "/Users/Robert/Library/Caches/pypoetry/virtualenvs/pyportfolioopt-0mcST3QB-py3.8/lib/python3.8/site-packages/pandas/plotting/_matplotlib/core.py:1487: MatplotlibDeprecationWarning: normalize=None does not normalize if the sum is less than 1 but this behavior is deprecated since 3.3 until two minor releases later. After the deprecation period the default value will be normalize=True. To prevent normalization pass normalize=False \n",
      "  results = ax.pie(y, labels=blabels, **kwds)\n"
     ]
    },
    {
     "data": {
      "image/png": "[encoded data removed]",
      "text/plain": [
       "<Figure size 720x720 with 1 Axes>"
      ]
     },
     "metadata": {},
     "output_type": "display_data"
    }
   ],
   "source": [
    "pd.Series(weights).plot.pie(figsize=(10, 10));"
   ]
  },
  {
   "cell_type": "code",
   "execution_count": 30,
   "metadata": {},
   "outputs": [
    {
     "name": "stdout",
     "output_type": "stream",
     "text": [
      "Expected annual return: 25.0%\n",
      "Annual volatility: 14.8%\n",
      "Sharpe Ratio: 1.55\n"
     ]
    }
   ],
   "source": [
    "ef.portfolio_performance(verbose=True);"
   ]
  },
  {
   "cell_type": "markdown",
   "metadata": {},
   "source": [
    "The resulting portfolio still has a volatility of less than our 15% limit. It's in-sample Sharpe ratio has gone down, but this portfolio is a lot more robust for actual investment."
   ]
  },
  {
   "cell_type": "markdown",
   "metadata": {},
   "source": [
    "## Minimise risk for a given return, market-neutral\n",
    "\n",
    "We may instead be in the situation where we have a certain required rate of return (maybe we are a pension fund that needs 7% return a year), but would like to minimise risk. Additionally, suppose we would like our portfolio to be market neutral, in the sense that it is equally exposed to the long and short sides.  "
   ]
  },
  {
   "cell_type": "code",
   "execution_count": 31,
   "metadata": {},
   "outputs": [
    {
     "data": {
      "text/plain": [
       "OrderedDict([('ACN', -0.03364),\n",
       "             ('AMZN', 0.21501),\n",
       "             ('COST', -0.05815),\n",
       "             ('DIS', -0.00544),\n",
       "             ('F', -0.00802),\n",
       "             ('GILD', 0.04904),\n",
       "             ('JPM', 0.0435),\n",
       "             ('KO', -0.13562),\n",
       "             ('LUV', -0.0017),\n",
       "             ('MA', 0.06626),\n",
       "             ('MSFT', 0.01864),\n",
       "             ('PFE', -0.08174),\n",
       "             ('TSLA', 0.09114),\n",
       "             ('UNH', -0.00844),\n",
       "             ('XOM', -0.15083)])"
      ]
     },
     "execution_count": 31,
     "metadata": {},
     "output_type": "execute_result"
    }
   ],
   "source": [
    "# Must have no weight bounds to allow shorts\n",
    "ef = EfficientFrontier(mu, S, weight_bounds=(None, None))\n",
    "ef.add_objective(objective_functions.L2_reg)\n",
    "ef.efficient_return(target_return=0.07, market_neutral=True)\n",
    "weights = ef.clean_weights()\n",
    "weights"
   ]
  },
  {
   "cell_type": "code",
   "execution_count": 32,
   "metadata": {},
   "outputs": [
    {
     "name": "stdout",
     "output_type": "stream",
     "text": [
      "Expected annual return: 7.0%\n",
      "Annual volatility: 10.3%\n",
      "Sharpe Ratio: 0.48\n"
     ]
    }
   ],
   "source": [
    "ef.portfolio_performance(verbose=True);"
   ]
  },
  {
   "cell_type": "code",
   "execution_count": 33,
   "metadata": {},
   "outputs": [
    {
     "data": {
      "image/png": "[encoded data removed]",
      "text/plain": [
       "<Figure size 720x432 with 1 Axes>"
      ]
     },
     "metadata": {
      "needs_background": "light"
     },
     "output_type": "display_data"
    }
   ],
   "source": [
    "pd.Series(weights).plot.barh(figsize=(10,6));"
   ]
  },
  {
   "cell_type": "code",
   "execution_count": 34,
   "metadata": {},
   "outputs": [
    {
     "name": "stdout",
     "output_type": "stream",
     "text": [
      "Net weight: 0.00\n"
     ]
    }
   ],
   "source": [
    "print(f\"Net weight: {sum(weights.values()):.2f}\")"
   ]
  },
  {
   "cell_type": "markdown",
   "metadata": {},
   "source": [
    "## Efficient semi-variance optimization\n",
    "\n",
    "In this example, we will minimise the portfolio semivariance (i.e downside volatility) subject to a return constraint (target 20%).\n",
    "\n",
    "There are actually two ways of doing this in PyPortfolioOpt. The first is the \"intuitive\" way. We compute a semicovariance matrix, and pass this into `EfficientFrontier` (just like we would do for the exponential cov matrix or the Ledoit-Wolf shrunk matrix)."
   ]
  },
  {
   "cell_type": "code",
   "execution_count": 35,
   "metadata": {},
   "outputs": [
    {
     "data": {
      "image/png": "[encoded data removed]",
      "text/plain": [
       "<Figure size 432x288 with 2 Axes>"
      ]
     },
     "metadata": {
      "needs_background": "light"
     },
     "output_type": "display_data"
    }
   ],
   "source": [
    "semicov = risk_models.semicovariance(prices, benchmark=0)\n",
    "plotting.plot_covariance(semicov);"
   ]
  },
  {
   "cell_type": "code",
   "execution_count": 36,
   "metadata": {},
   "outputs": [
    {
     "data": {
      "text/plain": [
       "OrderedDict([('ACN', 0.25166),\n",
       "             ('AMZN', 0.0),\n",
       "             ('COST', 0.08784),\n",
       "             ('DIS', 0.0),\n",
       "             ('F', 0.0),\n",
       "             ('GILD', 0.00688),\n",
       "             ('JPM', 0.0),\n",
       "             ('KO', 0.12619),\n",
       "             ('LUV', 0.0),\n",
       "             ('MA', 0.31295),\n",
       "             ('MSFT', 0.0),\n",
       "             ('PFE', 0.04611),\n",
       "             ('TSLA', 0.15944),\n",
       "             ('UNH', 0.0),\n",
       "             ('XOM', 0.00891)])"
      ]
     },
     "execution_count": 36,
     "metadata": {},
     "output_type": "execute_result"
    }
   ],
   "source": [
    "ef = EfficientFrontier(mu, semicov)\n",
    "ef.efficient_return(0.2)\n",
    "weights = ef.clean_weights()\n",
    "weights\n"
   ]
  },
  {
   "cell_type": "code",
   "execution_count": 37,
   "metadata": {},
   "outputs": [
    {
     "name": "stdout",
     "output_type": "stream",
     "text": [
      "Expected annual return: 23.0%\n",
      "Annual volatility: 8.8%\n",
      "Sharpe Ratio: 2.38\n"
     ]
    }
   ],
   "source": [
    "ef.portfolio_performance(verbose=True);"
   ]
  },
  {
   "cell_type": "markdown",
   "metadata": {},
   "source": [
    "However, this solution is not truly optimal in mean-semivariance space. To do the optimization properly, we must use the `EfficientSemivariance` class. This requires us to first compute the returns and drop NaNs."
   ]
  },
  {
   "cell_type": "code",
   "execution_count": 38,
   "metadata": {},
   "outputs": [],
   "source": [
    "returns = expected_returns.returns_from_prices(prices)\n",
    "returns = returns.dropna()"
   ]
  },
  {
   "cell_type": "code",
   "execution_count": 39,
   "metadata": {},
   "outputs": [
    {
     "name": "stdout",
     "output_type": "stream",
     "text": [
      "Expected annual return: 20.0%\n",
      "Annual semi-deviation: 10.3%\n",
      "Sortino Ratio: 1.75\n"
     ]
    }
   ],
   "source": [
    "from pypfopt import EfficientSemivariance\n",
    "\n",
    "es = EfficientSemivariance(mu, returns)\n",
    "es.efficient_return(0.2)\n",
    "es.portfolio_performance(verbose=True);\n"
   ]
  },
  {
   "cell_type": "markdown",
   "metadata": {},
   "source": [
    "To compare this with the heuristic solution, I will use a quick hack: replacing the `es.weights` with `es.weights` and running `es.portfolio_performance` again. Please don't be encouraged to do this in real life!"
   ]
  },
  {
   "cell_type": "code",
   "execution_count": 40,
   "metadata": {},
   "outputs": [
    {
     "name": "stdout",
     "output_type": "stream",
     "text": [
      "Expected annual return: 23.0%\n",
      "Annual semi-deviation: 14.4%\n",
      "Sortino Ratio: 1.45\n"
     ]
    }
   ],
   "source": [
    "es.weights = ef.weights\n",
    "es.portfolio_performance(verbose=True);"
   ]
  },
  {
   "cell_type": "markdown",
   "metadata": {},
   "source": [
    "We see that the heuristic method has a significantly lower Sortino ratio, and much higher semivariance."
   ]
  },
  {
   "cell_type": "markdown",
   "metadata": {},
   "source": [
    "## Efficient CVaR optimization\n",
    "\n",
    "In this example, we will find the portfolio that maximises return subject to a CVaR constraint.\n",
    "\n",
    "Before doing this, let's first compute the 95%-CVaR for the max-sharpe portfolio."
   ]
  },
  {
   "cell_type": "code",
   "execution_count": 41,
   "metadata": {},
   "outputs": [
    {
     "data": {
      "text/html": [
       "<div>\n",
       "<style scoped>\n",
       "    .dataframe tbody tr th:only-of-type {\n",
       "        vertical-align: middle;\n",
       "    }\n",
       "\n",
       "    .dataframe tbody tr th {\n",
       "        vertical-align: top;\n",
       "    }\n",
       "\n",
       "    .dataframe thead th {\n",
       "        text-align: right;\n",
       "    }\n",
       "</style>\n",
       "<table border=\"1\" class=\"dataframe\">\n",
       "  <thead>\n",
       "    <tr style=\"text-align: right;\">\n",
       "      <th></th>\n",
       "      <th>ACN</th>\n",
       "      <th>AMZN</th>\n",
       "      <th>COST</th>\n",
       "      <th>DIS</th>\n",
       "      <th>F</th>\n",
       "      <th>GILD</th>\n",
       "      <th>JPM</th>\n",
       "      <th>KO</th>\n",
       "      <th>LUV</th>\n",
       "      <th>MA</th>\n",
       "      <th>MSFT</th>\n",
       "      <th>PFE</th>\n",
       "      <th>TSLA</th>\n",
       "      <th>UNH</th>\n",
       "      <th>XOM</th>\n",
       "    </tr>\n",
       "    <tr>\n",
       "      <th>Date</th>\n",
       "      <th></th>\n",
       "      <th></th>\n",
       "      <th></th>\n",
       "      <th></th>\n",
       "      <th></th>\n",
       "      <th></th>\n",
       "      <th></th>\n",
       "      <th></th>\n",
       "      <th></th>\n",
       "      <th></th>\n",
       "      <th></th>\n",
       "      <th></th>\n",
       "      <th></th>\n",
       "      <th></th>\n",
       "      <th></th>\n",
       "    </tr>\n",
       "  </thead>\n",
       "  <tbody>\n",
       "    <tr>\n",
       "      <th>2010-06-30</th>\n",
       "      <td>0.000000</td>\n",
       "      <td>0.005985</td>\n",
       "      <td>-0.014380</td>\n",
       "      <td>-0.024768</td>\n",
       "      <td>0.020243</td>\n",
       "      <td>-0.019731</td>\n",
       "      <td>-0.012142</td>\n",
       "      <td>-0.004172</td>\n",
       "      <td>0.000000</td>\n",
       "      <td>-0.017045</td>\n",
       "      <td>-0.012870</td>\n",
       "      <td>-0.001401</td>\n",
       "      <td>-0.002512</td>\n",
       "      <td>-0.008033</td>\n",
       "      <td>-0.003840</td>\n",
       "    </tr>\n",
       "    <tr>\n",
       "      <th>2010-07-01</th>\n",
       "      <td>-0.009573</td>\n",
       "      <td>0.015559</td>\n",
       "      <td>0.001276</td>\n",
       "      <td>-0.000317</td>\n",
       "      <td>0.048611</td>\n",
       "      <td>-0.004084</td>\n",
       "      <td>-0.013129</td>\n",
       "      <td>-0.001796</td>\n",
       "      <td>-0.010802</td>\n",
       "      <td>0.016652</td>\n",
       "      <td>0.006520</td>\n",
       "      <td>-0.002104</td>\n",
       "      <td>-0.078472</td>\n",
       "      <td>-0.019366</td>\n",
       "      <td>-0.008060</td>\n",
       "    </tr>\n",
       "    <tr>\n",
       "      <th>2010-07-02</th>\n",
       "      <td>-0.008882</td>\n",
       "      <td>-0.016402</td>\n",
       "      <td>-0.012204</td>\n",
       "      <td>-0.003493</td>\n",
       "      <td>-0.027436</td>\n",
       "      <td>0.021383</td>\n",
       "      <td>-0.006929</td>\n",
       "      <td>0.000400</td>\n",
       "      <td>-0.021838</td>\n",
       "      <td>0.000345</td>\n",
       "      <td>0.004749</td>\n",
       "      <td>-0.006324</td>\n",
       "      <td>-0.125683</td>\n",
       "      <td>0.016158</td>\n",
       "      <td>-0.000707</td>\n",
       "    </tr>\n",
       "    <tr>\n",
       "      <th>2010-07-06</th>\n",
       "      <td>0.012388</td>\n",
       "      <td>0.008430</td>\n",
       "      <td>-0.004241</td>\n",
       "      <td>0.010835</td>\n",
       "      <td>-0.011673</td>\n",
       "      <td>-0.002868</td>\n",
       "      <td>0.013955</td>\n",
       "      <td>0.007593</td>\n",
       "      <td>-0.011163</td>\n",
       "      <td>-0.013513</td>\n",
       "      <td>0.023636</td>\n",
       "      <td>0.010608</td>\n",
       "      <td>-0.160938</td>\n",
       "      <td>0.020848</td>\n",
       "      <td>0.015733</td>\n",
       "    </tr>\n",
       "    <tr>\n",
       "      <th>2010-07-07</th>\n",
       "      <td>0.022129</td>\n",
       "      <td>0.030620</td>\n",
       "      <td>0.005371</td>\n",
       "      <td>0.044767</td>\n",
       "      <td>0.042323</td>\n",
       "      <td>0.004889</td>\n",
       "      <td>0.050096</td>\n",
       "      <td>0.020623</td>\n",
       "      <td>0.062088</td>\n",
       "      <td>0.037694</td>\n",
       "      <td>0.020151</td>\n",
       "      <td>0.023093</td>\n",
       "      <td>-0.019243</td>\n",
       "      <td>0.010730</td>\n",
       "      <td>0.016881</td>\n",
       "    </tr>\n",
       "  </tbody>\n",
       "</table>\n",
       "</div>"
      ],
      "text/plain": [
       "                 ACN      AMZN      COST       DIS         F      GILD  \\\n",
       "Date                                                                     \n",
       "2010-06-30  0.000000  0.005985 -0.014380 -0.024768  0.020243 -0.019731   \n",
       "2010-07-01 -0.009573  0.015559  0.001276 -0.000317  0.048611 -0.004084   \n",
       "2010-07-02 -0.008882 -0.016402 -0.012204 -0.003493 -0.027436  0.021383   \n",
       "2010-07-06  0.012388  0.008430 -0.004241  0.010835 -0.011673 -0.002868   \n",
       "2010-07-07  0.022129  0.030620  0.005371  0.044767  0.042323  0.004889   \n",
       "\n",
       "                 JPM        KO       LUV        MA      MSFT       PFE  \\\n",
       "Date                                                                     \n",
       "2010-06-30 -0.012142 -0.004172  0.000000 -0.017045 -0.012870 -0.001401   \n",
       "2010-07-01 -0.013129 -0.001796 -0.010802  0.016652  0.006520 -0.002104   \n",
       "2010-07-02 -0.006929  0.000400 -0.021838  0.000345  0.004749 -0.006324   \n",
       "2010-07-06  0.013955  0.007593 -0.011163 -0.013513  0.023636  0.010608   \n",
       "2010-07-07  0.050096  0.020623  0.062088  0.037694  0.020151  0.023093   \n",
       "\n",
       "                TSLA       UNH       XOM  \n",
       "Date                                      \n",
       "2010-06-30 -0.002512 -0.008033 -0.003840  \n",
       "2010-07-01 -0.078472 -0.019366 -0.008060  \n",
       "2010-07-02 -0.125683  0.016158 -0.000707  \n",
       "2010-07-06 -0.160938  0.020848  0.015733  \n",
       "2010-07-07 -0.019243  0.010730  0.016881  "
      ]
     },
     "execution_count": 41,
     "metadata": {},
     "output_type": "execute_result"
    }
   ],
   "source": [
    "returns = expected_returns.returns_from_prices(prices).dropna()\n",
    "returns.head()"
   ]
  },
  {
   "cell_type": "code",
   "execution_count": 42,
   "metadata": {},
   "outputs": [
    {
     "name": "stdout",
     "output_type": "stream",
     "text": [
      "Expected annual return: 25.8%\n",
      "Annual volatility: 12.8%\n",
      "Sharpe Ratio: 1.86\n"
     ]
    }
   ],
   "source": [
    "ef = EfficientFrontier(mu, S)\n",
    "ef.max_sharpe()\n",
    "weight_arr = ef.weights\n",
    "ef.portfolio_performance(verbose=True);"
   ]
  },
  {
   "cell_type": "code",
   "execution_count": 43,
   "metadata": {},
   "outputs": [
    {
     "data": {
      "image/png": "[encoded data removed]",
      "text/plain": [
       "<Figure size 432x288 with 1 Axes>"
      ]
     },
     "metadata": {
      "needs_background": "light"
     },
     "output_type": "display_data"
    }
   ],
   "source": [
    "# Compute CVaR\n",
    "portfolio_rets = (returns * weight_arr).sum(axis=1)\n",
    "portfolio_rets.hist(bins=50);"
   ]
  },
  {
   "cell_type": "code",
   "execution_count": 44,
   "metadata": {},
   "outputs": [
    {
     "name": "stdout",
     "output_type": "stream",
     "text": [
      "VaR: -2.19%\n",
      "CVaR: -3.35%\n"
     ]
    }
   ],
   "source": [
    "# VaR\n",
    "var = portfolio_rets.quantile(0.05)\n",
    "cvar = portfolio_rets[portfolio_rets <= var].mean()\n",
    "print(\"VaR: {:.2f}%\".format(100*var))\n",
    "print(\"CVaR: {:.2f}%\".format(100*cvar))"
   ]
  },
  {
   "cell_type": "markdown",
   "metadata": {},
   "source": [
    "This value of the CVaR means that our average loss on the worst 5% of days will be -3.35%. Let's say that this were beyond our comfort zone (for a \\\\$100,000 portfolio, this would mean losing \\\\$3350 in a day).\n",
    "\n",
    "Let's firstly construct the portfolio with the minimum CVaR:"
   ]
  },
  {
   "cell_type": "code",
   "execution_count": 45,
   "metadata": {},
   "outputs": [
    {
     "name": "stdout",
     "output_type": "stream",
     "text": [
      "Expected annual return: 18.1%\n",
      "Conditional Value at Risk: 2.16%\n"
     ]
    }
   ],
   "source": [
    "from pypfopt import EfficientCVaR\n",
    "\n",
    "ec = EfficientCVaR(mu, returns)\n",
    "ec.min_cvar()\n",
    "ec.portfolio_performance(verbose=True);"
   ]
  },
  {
   "cell_type": "markdown",
   "metadata": {},
   "source": [
    "We have significantly reduced the CVaR, but at the cost of a large reduction in returns. We can use `efficient_risk` to maximise the return for a target risk. Let's say that a 2.5% CVaR is acceptable."
   ]
  },
  {
   "cell_type": "code",
   "execution_count": 46,
   "metadata": {},
   "outputs": [
    {
     "name": "stdout",
     "output_type": "stream",
     "text": [
      "Expected annual return: 24.7%\n",
      "Conditional Value at Risk: 2.50%\n"
     ]
    }
   ],
   "source": [
    "from pypfopt import EfficientCVaR\n",
    "\n",
    "ec = EfficientCVaR(mu, returns)\n",
    "ec.efficient_risk(target_cvar=0.025)\n",
    "ec.portfolio_performance(verbose=True);"
   ]
  },
  {
   "cell_type": "markdown",
   "metadata": {},
   "source": [
    "We now have similar returns to before (24.7% vs 25.8%), but with a lower tail risk (2.50% CVaR vs 3.35%). "
   ]
  },
  {
   "cell_type": "markdown",
   "metadata": {},
   "source": [
    "## Plotting - Unconstrained\n",
    "\n",
    "To plot the unconstrained efficient frontier, it is easiest to use the critical line algorithm. "
   ]
  },
  {
   "cell_type": "code",
   "execution_count": 47,
   "metadata": {},
   "outputs": [
    {
     "name": "stdout",
     "output_type": "stream",
     "text": [
      "Expected annual return: 25.6%\n",
      "Annual volatility: 12.7%\n",
      "Sharpe Ratio: 1.86\n"
     ]
    }
   ],
   "source": [
    "from pypfopt import CLA, plotting\n",
    "\n",
    "cla = CLA(mu, S)\n",
    "cla.max_sharpe()\n",
    "cla.portfolio_performance(verbose=True);"
   ]
  },
  {
   "cell_type": "code",
   "execution_count": 48,
   "metadata": {},
   "outputs": [
    {
     "data": {
      "image/png": "[encoded data removed]",
      "text/plain": [
       "<Figure size 432x288 with 1 Axes>"
      ]
     },
     "metadata": {
      "needs_background": "light"
     },
     "output_type": "display_data"
    }
   ],
   "source": [
    "ax = plotting.plot_efficient_frontier(cla, showfig=False)"
   ]
  },
  {
   "cell_type": "markdown",
   "metadata": {},
   "source": [
    "## Plotting - Constrained"
   ]
  },
  {
   "cell_type": "markdown",
   "metadata": {},
   "source": [
    "In this example, we will plot the efficient frontier corresponding to portfolios with a constraint on exposure to MSFT, AMZN, and TSLA (e.g maybe we want to avoid big tech)."
   ]
  },
  {
   "cell_type": "code",
   "execution_count": 49,
   "metadata": {},
   "outputs": [],
   "source": [
    "import cvxpy as cp\n",
    "\n",
    "mu = expected_returns.capm_return(prices)\n",
    "S = risk_models.CovarianceShrinkage(prices).ledoit_wolf()\n",
    "\n",
    "ef = EfficientFrontier(mu, S,)\n",
    "big_tech_indices = [t in {\"MSFT\", \"AMZN\", \"TSLA\"} for t in tickers]\n",
    "ef.add_constraint(lambda w: cp.sum(w[big_tech_indices]) <= 0.3)"
   ]
  },
  {
   "cell_type": "markdown",
   "metadata": {},
   "source": [
    "As per the docs, *before* we call any optimization function, we should pass this to the plotting module:"
   ]
  },
  {
   "cell_type": "code",
   "execution_count": 50,
   "metadata": {},
   "outputs": [
    {
     "data": {
      "image/png": "[encoded data removed]",
      "text/plain": [
       "<Figure size 432x288 with 1 Axes>"
      ]
     },
     "metadata": {
      "needs_background": "light"
     },
     "output_type": "display_data"
    }
   ],
   "source": [
    "ax = plotting.plot_efficient_frontier(ef, ef_param=\"risk\", \n",
    "                                      ef_param_range=np.linspace(0.12, 0.4, 50), \n",
    "                                      showfig=False);"
   ]
  },
  {
   "cell_type": "markdown",
   "metadata": {},
   "source": [
    "## Complex plots\n",
    "\n",
    "The `plotting` module allows you to pass in an `ax`, on top of which the plots are added. This allows you to build complex plots. \n",
    "\n",
    "In this example, we will plot the efficient frontier as well as 10,000 simulated portfolios. \n",
    "\n",
    "To generate the simulated portfolios, we will sample random weights from the Dirichlet distribution (these are already normalised):"
   ]
  },
  {
   "cell_type": "code",
   "execution_count": 51,
   "metadata": {},
   "outputs": [
    {
     "name": "stdout",
     "output_type": "stream",
     "text": [
      "Sample portfolio returns: [0.21286206 0.21820475 0.22013716 ... 0.21642456 0.23530824 0.24139073]\n",
      "Sample portfolio volatilities: [0.14446284 0.16609061 0.14438936 ... 0.14572046 0.16494929 0.13686405]\n"
     ]
    }
   ],
   "source": [
    "n_samples = 10000\n",
    "w = np.random.dirichlet(np.ones(len(mu)), n_samples)\n",
    "rets = w.dot(mu)\n",
    "stds = np.sqrt((w.T * (S @ w.T)).sum(axis=0))\n",
    "sharpes = rets / stds\n",
    "\n",
    "print(\"Sample portfolio returns:\", rets)\n",
    "print(\"Sample portfolio volatilities:\", stds)"
   ]
  },
  {
   "cell_type": "markdown",
   "metadata": {},
   "source": [
    "Note that the above code is equivalent to generating samples via a for loop (just more efficient)"
   ]
  },
  {
   "cell_type": "code",
   "execution_count": 52,
   "metadata": {},
   "outputs": [],
   "source": [
    "# mus = []\n",
    "# stds = []\n",
    "# sharpes = []\n",
    "# for _ in range(10000):\n",
    "#     w = np.random.dirichlet(np.ones(len(mu)))\n",
    "#     # w = np.random.rand(len(mu))\n",
    "#     # w /= w.sum()\n",
    "#     ret = mu.dot(w)\n",
    "#     std = np.sqrt(w.dot(S @ w))\n",
    "#     mus.append(ret)\n",
    "#     stds.append(std)\n",
    "#     sharpes.append(ret / std)"
   ]
  },
  {
   "cell_type": "code",
   "execution_count": 53,
   "metadata": {},
   "outputs": [
    {
     "data": {
      "image/png": "[encoded data removed]",
      "text/plain": [
       "<Figure size 432x288 with 1 Axes>"
      ]
     },
     "metadata": {
      "needs_background": "light"
     },
     "output_type": "display_data"
    }
   ],
   "source": [
    "# Plot efficient frontier with Monte Carlo sim\n",
    "ef = EfficientFrontier(mu, S)\n",
    "\n",
    "fig, ax = plt.subplots()\n",
    "plotting.plot_efficient_frontier(ef, ax=ax, show_assets=False)\n",
    "\n",
    "# Find and plot the tangency portfolio\n",
    "ef.max_sharpe()\n",
    "ret_tangent, std_tangent, _ = ef.portfolio_performance()\n",
    "ax.scatter(std_tangent, ret_tangent, marker=\"*\", s=100, c=\"r\", label=\"Max Sharpe\")\n",
    "\n",
    "# Plot random portfolios\n",
    "ax.scatter(stds, rets, marker=\".\", c=sharpes, cmap=\"viridis_r\")\n",
    "\n",
    "# Format\n",
    "ax.set_title(\"Efficient Frontier with random portfolios\")\n",
    "ax.legend()\n",
    "plt.tight_layout()\n",
    "plt.show()\n"
   ]
  },
  {
   "cell_type": "code",
   "execution_count": null,
   "metadata": {},
   "outputs": [],
   "source": []
  }
 ],
 "metadata": {
  "kernelspec": {
   "display_name": "pyportfolioopt",
   "language": "python",
   "name": "pyportfolioopt"
  },
  "language_info": {
   "codemirror_mode": {
    "name": "ipython",
    "version": 3
   },
   "file_extension": ".py",
   "mimetype": "text/x-python",
   "name": "python",
   "nbconvert_exporter": "python",
   "pygments_lexer": "ipython3",
   "version": "3.8.6"
  }
 },
 "nbformat": 4,
 "nbformat_minor": 4
}

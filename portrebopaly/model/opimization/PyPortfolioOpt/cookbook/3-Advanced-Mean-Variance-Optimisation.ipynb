{
 "cells": [
  {
   "cell_type": "markdown",
   "metadata": {},
   "source": [
    "# Advanced MVO - custom objectives\n",
    "\n",
    "PyPortfolioOpt has implemented some of the most common objective functions (e.g `min_volatility`, `max_sharpe`, `max_quadratic_utility`, `efficient_risk`, `efficient_return`). However, sometimes yoy may have an idea for a different objective function.\n",
    "\n",
    "In this cookbook recipe, we cover:\n",
    "\n",
    "- Mininimising transaction costs\n",
    "- Custom convex objectives\n",
    "- Custom nonconvex objectives\n",
    "\n",
    "## Acquiring data\n",
    "\n",
    "As discussed in the previous notebook, assets are an exogenous input (i.e you must come up with a list of tickers). We will use `yfinance` to download data for thesee tickers"
   ]
  },
  {
   "cell_type": "code",
   "execution_count": 1,
   "metadata": {},
   "outputs": [],
   "source": [
    "import yfinance as yf\n",
    "import pandas as pd\n",
    "import numpy as np\n",
    "import matplotlib.pyplot as plt"
   ]
  },
  {
   "cell_type": "code",
   "execution_count": 2,
   "metadata": {},
   "outputs": [],
   "source": [
    "tickers = [\"BLK\", \"BAC\", \"AAPL\", \"TM\", \"WMT\",\n",
    "           \"JD\", \"INTU\", \"MA\", \"UL\", \"CVS\",\n",
    "           \"DIS\", \"AMD\", \"NVDA\", \"PBI\", \"TGT\"]"
   ]
  },
  {
   "cell_type": "code",
   "execution_count": 3,
   "metadata": {},
   "outputs": [
    {
     "name": "stdout",
     "output_type": "stream",
     "text": [
      "[*********************100%***********************]  15 of 15 completed\n"
     ]
    }
   ],
   "source": [
    "ohlc = yf.download(tickers, period=\"max\")"
   ]
  },
  {
   "cell_type": "code",
   "execution_count": 4,
   "metadata": {},
   "outputs": [
    {
     "data": {
      "text/html": [
       "<div>\n",
       "<style scoped>\n",
       "    .dataframe tbody tr th:only-of-type {\n",
       "        vertical-align: middle;\n",
       "    }\n",
       "\n",
       "    .dataframe tbody tr th {\n",
       "        vertical-align: top;\n",
       "    }\n",
       "\n",
       "    .dataframe thead th {\n",
       "        text-align: right;\n",
       "    }\n",
       "</style>\n",
       "<table border=\"1\" class=\"dataframe\">\n",
       "  <thead>\n",
       "    <tr style=\"text-align: right;\">\n",
       "      <th></th>\n",
       "      <th>AAPL</th>\n",
       "      <th>AMD</th>\n",
       "      <th>BAC</th>\n",
       "      <th>BLK</th>\n",
       "      <th>CVS</th>\n",
       "      <th>DIS</th>\n",
       "      <th>INTU</th>\n",
       "      <th>JD</th>\n",
       "      <th>MA</th>\n",
       "      <th>NVDA</th>\n",
       "      <th>PBI</th>\n",
       "      <th>TGT</th>\n",
       "      <th>TM</th>\n",
       "      <th>UL</th>\n",
       "      <th>WMT</th>\n",
       "    </tr>\n",
       "    <tr>\n",
       "      <th>Date</th>\n",
       "      <th></th>\n",
       "      <th></th>\n",
       "      <th></th>\n",
       "      <th></th>\n",
       "      <th></th>\n",
       "      <th></th>\n",
       "      <th></th>\n",
       "      <th></th>\n",
       "      <th></th>\n",
       "      <th></th>\n",
       "      <th></th>\n",
       "      <th></th>\n",
       "      <th></th>\n",
       "      <th></th>\n",
       "      <th></th>\n",
       "    </tr>\n",
       "  </thead>\n",
       "  <tbody>\n",
       "    <tr>\n",
       "      <th>2021-01-22</th>\n",
       "      <td>139.070007</td>\n",
       "      <td>92.790001</td>\n",
       "      <td>31.549999</td>\n",
       "      <td>735.049988</td>\n",
       "      <td>74.120003</td>\n",
       "      <td>172.779999</td>\n",
       "      <td>374.850006</td>\n",
       "      <td>94.910004</td>\n",
       "      <td>328.989990</td>\n",
       "      <td>548.500000</td>\n",
       "      <td>7.19</td>\n",
       "      <td>191.910004</td>\n",
       "      <td>147.949997</td>\n",
       "      <td>59.660000</td>\n",
       "      <td>146.330002</td>\n",
       "    </tr>\n",
       "    <tr>\n",
       "      <th>2021-01-25</th>\n",
       "      <td>142.919998</td>\n",
       "      <td>94.129997</td>\n",
       "      <td>31.160000</td>\n",
       "      <td>722.979980</td>\n",
       "      <td>73.209999</td>\n",
       "      <td>171.889999</td>\n",
       "      <td>374.429993</td>\n",
       "      <td>98.379997</td>\n",
       "      <td>329.190002</td>\n",
       "      <td>546.130005</td>\n",
       "      <td>7.53</td>\n",
       "      <td>190.149994</td>\n",
       "      <td>146.720001</td>\n",
       "      <td>60.970001</td>\n",
       "      <td>146.199997</td>\n",
       "    </tr>\n",
       "    <tr>\n",
       "      <th>2021-01-26</th>\n",
       "      <td>143.160004</td>\n",
       "      <td>94.709999</td>\n",
       "      <td>30.940001</td>\n",
       "      <td>721.849976</td>\n",
       "      <td>74.230003</td>\n",
       "      <td>169.559998</td>\n",
       "      <td>374.799988</td>\n",
       "      <td>96.970001</td>\n",
       "      <td>327.700012</td>\n",
       "      <td>537.409973</td>\n",
       "      <td>13.63</td>\n",
       "      <td>187.699997</td>\n",
       "      <td>145.979996</td>\n",
       "      <td>60.900002</td>\n",
       "      <td>147.509995</td>\n",
       "    </tr>\n",
       "    <tr>\n",
       "      <th>2021-01-27</th>\n",
       "      <td>142.059998</td>\n",
       "      <td>88.839996</td>\n",
       "      <td>29.830000</td>\n",
       "      <td>697.789978</td>\n",
       "      <td>72.419998</td>\n",
       "      <td>163.029999</td>\n",
       "      <td>363.109985</td>\n",
       "      <td>90.089996</td>\n",
       "      <td>315.489990</td>\n",
       "      <td>516.710022</td>\n",
       "      <td>10.81</td>\n",
       "      <td>178.279999</td>\n",
       "      <td>142.639999</td>\n",
       "      <td>59.340000</td>\n",
       "      <td>143.839996</td>\n",
       "    </tr>\n",
       "    <tr>\n",
       "      <th>2021-01-28</th>\n",
       "      <td>137.089996</td>\n",
       "      <td>87.519997</td>\n",
       "      <td>30.320000</td>\n",
       "      <td>719.909973</td>\n",
       "      <td>72.610001</td>\n",
       "      <td>171.880005</td>\n",
       "      <td>369.950012</td>\n",
       "      <td>91.410004</td>\n",
       "      <td>324.279999</td>\n",
       "      <td>522.039978</td>\n",
       "      <td>9.27</td>\n",
       "      <td>183.580002</td>\n",
       "      <td>143.300003</td>\n",
       "      <td>59.080002</td>\n",
       "      <td>143.750000</td>\n",
       "    </tr>\n",
       "  </tbody>\n",
       "</table>\n",
       "</div>"
      ],
      "text/plain": [
       "                  AAPL        AMD        BAC         BLK        CVS  \\\n",
       "Date                                                                  \n",
       "2021-01-22  139.070007  92.790001  31.549999  735.049988  74.120003   \n",
       "2021-01-25  142.919998  94.129997  31.160000  722.979980  73.209999   \n",
       "2021-01-26  143.160004  94.709999  30.940001  721.849976  74.230003   \n",
       "2021-01-27  142.059998  88.839996  29.830000  697.789978  72.419998   \n",
       "2021-01-28  137.089996  87.519997  30.320000  719.909973  72.610001   \n",
       "\n",
       "                   DIS        INTU         JD          MA        NVDA    PBI  \\\n",
       "Date                                                                           \n",
       "2021-01-22  172.779999  374.850006  94.910004  328.989990  548.500000   7.19   \n",
       "2021-01-25  171.889999  374.429993  98.379997  329.190002  546.130005   7.53   \n",
       "2021-01-26  169.559998  374.799988  96.970001  327.700012  537.409973  13.63   \n",
       "2021-01-27  163.029999  363.109985  90.089996  315.489990  516.710022  10.81   \n",
       "2021-01-28  171.880005  369.950012  91.410004  324.279999  522.039978   9.27   \n",
       "\n",
       "                   TGT          TM         UL         WMT  \n",
       "Date                                                       \n",
       "2021-01-22  191.910004  147.949997  59.660000  146.330002  \n",
       "2021-01-25  190.149994  146.720001  60.970001  146.199997  \n",
       "2021-01-26  187.699997  145.979996  60.900002  147.509995  \n",
       "2021-01-27  178.279999  142.639999  59.340000  143.839996  \n",
       "2021-01-28  183.580002  143.300003  59.080002  143.750000  "
      ]
     },
     "execution_count": 4,
     "metadata": {},
     "output_type": "execute_result"
    }
   ],
   "source": [
    "prices = ohlc[\"Adj Close\"]\n",
    "prices.tail()"
   ]
  },
  {
   "cell_type": "markdown",
   "metadata": {},
   "source": [
    "## Expected returns and risk models\n",
    "\n",
    "In this notebook, we will use James-Stein shrinkage and semicovariance (which only penalises downside risk)."
   ]
  },
  {
   "cell_type": "code",
   "execution_count": 5,
   "metadata": {},
   "outputs": [
    {
     "data": {
      "text/plain": [
       "'1.3.1'"
      ]
     },
     "execution_count": 5,
     "metadata": {},
     "output_type": "execute_result"
    }
   ],
   "source": [
    "import pypfopt\n",
    "pypfopt.__version__"
   ]
  },
  {
   "cell_type": "code",
   "execution_count": 6,
   "metadata": {},
   "outputs": [],
   "source": [
    "from pypfopt import risk_models, expected_returns\n",
    "from pypfopt import plotting\n",
    "\n",
    "mu = expected_returns.capm_return(prices)\n",
    "S = risk_models.semicovariance(prices)"
   ]
  },
  {
   "cell_type": "code",
   "execution_count": 7,
   "metadata": {},
   "outputs": [
    {
     "data": {
      "image/png": "[encoded data removed]",
      "text/plain": [
       "<Figure size 720x360 with 1 Axes>"
      ]
     },
     "metadata": {
      "needs_background": "light"
     },
     "output_type": "display_data"
    }
   ],
   "source": [
    "mu.plot.barh(figsize=(10,5));"
   ]
  },
  {
   "cell_type": "code",
   "execution_count": 8,
   "metadata": {},
   "outputs": [
    {
     "data": {
      "image/png": "[encoded data removed]",
      "text/plain": [
       "<Figure size 432x288 with 2 Axes>"
      ]
     },
     "metadata": {
      "needs_background": "light"
     },
     "output_type": "display_data"
    }
   ],
   "source": [
    "plotting.plot_covariance(S, plot_correlation=True);"
   ]
  },
  {
   "cell_type": "markdown",
   "metadata": {},
   "source": [
    "## Min volatility with a transaction cost objective\n",
    "\n",
    "Let's say that you already have a portfolio, and want to now optimize it. It could be quite expensive to completely reallocate, so you may want to take into account transaction costs. PyPortfolioOpt provides a simple objective to account for this.\n",
    "\n",
    "Note: this objective will not play nicely with `max_sharpe`."
   ]
  },
  {
   "cell_type": "code",
   "execution_count": 9,
   "metadata": {},
   "outputs": [],
   "source": [
    "# Pretend that you started with a default-weight allocation\n",
    "initial_weights = np.array([1/len(tickers)] * len(tickers))"
   ]
  },
  {
   "cell_type": "code",
   "execution_count": 10,
   "metadata": {},
   "outputs": [
    {
     "data": {
      "text/plain": [
       "OrderedDict([('AAPL', 0.02233),\n",
       "             ('AMD', 0.0),\n",
       "             ('BAC', 0.00295),\n",
       "             ('BLK', 0.06667),\n",
       "             ('CVS', 0.06667),\n",
       "             ('DIS', 0.06667),\n",
       "             ('INTU', 0.06667),\n",
       "             ('JD', 0.24971),\n",
       "             ('MA', 0.06667),\n",
       "             ('NVDA', 0.05834),\n",
       "             ('PBI', 0.06667),\n",
       "             ('TGT', 0.06667),\n",
       "             ('TM', 0.06667),\n",
       "             ('UL', 0.06667),\n",
       "             ('WMT', 0.06667)])"
      ]
     },
     "execution_count": 10,
     "metadata": {},
     "output_type": "execute_result"
    }
   ],
   "source": [
    "from pypfopt import EfficientFrontier, objective_functions\n",
    "\n",
    "ef = EfficientFrontier(mu, S)\n",
    "\n",
    "# 1% broker commission\n",
    "ef.add_objective(objective_functions.transaction_cost, w_prev=initial_weights, k=0.01)\n",
    "ef.min_volatility()\n",
    "weights = ef.clean_weights()\n",
    "weights"
   ]
  },
  {
   "cell_type": "markdown",
   "metadata": {},
   "source": [
    "Notice that many of the weights are 0.06667, i.e your original equal weight. In fact, the only change has been an allocation of AMD's weight to JD. If we lower the cost `k`, the allocation will change more:"
   ]
  },
  {
   "cell_type": "code",
   "execution_count": 11,
   "metadata": {},
   "outputs": [
    {
     "data": {
      "text/plain": [
       "OrderedDict([('AAPL', 0.0),\n",
       "             ('AMD', 0.0),\n",
       "             ('BAC', 0.0),\n",
       "             ('BLK', 0.06667),\n",
       "             ('CVS', 0.03844),\n",
       "             ('DIS', 0.0),\n",
       "             ('INTU', 0.01533),\n",
       "             ('JD', 0.48839),\n",
       "             ('MA', 0.16953),\n",
       "             ('NVDA', 0.0),\n",
       "             ('PBI', 0.0),\n",
       "             ('TGT', 0.00077),\n",
       "             ('TM', 0.06667),\n",
       "             ('UL', 0.08754),\n",
       "             ('WMT', 0.06667)])"
      ]
     },
     "execution_count": 11,
     "metadata": {},
     "output_type": "execute_result"
    }
   ],
   "source": [
    "ef = EfficientFrontier(mu, S)\n",
    "ef.add_objective(objective_functions.transaction_cost, w_prev=initial_weights, k=0.001)\n",
    "ef.min_volatility()\n",
    "weights = ef.clean_weights()\n",
    "weights"
   ]
  },
  {
   "cell_type": "markdown",
   "metadata": {},
   "source": [
    "The optimizer seems to really like JD. The reason for this is that it is highly anticorrelated to other assets (notice the dark column in the covariance plot). Hence, historically, it adds a lot of diversification. But it is dangerous to place too much emphasis on what happened in the past, so we may want to limit the asset weights. \n",
    "\n",
    "In addition, we notice that 4 stocks have now been allocated zero weight, which may be undesirable. Both of these problems can be fixed by adding an [L2 regularisation objective](https://pyportfolioopt.readthedocs.io/en/latest/EfficientFrontier.html#more-on-l2-regularisation). "
   ]
  },
  {
   "cell_type": "code",
   "execution_count": 12,
   "metadata": {},
   "outputs": [
    {
     "data": {
      "text/plain": [
       "OrderedDict([('AAPL', 0.06179),\n",
       "             ('AMD', 0.05379),\n",
       "             ('BAC', 0.06202),\n",
       "             ('BLK', 0.07042),\n",
       "             ('CVS', 0.06667),\n",
       "             ('DIS', 0.06506),\n",
       "             ('INTU', 0.06667),\n",
       "             ('JD', 0.0775),\n",
       "             ('MA', 0.0734),\n",
       "             ('NVDA', 0.06399),\n",
       "             ('PBI', 0.06508),\n",
       "             ('TGT', 0.06591),\n",
       "             ('TM', 0.06909),\n",
       "             ('UL', 0.07073),\n",
       "             ('WMT', 0.0679)])"
      ]
     },
     "execution_count": 12,
     "metadata": {},
     "output_type": "execute_result"
    }
   ],
   "source": [
    "ef = EfficientFrontier(mu, S)\n",
    "ef.add_objective(objective_functions.transaction_cost, w_prev=initial_weights, k=0.001)\n",
    "ef.add_objective(objective_functions.L2_reg)\n",
    "ef.min_volatility()\n",
    "weights = ef.clean_weights()\n",
    "weights"
   ]
  },
  {
   "cell_type": "markdown",
   "metadata": {},
   "source": [
    "This has had too much of an evening-out effect. After all, if the resulting allocation is going to be so close to equal weights, we may as well stick with our initial allocation. We can reduce the strength of the L2 regularisation by reducing `gamma`:"
   ]
  },
  {
   "cell_type": "code",
   "execution_count": 13,
   "metadata": {},
   "outputs": [
    {
     "data": {
      "text/plain": [
       "OrderedDict([('AAPL', 0.01915),\n",
       "             ('AMD', 0.0),\n",
       "             ('BAC', 0.00684),\n",
       "             ('BLK', 0.09548),\n",
       "             ('CVS', 0.06667),\n",
       "             ('DIS', 0.04251),\n",
       "             ('INTU', 0.06071),\n",
       "             ('JD', 0.19403),\n",
       "             ('MA', 0.13693),\n",
       "             ('NVDA', 0.0299),\n",
       "             ('PBI', 0.04005),\n",
       "             ('TGT', 0.05035),\n",
       "             ('TM', 0.08321),\n",
       "             ('UL', 0.10267),\n",
       "             ('WMT', 0.07152)])"
      ]
     },
     "execution_count": 13,
     "metadata": {},
     "output_type": "execute_result"
    }
   ],
   "source": [
    "ef = EfficientFrontier(mu, S)\n",
    "ef.add_objective(objective_functions.transaction_cost, w_prev=initial_weights, k=0.001)\n",
    "ef.add_objective(objective_functions.L2_reg, gamma=0.05)  # default is 1\n",
    "ef.min_volatility()\n",
    "weights = ef.clean_weights()\n",
    "weights"
   ]
  },
  {
   "cell_type": "code",
   "execution_count": 14,
   "metadata": {},
   "outputs": [
    {
     "name": "stdout",
     "output_type": "stream",
     "text": [
      "Expected annual return: 18.0%\n",
      "Annual volatility: 9.4%\n",
      "Sharpe Ratio: 1.69\n"
     ]
    }
   ],
   "source": [
    "ef.portfolio_performance(verbose=True);"
   ]
  },
  {
   "cell_type": "markdown",
   "metadata": {},
   "source": [
    "This portfolio is now reasonably balanced, but also puts significantly more weight on JD. "
   ]
  },
  {
   "cell_type": "code",
   "execution_count": 15,
   "metadata": {},
   "outputs": [
    {
     "data": {
      "image/png": "[encoded data removed]",
      "text/plain": [
       "<Figure size 720x720 with 1 Axes>"
      ]
     },
     "metadata": {},
     "output_type": "display_data"
    }
   ],
   "source": [
    "pd.Series(weights).plot.pie(figsize=(10,10));"
   ]
  },
  {
   "cell_type": "markdown",
   "metadata": {},
   "source": [
    "## Custom convex objectives\n",
    "\n",
    "PyPortfolioOpt comes with the following built-in objective functions, as of v1.2.1:\n",
    "\n",
    "- Portfolio variance (i.e square of volatility)\n",
    "- Portfolio return\n",
    "- Sharpe ratio\n",
    "- L2 regularisation (minimising this reduces nonzero weights)\n",
    "- Quadratic utility\n",
    "- Transaction cost model (a simple one)\n",
    "\n",
    "However, you may want have a different objective. If this new objective is **convex**, you can optimize a portfolio with the full benefit of PyPortfolioOpt's modular syntax, for example adding other constraints and objectives.\n",
    "\n",
    "To demonstrate this, we will minimise the **logarithmic-barrier** function suggested in the paper 60 Years of Portfolio Optimization, by Kolm et al (2014):\n",
    "\n",
    "$$f(w, S, k) = w^T S w - k \\sum_{i=1}^N \\ln w$$\n",
    "\n",
    "We must first convert this mathematical objective into the language of cvxpy. Cvxpy is a powerful modelling language for convex optimization problems. It is clean and easy to use, the only caveat is that objectives must be expressed with `cvxpy` functions, a list of which can be found [here](https://www.cvxpy.org/tutorial/functions/index.html)."
   ]
  },
  {
   "cell_type": "code",
   "execution_count": 16,
   "metadata": {},
   "outputs": [],
   "source": [
    "import cvxpy as cp\n",
    "\n",
    "# Note: functions are minimised. If you want to maximise an objective, stick a minus sign in it.\n",
    "def logarithmic_barrier_objective(w, cov_matrix, k=0.1):\n",
    "    log_sum = cp.sum(cp.log(w))\n",
    "    var = cp.quad_form(w, cov_matrix)\n",
    "    return var - k * log_sum"
   ]
  },
  {
   "cell_type": "markdown",
   "metadata": {},
   "source": [
    "Once we have written the objective function, we can just use the `ef.convex_objective()` to minimise the objective."
   ]
  },
  {
   "cell_type": "code",
   "execution_count": 17,
   "metadata": {},
   "outputs": [
    {
     "data": {
      "text/plain": [
       "OrderedDict([('AAPL', 0.03824),\n",
       "             ('AMD', 0.02618),\n",
       "             ('BAC', 0.03724),\n",
       "             ('BLK', 0.07674),\n",
       "             ('CVS', 0.05578),\n",
       "             ('DIS', 0.04616),\n",
       "             ('INTU', 0.05245),\n",
       "             ('JD', 0.2),\n",
       "             ('MA', 0.11598),\n",
       "             ('NVDA', 0.04185),\n",
       "             ('PBI', 0.04538),\n",
       "             ('TGT', 0.04891),\n",
       "             ('TM', 0.06917),\n",
       "             ('UL', 0.08254),\n",
       "             ('WMT', 0.06337)])"
      ]
     },
     "execution_count": 17,
     "metadata": {},
     "output_type": "execute_result"
    }
   ],
   "source": [
    "ef = EfficientFrontier(mu, S, weight_bounds=(0.01, 0.2))\n",
    "ef.convex_objective(logarithmic_barrier_objective, cov_matrix=S, k=0.001)\n",
    "weights = ef.clean_weights()\n",
    "weights"
   ]
  },
  {
   "cell_type": "code",
   "execution_count": 18,
   "metadata": {},
   "outputs": [
    {
     "name": "stdout",
     "output_type": "stream",
     "text": [
      "Expected annual return: 18.7%\n",
      "Annual volatility: 10.1%\n",
      "Sharpe Ratio: 1.66\n"
     ]
    }
   ],
   "source": [
    "ef.portfolio_performance(verbose=True);"
   ]
  },
  {
   "cell_type": "markdown",
   "metadata": {},
   "source": [
    "This is compatible with all the constraints discussed in the previous recipe. Let's say that we want to limit JD's weight to 15%."
   ]
  },
  {
   "cell_type": "code",
   "execution_count": 19,
   "metadata": {},
   "outputs": [
    {
     "data": {
      "text/plain": [
       "OrderedDict([('AAPL', 0.03914),\n",
       "             ('AMD', 0.0264),\n",
       "             ('BAC', 0.0378),\n",
       "             ('BLK', 0.08259),\n",
       "             ('CVS', 0.05832),\n",
       "             ('DIS', 0.04759),\n",
       "             ('INTU', 0.05474),\n",
       "             ('JD', 0.15),\n",
       "             ('MA', 0.13295),\n",
       "             ('NVDA', 0.0432),\n",
       "             ('PBI', 0.04705),\n",
       "             ('TGT', 0.05057),\n",
       "             ('TM', 0.07351),\n",
       "             ('UL', 0.08928),\n",
       "             ('WMT', 0.06684)])"
      ]
     },
     "execution_count": 19,
     "metadata": {},
     "output_type": "execute_result"
    }
   ],
   "source": [
    "ef = EfficientFrontier(mu, S, weight_bounds=(0.01, 0.2))\n",
    "jd_index = ef.tickers.index(\"JD\")  # get the index of JD\n",
    "ef.add_constraint(lambda w: w[jd_index] <= 0.15)\n",
    "ef.convex_objective(logarithmic_barrier_objective, cov_matrix=S, k=0.001)\n",
    "weights = ef.clean_weights()\n",
    "weights"
   ]
  },
  {
   "cell_type": "markdown",
   "metadata": {},
   "source": [
    "## Custom nonconvex objectives\n",
    "\n",
    "In some cases, you may be trying to optimize for nonconvex objectives. Optimization in general is a very hard problem, so please be aware that you may have mixed results in that case. Convex problems, on the other hand, are well understood and can be solved with nice theoretical guarantees.\n",
    "\n",
    "PyPortfolioOpt does offer some functionality for nonconvex optimization, but it is not really encouraged. In particular, nonconvex optimization is not compatible with PyPortfolioOpt's modular constraints API.\n",
    "\n",
    "As an example, we will use the Deviation Risk Parity objective from Kolm et al (2014). Because we are not using a convex solver, we don't have to define it using `cvxpy` functions."
   ]
  },
  {
   "cell_type": "code",
   "execution_count": 20,
   "metadata": {},
   "outputs": [],
   "source": [
    "def deviation_risk_parity(w, cov_matrix):\n",
    "    diff = w * np.dot(cov_matrix, w) - (w * np.dot(cov_matrix, w)).reshape(-1, 1)\n",
    "    return (diff ** 2).sum().sum()"
   ]
  },
  {
   "cell_type": "code",
   "execution_count": 21,
   "metadata": {},
   "outputs": [
    {
     "data": {
      "text/plain": [
       "OrderedDict([('AAPL', 0.05548),\n",
       "             ('AMD', 0.02632),\n",
       "             ('BAC', 0.05766),\n",
       "             ('BLK', 0.07681),\n",
       "             ('CVS', 0.07115),\n",
       "             ('DIS', 0.06542),\n",
       "             ('INTU', 0.06962),\n",
       "             ('JD', 0.07815),\n",
       "             ('MA', 0.0788),\n",
       "             ('NVDA', 0.06256),\n",
       "             ('PBI', 0.06566),\n",
       "             ('TGT', 0.06743),\n",
       "             ('TM', 0.07492),\n",
       "             ('UL', 0.07692),\n",
       "             ('WMT', 0.0731)])"
      ]
     },
     "execution_count": 21,
     "metadata": {},
     "output_type": "execute_result"
    }
   ],
   "source": [
    "ef = EfficientFrontier(mu, S, weight_bounds=(0.01, 0.12))\n",
    "ef.nonconvex_objective(deviation_risk_parity, ef.cov_matrix)\n",
    "weights = ef.clean_weights()\n",
    "weights"
   ]
  },
  {
   "cell_type": "markdown",
   "metadata": {},
   "source": [
    "However, let's say we now want to enforce that JD has a weight of 10%. In the convex case, this would be as simple as:\n",
    "\n",
    "```python\n",
    "ef.add_objective(lambda w: w[jd_index] == 0.10)\n",
    "```\n",
    "\n",
    "But unfortunately, scipy does not allow for such intuitive syntax. You will need to rearrange your constraints to make them either `=0` or `<= 0`. \n",
    "\n",
    "```python\n",
    "constraints = [\n",
    "    # First constraint\n",
    "     {\"type\": \"eq\",  # equality constraint,\n",
    "      \"fun\": lambda w: w[1] - 0.2},  # the equality functions are assumed to = 0 \n",
    "      \n",
    "    # Second constraint\n",
    "    {\"type\": \"ineq\",  # inequality constraint\n",
    "     \"fun\": lambda w: w[0] - 0.5}   # inequality functions <= 0\n",
    "]\n",
    "```\n",
    "\n",
    "For more information, you can consult the [scipy docs](https://docs.scipy.org/doc/scipy/reference/generated/scipy.optimize.minimize.html), but they aren't very helpful."
   ]
  },
  {
   "cell_type": "code",
   "execution_count": 22,
   "metadata": {},
   "outputs": [
    {
     "data": {
      "text/plain": [
       "OrderedDict([('AAPL', 0.05542),\n",
       "             ('AMD', 0.0298),\n",
       "             ('BAC', 0.05735),\n",
       "             ('BLK', 0.07367),\n",
       "             ('CVS', 0.06894),\n",
       "             ('DIS', 0.06406),\n",
       "             ('INTU', 0.0676),\n",
       "             ('JD', 0.1),\n",
       "             ('MA', 0.07529),\n",
       "             ('NVDA', 0.06145),\n",
       "             ('PBI', 0.06419),\n",
       "             ('TGT', 0.06579),\n",
       "             ('TM', 0.0721),\n",
       "             ('UL', 0.07376),\n",
       "             ('WMT', 0.07059)])"
      ]
     },
     "execution_count": 22,
     "metadata": {},
     "output_type": "execute_result"
    }
   ],
   "source": [
    "ef = EfficientFrontier(mu, S, weight_bounds=(0.01, 0.12))\n",
    "\n",
    "ef.nonconvex_objective(\n",
    "    deviation_risk_parity,\n",
    "    objective_args=S,\n",
    "    weights_sum_to_one=True,\n",
    "    constraints=[\n",
    "        {\"type\": \"eq\", \"fun\": lambda w: w[jd_index] - 0.10},  \n",
    "    ],\n",
    ")\n",
    "\n",
    "weights = ef.clean_weights()\n",
    "weights"
   ]
  },
  {
   "cell_type": "markdown",
   "metadata": {},
   "source": [
    "## More examples of nonconvex objectives\n",
    "\n",
    "The scipy format is not intuitive and is hard to explain, so here are a bunch of examples (adapted from the tests). Some of these are actually convex, so you should use `convex_objective` instead. "
   ]
  },
  {
   "cell_type": "code",
   "execution_count": 23,
   "metadata": {},
   "outputs": [
    {
     "data": {
      "text/plain": [
       "OrderedDict([('AAPL', 0.04324),\n",
       "             ('AMD', 0.03142),\n",
       "             ('BAC', 0.04275),\n",
       "             ('BLK', 0.07606),\n",
       "             ('CVS', 0.05896),\n",
       "             ('DIS', 0.05053),\n",
       "             ('INTU', 0.0562),\n",
       "             ('JD', 0.1765),\n",
       "             ('MA', 0.1006),\n",
       "             ('NVDA', 0.04714),\n",
       "             ('PBI', 0.05017),\n",
       "             ('TGT', 0.05296),\n",
       "             ('TM', 0.06948),\n",
       "             ('UL', 0.07936),\n",
       "             ('WMT', 0.06461)])"
      ]
     },
     "execution_count": 23,
     "metadata": {},
     "output_type": "execute_result"
    }
   ],
   "source": [
    "# Another example of deviation risk parity\n",
    "def deviation_risk_parity(w, cov_matrix):\n",
    "    n = cov_matrix.shape[0]\n",
    "    rp = (w * (cov_matrix @ w)) / cp.quad_form(w, cov_matrix)\n",
    "    return cp.sum_squares(rp - 1 / n).value\n",
    "\n",
    "ef = EfficientFrontier(mu, S)\n",
    "ef.nonconvex_objective(deviation_risk_parity, ef.cov_matrix)\n",
    "weights = ef.clean_weights()\n",
    "weights"
   ]
  },
  {
   "cell_type": "code",
   "execution_count": 24,
   "metadata": {},
   "outputs": [
    {
     "data": {
      "text/plain": [
       "OrderedDict([('AAPL', 0.1),\n",
       "             ('AMD', 0.03391),\n",
       "             ('BAC', 0.0477),\n",
       "             ('BLK', 0.07674),\n",
       "             ('CVS', 0.06093),\n",
       "             ('DIS', 0.05398),\n",
       "             ('INTU', 0.05745),\n",
       "             ('JD', 0.10687),\n",
       "             ('MA', 0.09381),\n",
       "             ('NVDA', 0.05099),\n",
       "             ('PBI', 0.05455),\n",
       "             ('TGT', 0.05561),\n",
       "             ('TM', 0.06824),\n",
       "             ('UL', 0.07546),\n",
       "             ('WMT', 0.06377)])"
      ]
     },
     "execution_count": 24,
     "metadata": {},
     "output_type": "execute_result"
    }
   ],
   "source": [
    "# Deviation risk parity with weight bound on the first asset\n",
    "ef = EfficientFrontier(mu, S)\n",
    "ef.nonconvex_objective(deviation_risk_parity, \n",
    "                       ef.cov_matrix, \n",
    "                       constraints=[{\"type\":\"eq\", \"fun\":lambda w: w[0] - 0.1}])\n",
    "weights = ef.clean_weights()\n",
    "weights"
   ]
  },
  {
   "cell_type": "code",
   "execution_count": 25,
   "metadata": {},
   "outputs": [
    {
     "data": {
      "text/plain": [
       "OrderedDict([('AAPL', 0.09548),\n",
       "             ('AMD', 0.16658),\n",
       "             ('BAC', 0.00681),\n",
       "             ('BLK', -0.12506),\n",
       "             ('CVS', -0.17303),\n",
       "             ('DIS', 0.21509),\n",
       "             ('INTU', 0.1153),\n",
       "             ('JD', 0.16446),\n",
       "             ('MA', 0.65232),\n",
       "             ('NVDA', 0.41921),\n",
       "             ('PBI', -0.04438),\n",
       "             ('TGT', 0.00676),\n",
       "             ('TM', -0.48244),\n",
       "             ('UL', -0.86122),\n",
       "             ('WMT', -0.15589)])"
      ]
     },
     "execution_count": 25,
     "metadata": {},
     "output_type": "execute_result"
    }
   ],
   "source": [
    "# Market-neutral efficient risk.\n",
    "# Please use ef.efficient_risk() for anything serious.\n",
    "target_risk = 0.19\n",
    "ef = EfficientFrontier(mu, S, weight_bounds=(None, None))\n",
    "\n",
    "# Weights sum to zero\n",
    "weight_constr = {\"type\": \"eq\", \"fun\": lambda w: np.sum(w)}\n",
    "\n",
    "# Portfolio vol less than target vol\n",
    "risk_constr = {\n",
    "    \"type\": \"eq\",\n",
    "    \"fun\": lambda w: target_risk ** 2 - np.dot(w.T, np.dot(ef.cov_matrix, w)),\n",
    "}\n",
    "constraints = [weight_constr, risk_constr]\n",
    "\n",
    "ef.nonconvex_objective(\n",
    "    lambda w, mu: -w.T.dot(mu),  # min negative return i.e max return\n",
    "    objective_args=(ef.expected_returns),\n",
    "    weights_sum_to_one=False,\n",
    "    constraints=constraints,\n",
    ")\n",
    "weights = ef.clean_weights()\n",
    "weights"
   ]
  },
  {
   "cell_type": "code",
   "execution_count": 26,
   "metadata": {},
   "outputs": [
    {
     "data": {
      "text/plain": [
       "OrderedDict([('AAPL', 0.0),\n",
       "             ('AMD', 0.04621),\n",
       "             ('BAC', 0.0),\n",
       "             ('BLK', 0.0),\n",
       "             ('CVS', 0.0),\n",
       "             ('DIS', 0.0),\n",
       "             ('INTU', 0.0),\n",
       "             ('JD', 0.0),\n",
       "             ('MA', 0.0),\n",
       "             ('NVDA', 0.95379),\n",
       "             ('PBI', 0.0),\n",
       "             ('TGT', 0.0),\n",
       "             ('TM', 0.0),\n",
       "             ('UL', 0.0),\n",
       "             ('WMT', 0.0)])"
      ]
     },
     "execution_count": 26,
     "metadata": {},
     "output_type": "execute_result"
    }
   ],
   "source": [
    "# Utility objective - you could actually use ef.max_quadratic_utility\n",
    "ef = EfficientFrontier(mu, S)\n",
    "\n",
    "def utility_obj(weights, mu, cov_matrix, k=1):\n",
    "    return -weights.dot(mu) + k * np.dot(weights.T, np.dot(cov_matrix, weights))\n",
    "\n",
    "ef.nonconvex_objective(\n",
    "    utility_obj,\n",
    "    objective_args=(ef.expected_returns, ef.cov_matrix, 1)\n",
    "    # default is for weights to sum to 1\n",
    ")\n",
    "\n",
    "weights = ef.clean_weights()\n",
    "weights"
   ]
  },
  {
   "cell_type": "code",
   "execution_count": 27,
   "metadata": {},
   "outputs": [
    {
     "data": {
      "text/plain": [
       "1.0000000000000002"
      ]
     },
     "execution_count": 27,
     "metadata": {},
     "output_type": "execute_result"
    }
   ],
   "source": [
    "ef.weights.sum()"
   ]
  },
  {
   "cell_type": "code",
   "execution_count": 28,
   "metadata": {},
   "outputs": [
    {
     "data": {
      "text/plain": [
       "OrderedDict([('AAPL', 0.06667),\n",
       "             ('AMD', 0.06667),\n",
       "             ('BAC', 0.06667),\n",
       "             ('BLK', 0.06667),\n",
       "             ('CVS', 0.06667),\n",
       "             ('DIS', 0.06667),\n",
       "             ('INTU', 0.06667),\n",
       "             ('JD', 0.06667),\n",
       "             ('MA', 0.06667),\n",
       "             ('NVDA', 0.06667),\n",
       "             ('PBI', 0.06667),\n",
       "             ('TGT', 0.06667),\n",
       "             ('TM', 0.06667),\n",
       "             ('UL', 0.06667),\n",
       "             ('WMT', 0.06667)])"
      ]
     },
     "execution_count": 28,
     "metadata": {},
     "output_type": "execute_result"
    }
   ],
   "source": [
    "# Kelly objective with weight bounds on zeroth asset\n",
    "def kelly_objective(w, e_returns, cov_matrix, k=3):\n",
    "    variance = np.dot(w.T, np.dot(cov_matrix, w))\n",
    "    objective = variance * 0.5 * k - np.dot(w, e_returns)\n",
    "    return objective\n",
    "\n",
    "lower_bounds, upper_bounds = 0.01, 0.3\n",
    "ef = EfficientFrontier(mu, S)\n",
    "ef.nonconvex_objective(\n",
    "    kelly_objective,\n",
    "    objective_args=(ef.expected_returns, ef.cov_matrix, 1000),\n",
    "    constraints=[\n",
    "        {\"type\": \"eq\", \"fun\": lambda w: np.sum(w) - 1},\n",
    "        {\"type\": \"ineq\", \"fun\": lambda w: w[0] - lower_bounds},\n",
    "        {\"type\": \"ineq\", \"fun\": lambda w: upper_bounds - w[0]},\n",
    "    ],\n",
    ")\n",
    "\n",
    "weights = ef.clean_weights()\n",
    "weights"
   ]
  },
  {
   "cell_type": "code",
   "execution_count": null,
   "metadata": {},
   "outputs": [],
   "source": []
  }
 ],
 "metadata": {
  "kernelspec": {
   "display_name": "pyportfolioopt",
   "language": "python",
   "name": "pyportfolioopt"
  },
  "language_info": {
   "codemirror_mode": {
    "name": "ipython",
    "version": 3
   },
   "file_extension": ".py",
   "mimetype": "text/x-python",
   "name": "python",
   "nbconvert_exporter": "python",
   "pygments_lexer": "ipython3",
   "version": "3.8.6"
  }
 },
 "nbformat": 4,
 "nbformat_minor": 4
}

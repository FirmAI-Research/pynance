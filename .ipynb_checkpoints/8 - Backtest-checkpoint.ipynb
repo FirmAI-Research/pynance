{
 "cells": [
  {
   "cell_type": "code",
   "execution_count": 8,
   "id": "bfa8708a",
   "metadata": {},
   "outputs": [],
   "source": [
    "from lib.backtest.LinearRegBacktest import LRVectorBacktester\n",
    "from lib.backtest.LogisticRegBacktest import ScikitVectorBacktester\n",
    "from lib.backtest.Momentum import MomVectorBacktester\n",
    "from lib.backtest.SMA import SMAVectorBacktester\n",
    "\n",
    "# from lib.backtest.MeanReversion import MRVectorBacktester"
   ]
  },
  {
   "cell_type": "code",
   "execution_count": 3,
   "id": "d3cb2cb8",
   "metadata": {},
   "outputs": [],
   "source": []
  },
  {
   "cell_type": "code",
   "execution_count": null,
   "id": "24e1526a",
   "metadata": {},
   "outputs": [],
   "source": []
  }
 ],
 "metadata": {
  "kernelspec": {
   "display_name": "venv",
   "language": "python",
   "name": "venv"
  },
  "language_info": {
   "codemirror_mode": {
    "name": "ipython",
    "version": 3
   },
   "file_extension": ".py",
   "mimetype": "text/x-python",
   "name": "python",
   "nbconvert_exporter": "python",
   "pygments_lexer": "ipython3",
   "version": "3.10.4"
  }
 },
 "nbformat": 4,
 "nbformat_minor": 5
}

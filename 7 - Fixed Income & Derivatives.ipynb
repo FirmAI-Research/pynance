{
 "cells": [
  {
   "cell_type": "code",
   "execution_count": 3,
   "id": "aada063b",
   "metadata": {},
   "outputs": [],
   "source": [
    "import pandas as pd\n",
    "import numpy as np\n",
    "import numpy_financial as npf"
   ]
  },
  {
   "cell_type": "code",
   "execution_count": 5,
   "id": "a7a567ea",
   "metadata": {},
   "outputs": [
    {
     "name": "stdout",
     "output_type": "stream",
     "text": [
      "The price of bond is : $972.7675197062953\n"
     ]
    }
   ],
   "source": [
    "principal = 1000\n",
    "annual_interest = 0.05\n",
    "period = 3\n",
    "coupon_payment = 0.04 * principal\n",
    "\n",
    "bond_price = (npf.pv(annual_interest, period, coupon_payment, principal)) * -1\n",
    "print(\"The price of bond is : $\" + str(bond_price))"
   ]
  },
  {
   "cell_type": "code",
   "execution_count": 7,
   "id": "3e657950",
   "metadata": {},
   "outputs": [
    {
     "name": "stdout",
     "output_type": "stream",
     "text": [
      "993.1435342906807\n"
     ]
    }
   ],
   "source": [
    "# m = Number of payments per period (e.g., m=2 for semiannually payments)\n",
    "# t = Number of years to maturity\n",
    "# ytm = Yield to maturity (in decimals terms)\n",
    "# fv = The Bond’s Face Value\n",
    "# c = Coupon rate (in decimals terms)\n",
    "\n",
    "m = 2\n",
    "t = 3\n",
    "ytm = 0.0525\n",
    "fv = 1000\n",
    "c = 0.05\n",
    "\n",
    "\n",
    "bondPrice = ((fv*c/m*(1-(1+ytm/m)**(-m*t)))/(ytm/m)) + fv*(1+(ytm/m))**(-m*t)\n",
    "    \n",
    "print (bondPrice)"
   ]
  },
  {
   "cell_type": "code",
   "execution_count": 6,
   "id": "1401a8bd",
   "metadata": {},
   "outputs": [
    {
     "name": "stdout",
     "output_type": "stream",
     "text": [
      "The YTM for this bond is: 7.894736842105263%\n"
     ]
    }
   ],
   "source": [
    "face_value = 10000\n",
    "market_price = 9000\n",
    "n = 4\n",
    "coupon_payment = 0.05 * 10000\n",
    "\n",
    "ytm = ((coupon_payment + (face_value-market_price)/ n)) / ((face_value + market_price)/2)\n",
    "print(\"The YTM for this bond is: \" + str(ytm*100) + \"%\")"
   ]
  },
  {
   "cell_type": "code",
   "execution_count": 15,
   "id": "d4880b25",
   "metadata": {},
   "outputs": [
    {
     "name": "stdout",
     "output_type": "stream",
     "text": [
      "759.9178132020633\n"
     ]
    }
   ],
   "source": [
    "FV = 1000\n",
    "r = 4\n",
    "n = 7\n",
    "\n",
    "PV = FV/(1+r/100)**n\n",
    "print (PV)"
   ]
  },
  {
   "cell_type": "code",
   "execution_count": 13,
   "id": "b1fb6e71",
   "metadata": {},
   "outputs": [
    {
     "name": "stdout",
     "output_type": "stream",
     "text": [
      "0.09236351841209034\n"
     ]
    }
   ],
   "source": [
    "irr = npf.irr([-1700,500,750,800])\n",
    "print(irr)"
   ]
  },
  {
   "cell_type": "code",
   "execution_count": 14,
   "id": "646429d8",
   "metadata": {},
   "outputs": [
    {
     "name": "stdout",
     "output_type": "stream",
     "text": [
      "284.94762984558895\n"
     ]
    }
   ],
   "source": [
    "npv = npf.npv(0.05,[-1100,300,450,800])\n",
    "print (npv)"
   ]
  },
  {
   "cell_type": "code",
   "execution_count": 11,
   "id": "b154a5e2",
   "metadata": {},
   "outputs": [],
   "source": [
    "# macauley duration\n",
    "\n",
    "# m = Number of payments per period\n",
    "# YTM = Yield to Maturity\n",
    "# PV = Bond price\n",
    "# FV = Bond face value\n",
    "# C = Coupon rate\n",
    "# ti = Time in years associated with each coupon payment"
   ]
  },
  {
   "cell_type": "code",
   "execution_count": 10,
   "id": "42a1358f",
   "metadata": {},
   "outputs": [],
   "source": [
    "# modified duration\n",
    "# modified duration = macauley duration / (1 + YTM/m)"
   ]
  }
 ],
 "metadata": {
  "kernelspec": {
   "display_name": "Python 3 (ipykernel)",
   "language": "python",
   "name": "python3"
  },
  "language_info": {
   "codemirror_mode": {
    "name": "ipython",
    "version": 3
   },
   "file_extension": ".py",
   "mimetype": "text/x-python",
   "name": "python",
   "nbconvert_exporter": "python",
   "pygments_lexer": "ipython3",
   "version": "3.9.12"
  }
 },
 "nbformat": 4,
 "nbformat_minor": 5
}

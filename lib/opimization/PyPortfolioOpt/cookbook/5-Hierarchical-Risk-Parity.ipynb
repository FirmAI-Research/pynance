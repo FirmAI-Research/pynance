{
 "cells": [
  {
   "cell_type": "markdown",
   "id": "consolidated-vault",
   "metadata": {},
   "source": [
    "# Hierarchical Risk Parity\n",
    "\n",
    "HRP is a modern portfolio optimization method inspired by machine learning.\n",
    "\n",
    "The idea is that by examining the hierarchical structure of the market, we can better diversify. \n",
    "\n",
    "In this cookbook recipe, we will cover:\n",
    "\n",
    "- Downloading data for HRP\n",
    "- Using HRP to find the minimum variance portfolio\n",
    "- Plotting dendrograms\n",
    "\n"
   ]
  },
  {
   "cell_type": "markdown",
   "id": "saving-safety",
   "metadata": {},
   "source": [
    "## Downloading data\n",
    "\n",
    "HRP only requires historical returns"
   ]
  },
  {
   "cell_type": "code",
   "execution_count": 1,
   "id": "committed-riverside",
   "metadata": {},
   "outputs": [
    {
     "data": {
      "text/plain": [
       "'1.3.1'"
      ]
     },
     "execution_count": 1,
     "metadata": {},
     "output_type": "execute_result"
    }
   ],
   "source": [
    "import numpy as np\n",
    "import pandas as pd\n",
    "import matplotlib.pyplot as plt\n",
    "import yfinance as yf\n",
    "import pypfopt\n",
    "\n",
    "pypfopt.__version__"
   ]
  },
  {
   "cell_type": "code",
   "execution_count": 2,
   "id": "accredited-enterprise",
   "metadata": {},
   "outputs": [
    {
     "name": "stdout",
     "output_type": "stream",
     "text": [
      "[*********************100%***********************]  15 of 15 completed\n"
     ]
    },
    {
     "data": {
      "text/html": [
       "<div>\n",
       "<style scoped>\n",
       "    .dataframe tbody tr th:only-of-type {\n",
       "        vertical-align: middle;\n",
       "    }\n",
       "\n",
       "    .dataframe tbody tr th {\n",
       "        vertical-align: top;\n",
       "    }\n",
       "\n",
       "    .dataframe thead th {\n",
       "        text-align: right;\n",
       "    }\n",
       "</style>\n",
       "<table border=\"1\" class=\"dataframe\">\n",
       "  <thead>\n",
       "    <tr style=\"text-align: right;\">\n",
       "      <th></th>\n",
       "      <th>AAPL</th>\n",
       "      <th>AMD</th>\n",
       "      <th>BAC</th>\n",
       "      <th>BLK</th>\n",
       "      <th>CVS</th>\n",
       "      <th>DIS</th>\n",
       "      <th>INTU</th>\n",
       "      <th>JD</th>\n",
       "      <th>MA</th>\n",
       "      <th>NVDA</th>\n",
       "      <th>PBI</th>\n",
       "      <th>TGT</th>\n",
       "      <th>TM</th>\n",
       "      <th>UL</th>\n",
       "      <th>WMT</th>\n",
       "    </tr>\n",
       "    <tr>\n",
       "      <th>Date</th>\n",
       "      <th></th>\n",
       "      <th></th>\n",
       "      <th></th>\n",
       "      <th></th>\n",
       "      <th></th>\n",
       "      <th></th>\n",
       "      <th></th>\n",
       "      <th></th>\n",
       "      <th></th>\n",
       "      <th></th>\n",
       "      <th></th>\n",
       "      <th></th>\n",
       "      <th></th>\n",
       "      <th></th>\n",
       "      <th></th>\n",
       "    </tr>\n",
       "  </thead>\n",
       "  <tbody>\n",
       "    <tr>\n",
       "      <th>2021-01-22</th>\n",
       "      <td>139.070007</td>\n",
       "      <td>92.790001</td>\n",
       "      <td>31.549999</td>\n",
       "      <td>735.049988</td>\n",
       "      <td>74.120003</td>\n",
       "      <td>172.779999</td>\n",
       "      <td>374.850006</td>\n",
       "      <td>94.910004</td>\n",
       "      <td>328.989990</td>\n",
       "      <td>548.500000</td>\n",
       "      <td>7.19</td>\n",
       "      <td>191.910004</td>\n",
       "      <td>147.949997</td>\n",
       "      <td>59.660000</td>\n",
       "      <td>146.330002</td>\n",
       "    </tr>\n",
       "    <tr>\n",
       "      <th>2021-01-25</th>\n",
       "      <td>142.919998</td>\n",
       "      <td>94.129997</td>\n",
       "      <td>31.160000</td>\n",
       "      <td>722.979980</td>\n",
       "      <td>73.209999</td>\n",
       "      <td>171.889999</td>\n",
       "      <td>374.429993</td>\n",
       "      <td>98.379997</td>\n",
       "      <td>329.190002</td>\n",
       "      <td>546.130005</td>\n",
       "      <td>7.53</td>\n",
       "      <td>190.149994</td>\n",
       "      <td>146.720001</td>\n",
       "      <td>60.970001</td>\n",
       "      <td>146.199997</td>\n",
       "    </tr>\n",
       "    <tr>\n",
       "      <th>2021-01-26</th>\n",
       "      <td>143.160004</td>\n",
       "      <td>94.709999</td>\n",
       "      <td>30.940001</td>\n",
       "      <td>721.849976</td>\n",
       "      <td>74.230003</td>\n",
       "      <td>169.559998</td>\n",
       "      <td>374.799988</td>\n",
       "      <td>96.970001</td>\n",
       "      <td>327.700012</td>\n",
       "      <td>537.409973</td>\n",
       "      <td>13.63</td>\n",
       "      <td>187.699997</td>\n",
       "      <td>145.979996</td>\n",
       "      <td>60.900002</td>\n",
       "      <td>147.509995</td>\n",
       "    </tr>\n",
       "    <tr>\n",
       "      <th>2021-01-27</th>\n",
       "      <td>142.059998</td>\n",
       "      <td>88.839996</td>\n",
       "      <td>29.830000</td>\n",
       "      <td>697.789978</td>\n",
       "      <td>72.419998</td>\n",
       "      <td>163.029999</td>\n",
       "      <td>363.109985</td>\n",
       "      <td>90.089996</td>\n",
       "      <td>315.489990</td>\n",
       "      <td>516.710022</td>\n",
       "      <td>10.81</td>\n",
       "      <td>178.279999</td>\n",
       "      <td>142.639999</td>\n",
       "      <td>59.340000</td>\n",
       "      <td>143.839996</td>\n",
       "    </tr>\n",
       "    <tr>\n",
       "      <th>2021-01-28</th>\n",
       "      <td>137.089996</td>\n",
       "      <td>87.519997</td>\n",
       "      <td>30.320000</td>\n",
       "      <td>719.909973</td>\n",
       "      <td>72.610001</td>\n",
       "      <td>171.880005</td>\n",
       "      <td>369.950012</td>\n",
       "      <td>91.410004</td>\n",
       "      <td>324.279999</td>\n",
       "      <td>522.039978</td>\n",
       "      <td>9.27</td>\n",
       "      <td>183.580002</td>\n",
       "      <td>143.300003</td>\n",
       "      <td>59.080002</td>\n",
       "      <td>143.750000</td>\n",
       "    </tr>\n",
       "  </tbody>\n",
       "</table>\n",
       "</div>"
      ],
      "text/plain": [
       "                  AAPL        AMD        BAC         BLK        CVS  \\\n",
       "Date                                                                  \n",
       "2021-01-22  139.070007  92.790001  31.549999  735.049988  74.120003   \n",
       "2021-01-25  142.919998  94.129997  31.160000  722.979980  73.209999   \n",
       "2021-01-26  143.160004  94.709999  30.940001  721.849976  74.230003   \n",
       "2021-01-27  142.059998  88.839996  29.830000  697.789978  72.419998   \n",
       "2021-01-28  137.089996  87.519997  30.320000  719.909973  72.610001   \n",
       "\n",
       "                   DIS        INTU         JD          MA        NVDA    PBI  \\\n",
       "Date                                                                           \n",
       "2021-01-22  172.779999  374.850006  94.910004  328.989990  548.500000   7.19   \n",
       "2021-01-25  171.889999  374.429993  98.379997  329.190002  546.130005   7.53   \n",
       "2021-01-26  169.559998  374.799988  96.970001  327.700012  537.409973  13.63   \n",
       "2021-01-27  163.029999  363.109985  90.089996  315.489990  516.710022  10.81   \n",
       "2021-01-28  171.880005  369.950012  91.410004  324.279999  522.039978   9.27   \n",
       "\n",
       "                   TGT          TM         UL         WMT  \n",
       "Date                                                       \n",
       "2021-01-22  191.910004  147.949997  59.660000  146.330002  \n",
       "2021-01-25  190.149994  146.720001  60.970001  146.199997  \n",
       "2021-01-26  187.699997  145.979996  60.900002  147.509995  \n",
       "2021-01-27  178.279999  142.639999  59.340000  143.839996  \n",
       "2021-01-28  183.580002  143.300003  59.080002  143.750000  "
      ]
     },
     "execution_count": 2,
     "metadata": {},
     "output_type": "execute_result"
    }
   ],
   "source": [
    "tickers = [\"BLK\", \"BAC\", \"AAPL\", \"TM\", \"WMT\",\n",
    "           \"JD\", \"INTU\", \"MA\", \"UL\", \"CVS\",\n",
    "           \"DIS\", \"AMD\", \"NVDA\", \"PBI\", \"TGT\"]\n",
    "\n",
    "ohlc = yf.download(tickers, period=\"max\")\n",
    "prices = ohlc[\"Adj Close\"]\n",
    "prices.tail()"
   ]
  },
  {
   "cell_type": "code",
   "execution_count": 3,
   "id": "confident-plant",
   "metadata": {},
   "outputs": [
    {
     "data": {
      "text/html": [
       "<div>\n",
       "<style scoped>\n",
       "    .dataframe tbody tr th:only-of-type {\n",
       "        vertical-align: middle;\n",
       "    }\n",
       "\n",
       "    .dataframe tbody tr th {\n",
       "        vertical-align: top;\n",
       "    }\n",
       "\n",
       "    .dataframe thead th {\n",
       "        text-align: right;\n",
       "    }\n",
       "</style>\n",
       "<table border=\"1\" class=\"dataframe\">\n",
       "  <thead>\n",
       "    <tr style=\"text-align: right;\">\n",
       "      <th></th>\n",
       "      <th>AAPL</th>\n",
       "      <th>AMD</th>\n",
       "      <th>BAC</th>\n",
       "      <th>BLK</th>\n",
       "      <th>CVS</th>\n",
       "      <th>DIS</th>\n",
       "      <th>INTU</th>\n",
       "      <th>JD</th>\n",
       "      <th>MA</th>\n",
       "      <th>NVDA</th>\n",
       "      <th>PBI</th>\n",
       "      <th>TGT</th>\n",
       "      <th>TM</th>\n",
       "      <th>UL</th>\n",
       "      <th>WMT</th>\n",
       "    </tr>\n",
       "    <tr>\n",
       "      <th>Date</th>\n",
       "      <th></th>\n",
       "      <th></th>\n",
       "      <th></th>\n",
       "      <th></th>\n",
       "      <th></th>\n",
       "      <th></th>\n",
       "      <th></th>\n",
       "      <th></th>\n",
       "      <th></th>\n",
       "      <th></th>\n",
       "      <th></th>\n",
       "      <th></th>\n",
       "      <th></th>\n",
       "      <th></th>\n",
       "      <th></th>\n",
       "    </tr>\n",
       "  </thead>\n",
       "  <tbody>\n",
       "    <tr>\n",
       "      <th>2021-01-22</th>\n",
       "      <td>0.016074</td>\n",
       "      <td>0.013766</td>\n",
       "      <td>-0.006925</td>\n",
       "      <td>-0.009634</td>\n",
       "      <td>0.000540</td>\n",
       "      <td>0.008758</td>\n",
       "      <td>-0.018075</td>\n",
       "      <td>-0.001998</td>\n",
       "      <td>-0.016296</td>\n",
       "      <td>-0.011177</td>\n",
       "      <td>0.019858</td>\n",
       "      <td>0.003346</td>\n",
       "      <td>-0.022400</td>\n",
       "      <td>-0.004339</td>\n",
       "      <td>0.010217</td>\n",
       "    </tr>\n",
       "    <tr>\n",
       "      <th>2021-01-25</th>\n",
       "      <td>0.027684</td>\n",
       "      <td>0.014441</td>\n",
       "      <td>-0.012361</td>\n",
       "      <td>-0.016421</td>\n",
       "      <td>-0.012277</td>\n",
       "      <td>-0.005151</td>\n",
       "      <td>-0.001120</td>\n",
       "      <td>0.036561</td>\n",
       "      <td>0.000608</td>\n",
       "      <td>-0.004321</td>\n",
       "      <td>0.047288</td>\n",
       "      <td>-0.009171</td>\n",
       "      <td>-0.008314</td>\n",
       "      <td>0.021958</td>\n",
       "      <td>-0.000888</td>\n",
       "    </tr>\n",
       "    <tr>\n",
       "      <th>2021-01-26</th>\n",
       "      <td>0.001679</td>\n",
       "      <td>0.006162</td>\n",
       "      <td>-0.007060</td>\n",
       "      <td>-0.001563</td>\n",
       "      <td>0.013933</td>\n",
       "      <td>-0.013555</td>\n",
       "      <td>0.000988</td>\n",
       "      <td>-0.014332</td>\n",
       "      <td>-0.004526</td>\n",
       "      <td>-0.015967</td>\n",
       "      <td>0.810093</td>\n",
       "      <td>-0.012885</td>\n",
       "      <td>-0.005044</td>\n",
       "      <td>-0.001148</td>\n",
       "      <td>0.008960</td>\n",
       "    </tr>\n",
       "    <tr>\n",
       "      <th>2021-01-27</th>\n",
       "      <td>-0.007684</td>\n",
       "      <td>-0.061979</td>\n",
       "      <td>-0.035876</td>\n",
       "      <td>-0.033331</td>\n",
       "      <td>-0.024384</td>\n",
       "      <td>-0.038511</td>\n",
       "      <td>-0.031190</td>\n",
       "      <td>-0.070950</td>\n",
       "      <td>-0.037260</td>\n",
       "      <td>-0.038518</td>\n",
       "      <td>-0.206897</td>\n",
       "      <td>-0.050186</td>\n",
       "      <td>-0.022880</td>\n",
       "      <td>-0.025616</td>\n",
       "      <td>-0.024880</td>\n",
       "    </tr>\n",
       "    <tr>\n",
       "      <th>2021-01-28</th>\n",
       "      <td>-0.034985</td>\n",
       "      <td>-0.014858</td>\n",
       "      <td>0.016426</td>\n",
       "      <td>0.031700</td>\n",
       "      <td>0.002624</td>\n",
       "      <td>0.054285</td>\n",
       "      <td>0.018837</td>\n",
       "      <td>0.014652</td>\n",
       "      <td>0.027861</td>\n",
       "      <td>0.010315</td>\n",
       "      <td>-0.142461</td>\n",
       "      <td>0.029729</td>\n",
       "      <td>0.004627</td>\n",
       "      <td>-0.004382</td>\n",
       "      <td>-0.000626</td>\n",
       "    </tr>\n",
       "  </tbody>\n",
       "</table>\n",
       "</div>"
      ],
      "text/plain": [
       "                AAPL       AMD       BAC       BLK       CVS       DIS  \\\n",
       "Date                                                                     \n",
       "2021-01-22  0.016074  0.013766 -0.006925 -0.009634  0.000540  0.008758   \n",
       "2021-01-25  0.027684  0.014441 -0.012361 -0.016421 -0.012277 -0.005151   \n",
       "2021-01-26  0.001679  0.006162 -0.007060 -0.001563  0.013933 -0.013555   \n",
       "2021-01-27 -0.007684 -0.061979 -0.035876 -0.033331 -0.024384 -0.038511   \n",
       "2021-01-28 -0.034985 -0.014858  0.016426  0.031700  0.002624  0.054285   \n",
       "\n",
       "                INTU        JD        MA      NVDA       PBI       TGT  \\\n",
       "Date                                                                     \n",
       "2021-01-22 -0.018075 -0.001998 -0.016296 -0.011177  0.019858  0.003346   \n",
       "2021-01-25 -0.001120  0.036561  0.000608 -0.004321  0.047288 -0.009171   \n",
       "2021-01-26  0.000988 -0.014332 -0.004526 -0.015967  0.810093 -0.012885   \n",
       "2021-01-27 -0.031190 -0.070950 -0.037260 -0.038518 -0.206897 -0.050186   \n",
       "2021-01-28  0.018837  0.014652  0.027861  0.010315 -0.142461  0.029729   \n",
       "\n",
       "                  TM        UL       WMT  \n",
       "Date                                      \n",
       "2021-01-22 -0.022400 -0.004339  0.010217  \n",
       "2021-01-25 -0.008314  0.021958 -0.000888  \n",
       "2021-01-26 -0.005044 -0.001148  0.008960  \n",
       "2021-01-27 -0.022880 -0.025616 -0.024880  \n",
       "2021-01-28  0.004627 -0.004382 -0.000626  "
      ]
     },
     "execution_count": 3,
     "metadata": {},
     "output_type": "execute_result"
    }
   ],
   "source": [
    "from pypfopt import expected_returns\n",
    "\n",
    "rets = expected_returns.returns_from_prices(prices)\n",
    "rets.tail()"
   ]
  },
  {
   "cell_type": "markdown",
   "id": "answering-tamil",
   "metadata": {},
   "source": [
    "## HRP optimization\n",
    "\n",
    "HRP uses a completely different backend, so it is currently not possible to pass constraints or specify an objective function."
   ]
  },
  {
   "cell_type": "code",
   "execution_count": 4,
   "id": "crazy-minority",
   "metadata": {},
   "outputs": [],
   "source": [
    "from pypfopt import HRPOpt"
   ]
  },
  {
   "cell_type": "code",
   "execution_count": 5,
   "id": "determined-license",
   "metadata": {},
   "outputs": [
    {
     "data": {
      "text/plain": [
       "OrderedDict([('AAPL', 0.03921),\n",
       "             ('AMD', 0.02652),\n",
       "             ('BAC', 0.04092),\n",
       "             ('BLK', 0.04214),\n",
       "             ('CVS', 0.09277),\n",
       "             ('DIS', 0.06052),\n",
       "             ('INTU', 0.03645),\n",
       "             ('JD', 0.05214),\n",
       "             ('MA', 0.04269),\n",
       "             ('NVDA', 0.02312),\n",
       "             ('PBI', 0.08378),\n",
       "             ('TGT', 0.08712),\n",
       "             ('TM', 0.10045),\n",
       "             ('UL', 0.16135),\n",
       "             ('WMT', 0.11082)])"
      ]
     },
     "execution_count": 5,
     "metadata": {},
     "output_type": "execute_result"
    }
   ],
   "source": [
    "hrp = HRPOpt(rets)\n",
    "hrp.optimize()\n",
    "weights = hrp.clean_weights()\n",
    "weights"
   ]
  },
  {
   "cell_type": "code",
   "execution_count": 6,
   "id": "existing-memphis",
   "metadata": {},
   "outputs": [
    {
     "data": {
      "image/png": "[encoded data removed]",
      "text/plain": [
       "<Figure size 720x720 with 1 Axes>"
      ]
     },
     "metadata": {},
     "output_type": "display_data"
    }
   ],
   "source": [
    "pd.Series(weights).plot.pie(figsize=(10, 10));"
   ]
  },
  {
   "cell_type": "code",
   "execution_count": 7,
   "id": "dramatic-spyware",
   "metadata": {},
   "outputs": [
    {
     "name": "stdout",
     "output_type": "stream",
     "text": [
      "Expected annual return: 20.4%\n",
      "Annual volatility: 19.2%\n",
      "Sharpe Ratio: 0.96\n"
     ]
    }
   ],
   "source": [
    "hrp.portfolio_performance(verbose=True);"
   ]
  },
  {
   "cell_type": "markdown",
   "id": "occupational-costume",
   "metadata": {},
   "source": [
    "## Plotting\n",
    "\n",
    "It is very simple to plot a dendrogram (tree diagram) based on the hierarchical structure of asset returns"
   ]
  },
  {
   "cell_type": "code",
   "execution_count": 8,
   "id": "upset-meaning",
   "metadata": {},
   "outputs": [
    {
     "data": {
      "image/png": "[encoded data removed]",
      "text/plain": [
       "<Figure size 432x288 with 1 Axes>"
      ]
     },
     "metadata": {
      "needs_background": "light"
     },
     "output_type": "display_data"
    }
   ],
   "source": [
    "from pypfopt import plotting\n",
    "\n",
    "plotting.plot_dendrogram(hrp); "
   ]
  },
  {
   "cell_type": "markdown",
   "id": "brave-shock",
   "metadata": {},
   "source": [
    "If you look at this dendogram closely, you can see that most of the clusters make a lot of sense. For example, AMD and NVDA (both semiconductor manufacturers) are grouped."
   ]
  },
  {
   "cell_type": "code",
   "execution_count": null,
   "id": "macro-found",
   "metadata": {},
   "outputs": [],
   "source": []
  }
 ],
 "metadata": {
  "kernelspec": {
   "display_name": "pyportfolioopt",
   "language": "python",
   "name": "pyportfolioopt"
  },
  "language_info": {
   "codemirror_mode": {
    "name": "ipython",
    "version": 3
   },
   "file_extension": ".py",
   "mimetype": "text/x-python",
   "name": "python",
   "nbconvert_exporter": "python",
   "pygments_lexer": "ipython3",
   "version": "3.8.6"
  }
 },
 "nbformat": 4,
 "nbformat_minor": 5
}

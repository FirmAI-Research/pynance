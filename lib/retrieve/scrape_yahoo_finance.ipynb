{
  "nbformat": 4,
  "nbformat_minor": 0,
  "metadata": {
    "colab": {
      "name": "yahoo_finance_scraper.ipynb",
      "provenance": [],
      "collapsed_sections": []
    },
    "kernelspec": {
      "name": "python3",
      "display_name": "Python 3"
    }
  },
  "cells": [
    {
      "cell_type": "code",
      "metadata": {
        "id": "6JGf2DltUhhf"
      },
      "source": [
        "import re\n",
        "import json\n",
        "from io import StringIO\n",
        "from bs4 import BeautifulSoup\n",
        "import requests\n",
        "import csv"
      ],
      "execution_count": 243,
      "outputs": []
    },
    {
      "cell_type": "code",
      "metadata": {
        "id": "JoUX40NbUyw0"
      },
      "source": [
        ""
      ],
      "execution_count": 243,
      "outputs": []
    },
    {
      "cell_type": "markdown",
      "metadata": {
        "id": "OmcPKJSyd7WC"
      },
      "source": [
        "#Build Yahoo Finance URL's"
      ]
    },
    {
      "cell_type": "code",
      "metadata": {
        "id": "pttDKYIvd6nF"
      },
      "source": [
        "url_stats = 'https://finance.yahoo.com/quote/{}/key-statistics?p={}'\n",
        "url_profile = 'https://finance.yahoo.com/quote/{}/profile?p={}'\n",
        "url_financials = 'https://finance.yahoo.com/quote/{}/financials?p={}'"
      ],
      "execution_count": 244,
      "outputs": []
    },
    {
      "cell_type": "code",
      "metadata": {
        "id": "1-XDF5vxVPzN"
      },
      "source": [
        "stock = 'NVDA'"
      ],
      "execution_count": 245,
      "outputs": []
    },
    {
      "cell_type": "markdown",
      "metadata": {
        "id": "qQFDLhd1cYxg"
      },
      "source": [
        "# Match embedded jscript url with regex to parse json data"
      ]
    },
    {
      "cell_type": "code",
      "metadata": {
        "id": "0UtV0UjQVTls"
      },
      "source": [
        "response = requests.get(url_financials.format(stock, stock))"
      ],
      "execution_count": 246,
      "outputs": []
    },
    {
      "cell_type": "code",
      "metadata": {
        "id": "XwOr_i9OVpRf"
      },
      "source": [
        "soup = BeautifulSoup(response.text, 'html.parser')"
      ],
      "execution_count": 247,
      "outputs": []
    },
    {
      "cell_type": "code",
      "metadata": {
        "id": "3jgGWMiKWSkI"
      },
      "source": [
        "pattern = re.compile('\\s--\\sData\\s--\\s')\n",
        "data = soup.find('script', text = pattern).contents[0]"
      ],
      "execution_count": 248,
      "outputs": []
    },
    {
      "cell_type": "code",
      "metadata": {
        "id": "wfy2Wzw_XMMe"
      },
      "source": [
        "data[:111]"
      ],
      "execution_count": null,
      "outputs": []
    },
    {
      "cell_type": "code",
      "metadata": {
        "id": "g-909QWuXQhT"
      },
      "source": [
        "data[:-11]"
      ],
      "execution_count": null,
      "outputs": []
    },
    {
      "cell_type": "code",
      "metadata": {
        "id": "9nD7luqKXTHl"
      },
      "source": [
        "start = data.find('context')-2\n",
        "json_data = json.loads(data[start:-12])\n",
        "json_data['context'].keys()"
      ],
      "execution_count": null,
      "outputs": []
    },
    {
      "cell_type": "code",
      "metadata": {
        "colab": {
          "base_uri": "https://localhost:8080/"
        },
        "id": "1AbsEFccXqKB",
        "outputId": "737d52c0-f443-489f-c279-2080229e75ed"
      },
      "source": [
        "json_data['context']['dispatcher']['stores']['QuoteSummaryStore'].keys()"
      ],
      "execution_count": 252,
      "outputs": [
        {
          "output_type": "execute_result",
          "data": {
            "text/plain": [
              "dict_keys(['financialsTemplate', 'cashflowStatementHistory', 'balanceSheetHistoryQuarterly', 'earnings', 'price', 'incomeStatementHistoryQuarterly', 'incomeStatementHistory', 'balanceSheetHistory', 'cashflowStatementHistoryQuarterly', 'quoteType', 'summaryDetail', 'symbol', 'pageViews'])"
            ]
          },
          "metadata": {
            "tags": []
          },
          "execution_count": 252
        }
      ]
    },
    {
      "cell_type": "code",
      "metadata": {
        "id": "NAHIHPx8YPAE"
      },
      "source": [
        "annual_is = json_data['context']['dispatcher']['stores']['QuoteSummaryStore']['incomeStatementHistory']['incomeStatementHistory']\n",
        "quarterly_is = json_data['context']['dispatcher']['stores']['QuoteSummaryStore']['incomeStatementHistoryQuarterly']['incomeStatementHistory']\n",
        "\n",
        "annual_cf = json_data['context']['dispatcher']['stores']['QuoteSummaryStore']['cashflowStatementHistory']['cashflowStatements']\n",
        "quarterly_cf = json_data['context']['dispatcher']['stores']['QuoteSummaryStore']['cashflowStatementHistoryQuarterly']['cashflowStatements']\n",
        "\n",
        "annual_bs = json_data['context']['dispatcher']['stores']['QuoteSummaryStore']['balanceSheetHistory']['balanceSheetStatements']\n",
        "quarterly_bs = json_data['context']['dispatcher']['stores']['QuoteSummaryStore']['balanceSheetHistoryQuarterly']['balanceSheetStatements']"
      ],
      "execution_count": 253,
      "outputs": []
    },
    {
      "cell_type": "code",
      "metadata": {
        "colab": {
          "base_uri": "https://localhost:8080/"
        },
        "id": "AGMaXaj8aizy",
        "outputId": "043efbe8-2307-4adb-af93-52930f2013ea"
      },
      "source": [
        "quarterly_cf[0].keys()"
      ],
      "execution_count": 272,
      "outputs": [
        {
          "output_type": "execute_result",
          "data": {
            "text/plain": [
              "dict_keys(['investments', 'changeToLiabilities', 'totalCashflowsFromInvestingActivities', 'netBorrowings', 'totalCashFromFinancingActivities', 'changeToOperatingActivities', 'issuanceOfStock', 'netIncome', 'changeInCash', 'endDate', 'repurchaseOfStock', 'totalCashFromOperatingActivities', 'depreciation', 'dividendsPaid', 'changeToInventory', 'changeToAccountReceivables', 'otherCashflowsFromFinancingActivities', 'maxAge', 'changeToNetincome', 'capitalExpenditures'])"
            ]
          },
          "metadata": {
            "tags": []
          },
          "execution_count": 272
        }
      ]
    },
    {
      "cell_type": "markdown",
      "metadata": {
        "id": "ceOxSf2mcQ1F"
      },
      "source": [
        "# Annual Balance Sheet"
      ]
    },
    {
      "cell_type": "code",
      "metadata": {
        "colab": {
          "base_uri": "https://localhost:8080/"
        },
        "id": "fSI1dPPBcFPC",
        "outputId": "fb2b88f8-9992-493d-92bf-0bbecd333507"
      },
      "source": [
        "parsed_statements = []\n",
        "for s in annual_bs:\n",
        "  statement = {}\n",
        "  for k,v in s.items():\n",
        "    try:\n",
        "      statement[k] = v['raw']\n",
        "    except TypeError:\n",
        "      continue\n",
        "    except KeyError:\n",
        "      continue\n",
        "    parsed_statements.append(statement)\n",
        "print(parsed_statements[:11])"
      ],
      "execution_count": 255,
      "outputs": [
        {
          "output_type": "stream",
          "text": [
            "[{'intangibleAssets': 2737000000, 'capitalSurplus': 8721000000, 'totalLiab': 11898000000, 'totalStockholderEquity': 16893000000, 'otherCurrentLiab': 1207000000, 'totalAssets': 28791000000, 'endDate': 1612051200, 'commonStock': 1000000, 'retainedEarnings': 18908000000, 'otherLiab': 1375000000, 'goodWill': 4193000000, 'treasuryStock': -10737000000, 'otherAssets': 2806000000, 'cash': 847000000, 'totalCurrentLiabilities': 3925000000, 'deferredLongTermAssetCharges': 806000000, 'shortLongTermDebt': 999000000, 'otherStockholderEquity': 19000000, 'propertyPlantEquipment': 2856000000, 'totalCurrentAssets': 16055000000, 'longTermInvestments': 144000000, 'netTangibleAssets': 9963000000, 'shortTermInvestments': 10714000000, 'netReceivables': 2429000000, 'longTermDebt': 5964000000, 'inventory': 1826000000, 'accountsPayable': 1201000000}, {'intangibleAssets': 2737000000, 'capitalSurplus': 8721000000, 'totalLiab': 11898000000, 'totalStockholderEquity': 16893000000, 'otherCurrentLiab': 1207000000, 'totalAssets': 28791000000, 'endDate': 1612051200, 'commonStock': 1000000, 'retainedEarnings': 18908000000, 'otherLiab': 1375000000, 'goodWill': 4193000000, 'treasuryStock': -10737000000, 'otherAssets': 2806000000, 'cash': 847000000, 'totalCurrentLiabilities': 3925000000, 'deferredLongTermAssetCharges': 806000000, 'shortLongTermDebt': 999000000, 'otherStockholderEquity': 19000000, 'propertyPlantEquipment': 2856000000, 'totalCurrentAssets': 16055000000, 'longTermInvestments': 144000000, 'netTangibleAssets': 9963000000, 'shortTermInvestments': 10714000000, 'netReceivables': 2429000000, 'longTermDebt': 5964000000, 'inventory': 1826000000, 'accountsPayable': 1201000000}, {'intangibleAssets': 2737000000, 'capitalSurplus': 8721000000, 'totalLiab': 11898000000, 'totalStockholderEquity': 16893000000, 'otherCurrentLiab': 1207000000, 'totalAssets': 28791000000, 'endDate': 1612051200, 'commonStock': 1000000, 'retainedEarnings': 18908000000, 'otherLiab': 1375000000, 'goodWill': 4193000000, 'treasuryStock': -10737000000, 'otherAssets': 2806000000, 'cash': 847000000, 'totalCurrentLiabilities': 3925000000, 'deferredLongTermAssetCharges': 806000000, 'shortLongTermDebt': 999000000, 'otherStockholderEquity': 19000000, 'propertyPlantEquipment': 2856000000, 'totalCurrentAssets': 16055000000, 'longTermInvestments': 144000000, 'netTangibleAssets': 9963000000, 'shortTermInvestments': 10714000000, 'netReceivables': 2429000000, 'longTermDebt': 5964000000, 'inventory': 1826000000, 'accountsPayable': 1201000000}, {'intangibleAssets': 2737000000, 'capitalSurplus': 8721000000, 'totalLiab': 11898000000, 'totalStockholderEquity': 16893000000, 'otherCurrentLiab': 1207000000, 'totalAssets': 28791000000, 'endDate': 1612051200, 'commonStock': 1000000, 'retainedEarnings': 18908000000, 'otherLiab': 1375000000, 'goodWill': 4193000000, 'treasuryStock': -10737000000, 'otherAssets': 2806000000, 'cash': 847000000, 'totalCurrentLiabilities': 3925000000, 'deferredLongTermAssetCharges': 806000000, 'shortLongTermDebt': 999000000, 'otherStockholderEquity': 19000000, 'propertyPlantEquipment': 2856000000, 'totalCurrentAssets': 16055000000, 'longTermInvestments': 144000000, 'netTangibleAssets': 9963000000, 'shortTermInvestments': 10714000000, 'netReceivables': 2429000000, 'longTermDebt': 5964000000, 'inventory': 1826000000, 'accountsPayable': 1201000000}, {'intangibleAssets': 2737000000, 'capitalSurplus': 8721000000, 'totalLiab': 11898000000, 'totalStockholderEquity': 16893000000, 'otherCurrentLiab': 1207000000, 'totalAssets': 28791000000, 'endDate': 1612051200, 'commonStock': 1000000, 'retainedEarnings': 18908000000, 'otherLiab': 1375000000, 'goodWill': 4193000000, 'treasuryStock': -10737000000, 'otherAssets': 2806000000, 'cash': 847000000, 'totalCurrentLiabilities': 3925000000, 'deferredLongTermAssetCharges': 806000000, 'shortLongTermDebt': 999000000, 'otherStockholderEquity': 19000000, 'propertyPlantEquipment': 2856000000, 'totalCurrentAssets': 16055000000, 'longTermInvestments': 144000000, 'netTangibleAssets': 9963000000, 'shortTermInvestments': 10714000000, 'netReceivables': 2429000000, 'longTermDebt': 5964000000, 'inventory': 1826000000, 'accountsPayable': 1201000000}, {'intangibleAssets': 2737000000, 'capitalSurplus': 8721000000, 'totalLiab': 11898000000, 'totalStockholderEquity': 16893000000, 'otherCurrentLiab': 1207000000, 'totalAssets': 28791000000, 'endDate': 1612051200, 'commonStock': 1000000, 'retainedEarnings': 18908000000, 'otherLiab': 1375000000, 'goodWill': 4193000000, 'treasuryStock': -10737000000, 'otherAssets': 2806000000, 'cash': 847000000, 'totalCurrentLiabilities': 3925000000, 'deferredLongTermAssetCharges': 806000000, 'shortLongTermDebt': 999000000, 'otherStockholderEquity': 19000000, 'propertyPlantEquipment': 2856000000, 'totalCurrentAssets': 16055000000, 'longTermInvestments': 144000000, 'netTangibleAssets': 9963000000, 'shortTermInvestments': 10714000000, 'netReceivables': 2429000000, 'longTermDebt': 5964000000, 'inventory': 1826000000, 'accountsPayable': 1201000000}, {'intangibleAssets': 2737000000, 'capitalSurplus': 8721000000, 'totalLiab': 11898000000, 'totalStockholderEquity': 16893000000, 'otherCurrentLiab': 1207000000, 'totalAssets': 28791000000, 'endDate': 1612051200, 'commonStock': 1000000, 'retainedEarnings': 18908000000, 'otherLiab': 1375000000, 'goodWill': 4193000000, 'treasuryStock': -10737000000, 'otherAssets': 2806000000, 'cash': 847000000, 'totalCurrentLiabilities': 3925000000, 'deferredLongTermAssetCharges': 806000000, 'shortLongTermDebt': 999000000, 'otherStockholderEquity': 19000000, 'propertyPlantEquipment': 2856000000, 'totalCurrentAssets': 16055000000, 'longTermInvestments': 144000000, 'netTangibleAssets': 9963000000, 'shortTermInvestments': 10714000000, 'netReceivables': 2429000000, 'longTermDebt': 5964000000, 'inventory': 1826000000, 'accountsPayable': 1201000000}, {'intangibleAssets': 2737000000, 'capitalSurplus': 8721000000, 'totalLiab': 11898000000, 'totalStockholderEquity': 16893000000, 'otherCurrentLiab': 1207000000, 'totalAssets': 28791000000, 'endDate': 1612051200, 'commonStock': 1000000, 'retainedEarnings': 18908000000, 'otherLiab': 1375000000, 'goodWill': 4193000000, 'treasuryStock': -10737000000, 'otherAssets': 2806000000, 'cash': 847000000, 'totalCurrentLiabilities': 3925000000, 'deferredLongTermAssetCharges': 806000000, 'shortLongTermDebt': 999000000, 'otherStockholderEquity': 19000000, 'propertyPlantEquipment': 2856000000, 'totalCurrentAssets': 16055000000, 'longTermInvestments': 144000000, 'netTangibleAssets': 9963000000, 'shortTermInvestments': 10714000000, 'netReceivables': 2429000000, 'longTermDebt': 5964000000, 'inventory': 1826000000, 'accountsPayable': 1201000000}, {'intangibleAssets': 2737000000, 'capitalSurplus': 8721000000, 'totalLiab': 11898000000, 'totalStockholderEquity': 16893000000, 'otherCurrentLiab': 1207000000, 'totalAssets': 28791000000, 'endDate': 1612051200, 'commonStock': 1000000, 'retainedEarnings': 18908000000, 'otherLiab': 1375000000, 'goodWill': 4193000000, 'treasuryStock': -10737000000, 'otherAssets': 2806000000, 'cash': 847000000, 'totalCurrentLiabilities': 3925000000, 'deferredLongTermAssetCharges': 806000000, 'shortLongTermDebt': 999000000, 'otherStockholderEquity': 19000000, 'propertyPlantEquipment': 2856000000, 'totalCurrentAssets': 16055000000, 'longTermInvestments': 144000000, 'netTangibleAssets': 9963000000, 'shortTermInvestments': 10714000000, 'netReceivables': 2429000000, 'longTermDebt': 5964000000, 'inventory': 1826000000, 'accountsPayable': 1201000000}, {'intangibleAssets': 2737000000, 'capitalSurplus': 8721000000, 'totalLiab': 11898000000, 'totalStockholderEquity': 16893000000, 'otherCurrentLiab': 1207000000, 'totalAssets': 28791000000, 'endDate': 1612051200, 'commonStock': 1000000, 'retainedEarnings': 18908000000, 'otherLiab': 1375000000, 'goodWill': 4193000000, 'treasuryStock': -10737000000, 'otherAssets': 2806000000, 'cash': 847000000, 'totalCurrentLiabilities': 3925000000, 'deferredLongTermAssetCharges': 806000000, 'shortLongTermDebt': 999000000, 'otherStockholderEquity': 19000000, 'propertyPlantEquipment': 2856000000, 'totalCurrentAssets': 16055000000, 'longTermInvestments': 144000000, 'netTangibleAssets': 9963000000, 'shortTermInvestments': 10714000000, 'netReceivables': 2429000000, 'longTermDebt': 5964000000, 'inventory': 1826000000, 'accountsPayable': 1201000000}, {'intangibleAssets': 2737000000, 'capitalSurplus': 8721000000, 'totalLiab': 11898000000, 'totalStockholderEquity': 16893000000, 'otherCurrentLiab': 1207000000, 'totalAssets': 28791000000, 'endDate': 1612051200, 'commonStock': 1000000, 'retainedEarnings': 18908000000, 'otherLiab': 1375000000, 'goodWill': 4193000000, 'treasuryStock': -10737000000, 'otherAssets': 2806000000, 'cash': 847000000, 'totalCurrentLiabilities': 3925000000, 'deferredLongTermAssetCharges': 806000000, 'shortLongTermDebt': 999000000, 'otherStockholderEquity': 19000000, 'propertyPlantEquipment': 2856000000, 'totalCurrentAssets': 16055000000, 'longTermInvestments': 144000000, 'netTangibleAssets': 9963000000, 'shortTermInvestments': 10714000000, 'netReceivables': 2429000000, 'longTermDebt': 5964000000, 'inventory': 1826000000, 'accountsPayable': 1201000000}]\n"
          ],
          "name": "stdout"
        }
      ]
    },
    {
      "cell_type": "markdown",
      "metadata": {
        "id": "dRWejv9wdLnG"
      },
      "source": [
        "# Quarterly Cash Flow"
      ]
    },
    {
      "cell_type": "code",
      "metadata": {
        "colab": {
          "base_uri": "https://localhost:8080/"
        },
        "id": "jl2LIjrodKxP",
        "outputId": "3cfafec9-8fc5-4764-cf92-401b5b6577c8"
      },
      "source": [
        "parsed_statements = []\n",
        "for s in quarterly_cf:\n",
        "  statement = {}\n",
        "  for k,v in s.items():\n",
        "    try:\n",
        "      statement[k] = v['raw']\n",
        "    except TypeError:\n",
        "      continue\n",
        "    except KeyError:\n",
        "      continue\n",
        "    parsed_statements.append(statement)\n",
        "print(parsed_statements[:11])"
      ],
      "execution_count": 256,
      "outputs": [
        {
          "output_type": "stream",
          "text": [
            "[{'investments': -2846000000, 'changeToLiabilities': 74000000, 'totalCashflowsFromInvestingActivities': -3129000000, 'netBorrowings': -3000000, 'totalCashFromFinancingActivities': -342000000, 'changeToOperatingActivities': 232000000, 'issuanceOfStock': 4000000, 'netIncome': 1457000000, 'changeInCash': -1404000000, 'endDate': 1612051200, 'repurchaseOfStock': -226000000, 'totalCashFromOperatingActivities': 2067000000, 'depreciation': 288000000, 'dividendsPaid': -99000000, 'changeToInventory': -334000000, 'changeToAccountReceivables': 117000000, 'otherCashflowsFromFinancingActivities': -18000000, 'changeToNetincome': 233000000, 'capitalExpenditures': -283000000}, {'investments': -2846000000, 'changeToLiabilities': 74000000, 'totalCashflowsFromInvestingActivities': -3129000000, 'netBorrowings': -3000000, 'totalCashFromFinancingActivities': -342000000, 'changeToOperatingActivities': 232000000, 'issuanceOfStock': 4000000, 'netIncome': 1457000000, 'changeInCash': -1404000000, 'endDate': 1612051200, 'repurchaseOfStock': -226000000, 'totalCashFromOperatingActivities': 2067000000, 'depreciation': 288000000, 'dividendsPaid': -99000000, 'changeToInventory': -334000000, 'changeToAccountReceivables': 117000000, 'otherCashflowsFromFinancingActivities': -18000000, 'changeToNetincome': 233000000, 'capitalExpenditures': -283000000}, {'investments': -2846000000, 'changeToLiabilities': 74000000, 'totalCashflowsFromInvestingActivities': -3129000000, 'netBorrowings': -3000000, 'totalCashFromFinancingActivities': -342000000, 'changeToOperatingActivities': 232000000, 'issuanceOfStock': 4000000, 'netIncome': 1457000000, 'changeInCash': -1404000000, 'endDate': 1612051200, 'repurchaseOfStock': -226000000, 'totalCashFromOperatingActivities': 2067000000, 'depreciation': 288000000, 'dividendsPaid': -99000000, 'changeToInventory': -334000000, 'changeToAccountReceivables': 117000000, 'otherCashflowsFromFinancingActivities': -18000000, 'changeToNetincome': 233000000, 'capitalExpenditures': -283000000}, {'investments': -2846000000, 'changeToLiabilities': 74000000, 'totalCashflowsFromInvestingActivities': -3129000000, 'netBorrowings': -3000000, 'totalCashFromFinancingActivities': -342000000, 'changeToOperatingActivities': 232000000, 'issuanceOfStock': 4000000, 'netIncome': 1457000000, 'changeInCash': -1404000000, 'endDate': 1612051200, 'repurchaseOfStock': -226000000, 'totalCashFromOperatingActivities': 2067000000, 'depreciation': 288000000, 'dividendsPaid': -99000000, 'changeToInventory': -334000000, 'changeToAccountReceivables': 117000000, 'otherCashflowsFromFinancingActivities': -18000000, 'changeToNetincome': 233000000, 'capitalExpenditures': -283000000}, {'investments': -2846000000, 'changeToLiabilities': 74000000, 'totalCashflowsFromInvestingActivities': -3129000000, 'netBorrowings': -3000000, 'totalCashFromFinancingActivities': -342000000, 'changeToOperatingActivities': 232000000, 'issuanceOfStock': 4000000, 'netIncome': 1457000000, 'changeInCash': -1404000000, 'endDate': 1612051200, 'repurchaseOfStock': -226000000, 'totalCashFromOperatingActivities': 2067000000, 'depreciation': 288000000, 'dividendsPaid': -99000000, 'changeToInventory': -334000000, 'changeToAccountReceivables': 117000000, 'otherCashflowsFromFinancingActivities': -18000000, 'changeToNetincome': 233000000, 'capitalExpenditures': -283000000}, {'investments': -2846000000, 'changeToLiabilities': 74000000, 'totalCashflowsFromInvestingActivities': -3129000000, 'netBorrowings': -3000000, 'totalCashFromFinancingActivities': -342000000, 'changeToOperatingActivities': 232000000, 'issuanceOfStock': 4000000, 'netIncome': 1457000000, 'changeInCash': -1404000000, 'endDate': 1612051200, 'repurchaseOfStock': -226000000, 'totalCashFromOperatingActivities': 2067000000, 'depreciation': 288000000, 'dividendsPaid': -99000000, 'changeToInventory': -334000000, 'changeToAccountReceivables': 117000000, 'otherCashflowsFromFinancingActivities': -18000000, 'changeToNetincome': 233000000, 'capitalExpenditures': -283000000}, {'investments': -2846000000, 'changeToLiabilities': 74000000, 'totalCashflowsFromInvestingActivities': -3129000000, 'netBorrowings': -3000000, 'totalCashFromFinancingActivities': -342000000, 'changeToOperatingActivities': 232000000, 'issuanceOfStock': 4000000, 'netIncome': 1457000000, 'changeInCash': -1404000000, 'endDate': 1612051200, 'repurchaseOfStock': -226000000, 'totalCashFromOperatingActivities': 2067000000, 'depreciation': 288000000, 'dividendsPaid': -99000000, 'changeToInventory': -334000000, 'changeToAccountReceivables': 117000000, 'otherCashflowsFromFinancingActivities': -18000000, 'changeToNetincome': 233000000, 'capitalExpenditures': -283000000}, {'investments': -2846000000, 'changeToLiabilities': 74000000, 'totalCashflowsFromInvestingActivities': -3129000000, 'netBorrowings': -3000000, 'totalCashFromFinancingActivities': -342000000, 'changeToOperatingActivities': 232000000, 'issuanceOfStock': 4000000, 'netIncome': 1457000000, 'changeInCash': -1404000000, 'endDate': 1612051200, 'repurchaseOfStock': -226000000, 'totalCashFromOperatingActivities': 2067000000, 'depreciation': 288000000, 'dividendsPaid': -99000000, 'changeToInventory': -334000000, 'changeToAccountReceivables': 117000000, 'otherCashflowsFromFinancingActivities': -18000000, 'changeToNetincome': 233000000, 'capitalExpenditures': -283000000}, {'investments': -2846000000, 'changeToLiabilities': 74000000, 'totalCashflowsFromInvestingActivities': -3129000000, 'netBorrowings': -3000000, 'totalCashFromFinancingActivities': -342000000, 'changeToOperatingActivities': 232000000, 'issuanceOfStock': 4000000, 'netIncome': 1457000000, 'changeInCash': -1404000000, 'endDate': 1612051200, 'repurchaseOfStock': -226000000, 'totalCashFromOperatingActivities': 2067000000, 'depreciation': 288000000, 'dividendsPaid': -99000000, 'changeToInventory': -334000000, 'changeToAccountReceivables': 117000000, 'otherCashflowsFromFinancingActivities': -18000000, 'changeToNetincome': 233000000, 'capitalExpenditures': -283000000}, {'investments': -2846000000, 'changeToLiabilities': 74000000, 'totalCashflowsFromInvestingActivities': -3129000000, 'netBorrowings': -3000000, 'totalCashFromFinancingActivities': -342000000, 'changeToOperatingActivities': 232000000, 'issuanceOfStock': 4000000, 'netIncome': 1457000000, 'changeInCash': -1404000000, 'endDate': 1612051200, 'repurchaseOfStock': -226000000, 'totalCashFromOperatingActivities': 2067000000, 'depreciation': 288000000, 'dividendsPaid': -99000000, 'changeToInventory': -334000000, 'changeToAccountReceivables': 117000000, 'otherCashflowsFromFinancingActivities': -18000000, 'changeToNetincome': 233000000, 'capitalExpenditures': -283000000}, {'investments': -2846000000, 'changeToLiabilities': 74000000, 'totalCashflowsFromInvestingActivities': -3129000000, 'netBorrowings': -3000000, 'totalCashFromFinancingActivities': -342000000, 'changeToOperatingActivities': 232000000, 'issuanceOfStock': 4000000, 'netIncome': 1457000000, 'changeInCash': -1404000000, 'endDate': 1612051200, 'repurchaseOfStock': -226000000, 'totalCashFromOperatingActivities': 2067000000, 'depreciation': 288000000, 'dividendsPaid': -99000000, 'changeToInventory': -334000000, 'changeToAccountReceivables': 117000000, 'otherCashflowsFromFinancingActivities': -18000000, 'changeToNetincome': 233000000, 'capitalExpenditures': -283000000}]\n"
          ],
          "name": "stdout"
        }
      ]
    },
    {
      "cell_type": "code",
      "metadata": {
        "id": "lJZuUSvKdeSt"
      },
      "source": [
        ""
      ],
      "execution_count": 256,
      "outputs": []
    },
    {
      "cell_type": "markdown",
      "metadata": {
        "id": "xHddpGIgdhO-"
      },
      "source": [
        "#Quarterly Income Statement"
      ]
    },
    {
      "cell_type": "code",
      "metadata": {
        "colab": {
          "base_uri": "https://localhost:8080/"
        },
        "id": "MceAWrnsdjhJ",
        "outputId": "4a001d9e-aede-4b93-e85d-a1fed195e782"
      },
      "source": [
        "parsed_statements = []\n",
        "for s in quarterly_is:\n",
        "  statement = {}\n",
        "  for k,v in s.items():\n",
        "    try:\n",
        "      statement[k] = v['raw']\n",
        "    except TypeError:\n",
        "      continue\n",
        "    except KeyError:\n",
        "      continue\n",
        "    parsed_statements.append(statement)\n",
        "print(parsed_statements[:11])"
      ],
      "execution_count": 257,
      "outputs": [
        {
          "output_type": "stream",
          "text": [
            "[{'researchDevelopment': 1146000000, 'incomeBeforeTax': 1470000000, 'netIncome': 1457000000, 'sellingGeneralAdministrative': 502000000, 'grossProfit': 3156000000, 'ebit': 1508000000, 'endDate': 1612051200, 'operatingIncome': 1508000000, 'interestExpense': -53000000, 'incomeTaxExpense': 13000000, 'totalRevenue': 5003000000, 'totalOperatingExpenses': 3495000000, 'costOfRevenue': 1847000000, 'totalOtherIncomeExpenseNet': -38000000, 'netIncomeFromContinuingOps': 1457000000, 'netIncomeApplicableToCommonShares': 1457000000}, {'researchDevelopment': 1146000000, 'incomeBeforeTax': 1470000000, 'netIncome': 1457000000, 'sellingGeneralAdministrative': 502000000, 'grossProfit': 3156000000, 'ebit': 1508000000, 'endDate': 1612051200, 'operatingIncome': 1508000000, 'interestExpense': -53000000, 'incomeTaxExpense': 13000000, 'totalRevenue': 5003000000, 'totalOperatingExpenses': 3495000000, 'costOfRevenue': 1847000000, 'totalOtherIncomeExpenseNet': -38000000, 'netIncomeFromContinuingOps': 1457000000, 'netIncomeApplicableToCommonShares': 1457000000}, {'researchDevelopment': 1146000000, 'incomeBeforeTax': 1470000000, 'netIncome': 1457000000, 'sellingGeneralAdministrative': 502000000, 'grossProfit': 3156000000, 'ebit': 1508000000, 'endDate': 1612051200, 'operatingIncome': 1508000000, 'interestExpense': -53000000, 'incomeTaxExpense': 13000000, 'totalRevenue': 5003000000, 'totalOperatingExpenses': 3495000000, 'costOfRevenue': 1847000000, 'totalOtherIncomeExpenseNet': -38000000, 'netIncomeFromContinuingOps': 1457000000, 'netIncomeApplicableToCommonShares': 1457000000}, {'researchDevelopment': 1146000000, 'incomeBeforeTax': 1470000000, 'netIncome': 1457000000, 'sellingGeneralAdministrative': 502000000, 'grossProfit': 3156000000, 'ebit': 1508000000, 'endDate': 1612051200, 'operatingIncome': 1508000000, 'interestExpense': -53000000, 'incomeTaxExpense': 13000000, 'totalRevenue': 5003000000, 'totalOperatingExpenses': 3495000000, 'costOfRevenue': 1847000000, 'totalOtherIncomeExpenseNet': -38000000, 'netIncomeFromContinuingOps': 1457000000, 'netIncomeApplicableToCommonShares': 1457000000}, {'researchDevelopment': 1146000000, 'incomeBeforeTax': 1470000000, 'netIncome': 1457000000, 'sellingGeneralAdministrative': 502000000, 'grossProfit': 3156000000, 'ebit': 1508000000, 'endDate': 1612051200, 'operatingIncome': 1508000000, 'interestExpense': -53000000, 'incomeTaxExpense': 13000000, 'totalRevenue': 5003000000, 'totalOperatingExpenses': 3495000000, 'costOfRevenue': 1847000000, 'totalOtherIncomeExpenseNet': -38000000, 'netIncomeFromContinuingOps': 1457000000, 'netIncomeApplicableToCommonShares': 1457000000}, {'researchDevelopment': 1146000000, 'incomeBeforeTax': 1470000000, 'netIncome': 1457000000, 'sellingGeneralAdministrative': 502000000, 'grossProfit': 3156000000, 'ebit': 1508000000, 'endDate': 1612051200, 'operatingIncome': 1508000000, 'interestExpense': -53000000, 'incomeTaxExpense': 13000000, 'totalRevenue': 5003000000, 'totalOperatingExpenses': 3495000000, 'costOfRevenue': 1847000000, 'totalOtherIncomeExpenseNet': -38000000, 'netIncomeFromContinuingOps': 1457000000, 'netIncomeApplicableToCommonShares': 1457000000}, {'researchDevelopment': 1146000000, 'incomeBeforeTax': 1470000000, 'netIncome': 1457000000, 'sellingGeneralAdministrative': 502000000, 'grossProfit': 3156000000, 'ebit': 1508000000, 'endDate': 1612051200, 'operatingIncome': 1508000000, 'interestExpense': -53000000, 'incomeTaxExpense': 13000000, 'totalRevenue': 5003000000, 'totalOperatingExpenses': 3495000000, 'costOfRevenue': 1847000000, 'totalOtherIncomeExpenseNet': -38000000, 'netIncomeFromContinuingOps': 1457000000, 'netIncomeApplicableToCommonShares': 1457000000}, {'researchDevelopment': 1146000000, 'incomeBeforeTax': 1470000000, 'netIncome': 1457000000, 'sellingGeneralAdministrative': 502000000, 'grossProfit': 3156000000, 'ebit': 1508000000, 'endDate': 1612051200, 'operatingIncome': 1508000000, 'interestExpense': -53000000, 'incomeTaxExpense': 13000000, 'totalRevenue': 5003000000, 'totalOperatingExpenses': 3495000000, 'costOfRevenue': 1847000000, 'totalOtherIncomeExpenseNet': -38000000, 'netIncomeFromContinuingOps': 1457000000, 'netIncomeApplicableToCommonShares': 1457000000}, {'researchDevelopment': 1146000000, 'incomeBeforeTax': 1470000000, 'netIncome': 1457000000, 'sellingGeneralAdministrative': 502000000, 'grossProfit': 3156000000, 'ebit': 1508000000, 'endDate': 1612051200, 'operatingIncome': 1508000000, 'interestExpense': -53000000, 'incomeTaxExpense': 13000000, 'totalRevenue': 5003000000, 'totalOperatingExpenses': 3495000000, 'costOfRevenue': 1847000000, 'totalOtherIncomeExpenseNet': -38000000, 'netIncomeFromContinuingOps': 1457000000, 'netIncomeApplicableToCommonShares': 1457000000}, {'researchDevelopment': 1146000000, 'incomeBeforeTax': 1470000000, 'netIncome': 1457000000, 'sellingGeneralAdministrative': 502000000, 'grossProfit': 3156000000, 'ebit': 1508000000, 'endDate': 1612051200, 'operatingIncome': 1508000000, 'interestExpense': -53000000, 'incomeTaxExpense': 13000000, 'totalRevenue': 5003000000, 'totalOperatingExpenses': 3495000000, 'costOfRevenue': 1847000000, 'totalOtherIncomeExpenseNet': -38000000, 'netIncomeFromContinuingOps': 1457000000, 'netIncomeApplicableToCommonShares': 1457000000}, {'researchDevelopment': 1146000000, 'incomeBeforeTax': 1470000000, 'netIncome': 1457000000, 'sellingGeneralAdministrative': 502000000, 'grossProfit': 3156000000, 'ebit': 1508000000, 'endDate': 1612051200, 'operatingIncome': 1508000000, 'interestExpense': -53000000, 'incomeTaxExpense': 13000000, 'totalRevenue': 5003000000, 'totalOperatingExpenses': 3495000000, 'costOfRevenue': 1847000000, 'totalOtherIncomeExpenseNet': -38000000, 'netIncomeFromContinuingOps': 1457000000, 'netIncomeApplicableToCommonShares': 1457000000}]\n"
          ],
          "name": "stdout"
        }
      ]
    },
    {
      "cell_type": "code",
      "metadata": {
        "id": "HzqjD7Jadlq0"
      },
      "source": [
        ""
      ],
      "execution_count": 257,
      "outputs": []
    },
    {
      "cell_type": "markdown",
      "metadata": {
        "id": "xim7iQodeKIx"
      },
      "source": [
        "# Profile Data"
      ]
    },
    {
      "cell_type": "code",
      "metadata": {
        "id": "ginsgjAaeLdN"
      },
      "source": [
        "url_profile = 'https://finance.yahoo.com/quote/{}/profile?p={}'\n",
        "response = requests.get(url_profile.format(stock, stock))\n",
        "soup = BeautifulSoup(response.text, 'html.parser')\n",
        "pattern = re.compile('\\s--\\sData\\s--\\s')\n",
        "data = soup.find('script', text = pattern).contents[0]\n",
        "start = data.find('context')-2\n",
        "json_data = json.loads(data[start:-12])"
      ],
      "execution_count": 258,
      "outputs": []
    },
    {
      "cell_type": "code",
      "metadata": {
        "colab": {
          "base_uri": "https://localhost:8080/"
        },
        "id": "cdNaKyhee75Q",
        "outputId": "0b98bc1d-3610-4a14-ffe4-f8cda16cba96"
      },
      "source": [
        "json_data['context']['dispatcher']['stores']['QuoteSummaryStore'].keys()"
      ],
      "execution_count": 259,
      "outputs": [
        {
          "output_type": "execute_result",
          "data": {
            "text/plain": [
              "dict_keys(['financialsTemplate', 'price', 'secFilings', 'quoteType', 'calendarEvents', 'summaryDetail', 'symbol', 'assetProfile', 'pageViews'])"
            ]
          },
          "metadata": {
            "tags": []
          },
          "execution_count": 259
        }
      ]
    },
    {
      "cell_type": "markdown",
      "metadata": {
        "id": "RWefbgybgBeb"
      },
      "source": [
        "# Company Officers"
      ]
    },
    {
      "cell_type": "code",
      "metadata": {
        "id": "7RXYjnHWf3BP"
      },
      "source": [
        "json_data['context']['dispatcher']['stores']['QuoteSummaryStore']['assetProfile']['companyOfficers']"
      ],
      "execution_count": null,
      "outputs": []
    },
    {
      "cell_type": "markdown",
      "metadata": {
        "id": "FPDepauHf_rR"
      },
      "source": [
        "# SEC Filings"
      ]
    },
    {
      "cell_type": "code",
      "metadata": {
        "id": "Cxc_cMv_f6rI"
      },
      "source": [
        "json_data['context']['dispatcher']['stores']['QuoteSummaryStore']['secFilings'].keys()\n",
        "json_data['context']['dispatcher']['stores']['QuoteSummaryStore']['secFilings']['filings']"
      ],
      "execution_count": null,
      "outputs": []
    },
    {
      "cell_type": "markdown",
      "metadata": {
        "id": "Q-I9luN_gfPG"
      },
      "source": [
        "# Business Summary"
      ]
    },
    {
      "cell_type": "code",
      "metadata": {
        "colab": {
          "base_uri": "https://localhost:8080/",
          "height": 137
        },
        "id": "lHdTKE_8gGqX",
        "outputId": "f79b3df3-9e89-4d0a-8b1e-c6c232056d13"
      },
      "source": [
        "json_data['context']['dispatcher']['stores']['QuoteSummaryStore']['assetProfile']['longBusinessSummary']"
      ],
      "execution_count": 262,
      "outputs": [
        {
          "output_type": "execute_result",
          "data": {
            "application/vnd.google.colaboratory.intrinsic+json": {
              "type": "string"
            },
            "text/plain": [
              "\"NVIDIA Corporation operates as a visual computing company worldwide. It operates in two segments, GPU and Tegra Processor. The GPU segment offers processors, which include GeForce for PC gaming and mainstream PCs; GeForce NOW for cloud-based gaming; Quadro for design professionals working in computer-aided design, video editing, special effects, and other creative applications; Tesla for artificial intelligence (AI) utilizing deep learning, accelerated computing, and general purpose computing; GRID, which provides power of NVIDIA graphics through the cloud and datacenters; DGX for AI scientists, researchers, and developers; and EGX for accelerated AI computing at the edge. The Tegra Processor segment provides processors comprising SHIELD devices and services designed to harness the power of mobile-cloud to revolutionize home entertainment, AI, and gaming; AGX, a power-efficient AI computing platform for intelligent edge devices; DRIVE AGX for self-driving vehicles; Clara AGX for medical instruments; and Jetson AGX for robotics and other embedded use. The company's products are used in gaming, professional visualization, datacenter, and automotive markets. NVIDIA Corporation sells its products to original equipment manufacturers, original device manufacturers, system builders, add-in board manufacturers, retailers/distributors, Internet and cloud service providers, automotive manufacturers and tier-1 automotive suppliers, mapping companies, start-ups, and other ecosystem participants. NVIDIA Corporation was founded in 1993 and is headquartered in Santa Clara, California.\""
            ]
          },
          "metadata": {
            "tags": []
          },
          "execution_count": 262
        }
      ]
    },
    {
      "cell_type": "code",
      "metadata": {
        "colab": {
          "base_uri": "https://localhost:8080/"
        },
        "id": "q2HgtMKygW1J",
        "outputId": "545c2ecb-9765-4d99-b8f7-47ec64cb42c9"
      },
      "source": [
        "json_data['context']['dispatcher']['stores']['QuoteSummaryStore']['summaryDetail']"
      ],
      "execution_count": 263,
      "outputs": [
        {
          "output_type": "execute_result",
          "data": {
            "text/plain": [
              "{'algorithm': None,\n",
              " 'ask': {'fmt': '0.00', 'raw': 0},\n",
              " 'askSize': {'fmt': '900', 'longFmt': '900', 'raw': 900},\n",
              " 'averageDailyVolume10Day': {'fmt': '10.86M',\n",
              "  'longFmt': '10,858,466',\n",
              "  'raw': 10858466},\n",
              " 'averageVolume': {'fmt': '7.86M', 'longFmt': '7,856,096', 'raw': 7856096},\n",
              " 'averageVolume10days': {'fmt': '10.86M',\n",
              "  'longFmt': '10,858,466',\n",
              "  'raw': 10858466},\n",
              " 'beta': {'fmt': '1.41', 'raw': 1.412242},\n",
              " 'bid': {'fmt': '0.00', 'raw': 0},\n",
              " 'bidSize': {'fmt': '900', 'longFmt': '900', 'raw': 900},\n",
              " 'circulatingSupply': {},\n",
              " 'currency': 'USD',\n",
              " 'dayHigh': {'fmt': '502.00', 'raw': 502},\n",
              " 'dayLow': {'fmt': '467.17', 'raw': 467.17},\n",
              " 'dividendRate': {'fmt': '0.64', 'raw': 0.64},\n",
              " 'dividendYield': {'fmt': '0.13%', 'raw': 0.0013},\n",
              " 'exDividendDate': {'fmt': '2021-03-09', 'raw': 1615248000},\n",
              " 'expireDate': {},\n",
              " 'fiftyDayAverage': {'fmt': '552.93', 'raw': 552.93427},\n",
              " 'fiftyTwoWeekHigh': {'fmt': '614.90', 'raw': 614.9},\n",
              " 'fiftyTwoWeekLow': {'fmt': '180.68', 'raw': 180.68},\n",
              " 'fiveYearAvgDividendYield': {'fmt': '0.37', 'raw': 0.37},\n",
              " 'forwardPE': {'fmt': '33.48', 'raw': 33.47616},\n",
              " 'fromCurrency': None,\n",
              " 'lastMarket': None,\n",
              " 'marketCap': {'fmt': '309.05B',\n",
              "  'longFmt': '309,045,198,848',\n",
              "  'raw': 309045198848},\n",
              " 'maxAge': 1,\n",
              " 'maxSupply': {},\n",
              " 'navPrice': {},\n",
              " 'open': {'fmt': '502.00', 'raw': 502},\n",
              " 'openInterest': {},\n",
              " 'payoutRatio': {'fmt': '9.28%', 'raw': 0.0928},\n",
              " 'previousClose': {'fmt': '494.81', 'raw': 494.81},\n",
              " 'priceHint': {'fmt': '2', 'longFmt': '2', 'raw': 2},\n",
              " 'priceToSalesTrailing12Months': {'fmt': '18.53', 'raw': 18.533445},\n",
              " 'regularMarketDayHigh': {'fmt': '502.00', 'raw': 502},\n",
              " 'regularMarketDayLow': {'fmt': '467.17', 'raw': 467.17},\n",
              " 'regularMarketOpen': {'fmt': '502.00', 'raw': 502},\n",
              " 'regularMarketPreviousClose': {'fmt': '494.81', 'raw': 494.81},\n",
              " 'regularMarketVolume': {'fmt': '13.57M',\n",
              "  'longFmt': '13,570,969',\n",
              "  'raw': 13570969},\n",
              " 'startDate': {},\n",
              " 'strikePrice': {},\n",
              " 'toCurrency': None,\n",
              " 'totalAssets': {},\n",
              " 'tradeable': False,\n",
              " 'trailingAnnualDividendRate': {'fmt': '0.64', 'raw': 0.64},\n",
              " 'trailingAnnualDividendYield': {'fmt': '0.13%', 'raw': 0.0012934257},\n",
              " 'trailingPE': {'fmt': '72.24', 'raw': 72.24058},\n",
              " 'twoHundredDayAverage': {'fmt': '534.09', 'raw': 534.091},\n",
              " 'volume': {'fmt': '13.57M', 'longFmt': '13,570,969', 'raw': 13570969},\n",
              " 'volume24Hr': {},\n",
              " 'volumeAllCurrencies': {},\n",
              " 'yield': {},\n",
              " 'ytdReturn': {}}"
            ]
          },
          "metadata": {
            "tags": []
          },
          "execution_count": 263
        }
      ]
    },
    {
      "cell_type": "markdown",
      "metadata": {
        "id": "2LT08mDZh4FV"
      },
      "source": [
        "#Statistics\n"
      ]
    },
    {
      "cell_type": "code",
      "metadata": {
        "id": "lUOA51Eeh5b5"
      },
      "source": [
        "url_profile = 'https://finance.yahoo.com/quote/{}/key-statistics?p={}'\n",
        "response = requests.get(url_profile.format(stock, stock))\n",
        "soup = BeautifulSoup(response.text, 'html.parser')\n",
        "pattern = re.compile('\\s--\\sData\\s--\\s')\n",
        "data = soup.find('script', text = pattern).contents[0]\n",
        "start = data.find('context')-2\n",
        "json_data = json.loads(data[start:-12])\n",
        "json_data['context']['dispatcher']['stores']['QuoteSummaryStore']['defaultKeyStatistics']"
      ],
      "execution_count": null,
      "outputs": []
    },
    {
      "cell_type": "markdown",
      "metadata": {
        "id": "mXc6luSMiRoj"
      },
      "source": [
        "#Historical Data"
      ]
    },
    {
      "cell_type": "code",
      "metadata": {
        "colab": {
          "base_uri": "https://localhost:8080/",
          "height": 137
        },
        "id": "-z_nHYmQiSiC",
        "outputId": "cb6c2992-643b-45dd-ffb6-d3d41b5be896"
      },
      "source": [
        "download_url = 'https://query1.finance.yahoo.com/v7/finance/download/NVDA?period1=1583649152&period2=1615185152&interval=1d&events=history&includeAdjustedClose=true'\n",
        "response = requests.get(download_url)\n",
        "response.text[:1111]"
      ],
      "execution_count": 278,
      "outputs": [
        {
          "output_type": "execute_result",
          "data": {
            "application/vnd.google.colaboratory.intrinsic+json": {
              "type": "string"
            },
            "text/plain": [
              "'Date,Open,High,Low,Close,Adj Close,Volume\\n2020-03-09,239.899994,259.399994,238.179993,245.440002,245.182236,15354000\\n2020-03-10,256.540009,261.079987,245.990005,261.079987,260.805786,14516200\\n2020-03-11,255.460007,256.600006,242.570007,246.470001,246.211151,12499100\\n2020-03-12,225.460007,236.119995,215.800003,216.309998,216.082809,20413500\\n2020-03-13,230.500000,241.020004,219.610001,240.839996,240.587051,15870900\\n2020-03-16,212.410004,226.100006,194.000000,196.399994,196.193710,18174300\\n2020-03-17,200.910004,220.860001,191.000000,217.270004,217.041824,20840800\\n2020-03-18,200.100006,209.940002,180.679993,202.820007,202.606995,21856700\\n2020-03-19,201.960007,216.729996,193.389999,212.970001,212.746323,19137800\\n2020-03-20,219.000000,230.320007,205.130005,205.750000,205.533920,20115900\\n2020-03-23,205.710007,216.479996,198.520004,212.690002,212.466629,16096900\\n2020-03-24,229.000000,252.660004,228.050003,249.179993,248.918304,27541100\\n2020-03-25,253.800003,261.820007,243.660004,245.619995,245.362030,19835800\\n2020-03-26,253.940002,262.220001,250.000000,257.239990,256.969818,17402700\\n2020-03-27,250.0000'"
            ]
          },
          "metadata": {
            "tags": []
          },
          "execution_count": 278
        }
      ]
    },
    {
      "cell_type": "code",
      "metadata": {
        "id": "_SdCqbifivwU"
      },
      "source": [
        "download_url = 'https://query1.finance.yahoo.com/v7/finance/download/{}?'\n",
        "params = {\n",
        "    'period1':'1583649152',\n",
        "    'period2':'1615185152',\n",
        "    'interval':'1d',\n",
        "    'events':'history'\n",
        "}"
      ],
      "execution_count": 266,
      "outputs": []
    },
    {
      "cell_type": "code",
      "metadata": {
        "id": "AxmnaeWgjXMf"
      },
      "source": [
        "params = {\n",
        "    'range':'5y',\n",
        "    'interval':'1d',\n",
        "    'events':'history'\n",
        "}"
      ],
      "execution_count": 267,
      "outputs": []
    },
    {
      "cell_type": "code",
      "metadata": {
        "id": "T3R-SH5JjpPr"
      },
      "source": [
        "response = requests.get(download_url.format(stock), params=params)"
      ],
      "execution_count": 268,
      "outputs": []
    },
    {
      "cell_type": "code",
      "metadata": {
        "colab": {
          "base_uri": "https://localhost:8080/",
          "height": 137
        },
        "id": "1-3oPhFVj4Iu",
        "outputId": "4b84cf03-5ef7-4869-dc99-9f48cf5081cb"
      },
      "source": [
        "response.text[:1111]"
      ],
      "execution_count": 279,
      "outputs": [
        {
          "output_type": "execute_result",
          "data": {
            "application/vnd.google.colaboratory.intrinsic+json": {
              "type": "string"
            },
            "text/plain": [
              "'Date,Open,High,Low,Close,Adj Close,Volume\\n2020-03-09,239.899994,259.399994,238.179993,245.440002,245.182236,15354000\\n2020-03-10,256.540009,261.079987,245.990005,261.079987,260.805786,14516200\\n2020-03-11,255.460007,256.600006,242.570007,246.470001,246.211151,12499100\\n2020-03-12,225.460007,236.119995,215.800003,216.309998,216.082809,20413500\\n2020-03-13,230.500000,241.020004,219.610001,240.839996,240.587051,15870900\\n2020-03-16,212.410004,226.100006,194.000000,196.399994,196.193710,18174300\\n2020-03-17,200.910004,220.860001,191.000000,217.270004,217.041824,20840800\\n2020-03-18,200.100006,209.940002,180.679993,202.820007,202.606995,21856700\\n2020-03-19,201.960007,216.729996,193.389999,212.970001,212.746323,19137800\\n2020-03-20,219.000000,230.320007,205.130005,205.750000,205.533920,20115900\\n2020-03-23,205.710007,216.479996,198.520004,212.690002,212.466629,16096900\\n2020-03-24,229.000000,252.660004,228.050003,249.179993,248.918304,27541100\\n2020-03-25,253.800003,261.820007,243.660004,245.619995,245.362030,19835800\\n2020-03-26,253.940002,262.220001,250.000000,257.239990,256.969818,17402700\\n2020-03-27,250.0000'"
            ]
          },
          "metadata": {
            "tags": []
          },
          "execution_count": 279
        }
      ]
    },
    {
      "cell_type": "code",
      "metadata": {
        "colab": {
          "base_uri": "https://localhost:8080/"
        },
        "id": "aAWeHh_0j5YC",
        "outputId": "17c98654-52a7-4ab6-a621-194325bb91d0"
      },
      "source": [
        "file = StringIO(response.text)\n",
        "reader = csv.reader(file)\n",
        "data = list(reader)\n",
        "for row in data[:5]:\n",
        "  print(row)"
      ],
      "execution_count": 286,
      "outputs": [
        {
          "output_type": "stream",
          "text": [
            "['Date', 'Open', 'High', 'Low', 'Close', 'Adj Close', 'Volume']\n",
            "['2016-03-07', '32.369999', '32.590000', '31.920000', '32.340000', '31.758257', '5999200']\n",
            "['2016-03-08', '32.009998', '32.200001', '31.650000', '31.750000', '31.178871', '6873500']\n",
            "['2016-03-09', '32.029999', '32.080002', '31.320000', '31.730000', '31.159229', '5569700']\n",
            "['2016-03-10', '31.920000', '32.099998', '31.040001', '31.680000', '31.110134', '7152100']\n"
          ],
          "name": "stdout"
        }
      ]
    }
  ]
}
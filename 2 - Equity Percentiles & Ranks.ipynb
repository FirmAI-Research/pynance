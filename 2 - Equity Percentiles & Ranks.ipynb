{
 "cells": [
  {
   "cell_type": "code",
   "execution_count": 1,
   "id": "55ef7f72",
   "metadata": {},
   "outputs": [],
   "source": [
    "import pandas as pd\n",
    "import nasdaqdatalink\n",
    "import seaborn as sns\n",
    "import matplotlib.pyplot as plt\n",
    "import numpy as np"
   ]
  },
  {
   "cell_type": "code",
   "execution_count": 2,
   "id": "649da398",
   "metadata": {},
   "outputs": [],
   "source": [
    "from lib.nasdaq import Fundamentals, Tickers\n",
    "from lib.equity.fundamentals import peer_percentiles\n",
    "\n",
    "from lib.calendar import Calendar\n",
    "cal = Calendar()\n",
    "\n",
    "pd.options.display.float_format = '{:,.4f}'.format"
   ]
  },
  {
   "cell_type": "code",
   "execution_count": 3,
   "id": "c43dd5ba",
   "metadata": {},
   "outputs": [],
   "source": [
    "ticker = 'AAPL'"
   ]
  },
  {
   "cell_type": "code",
   "execution_count": 4,
   "id": "6f6a2936",
   "metadata": {},
   "outputs": [
    {
     "name": "stdout",
     "output_type": "stream",
     "text": [
      "Tickers data has been updated today - reading from file\n"
     ]
    }
   ],
   "source": [
    "query = Tickers().get()"
   ]
  },
  {
   "cell_type": "code",
   "execution_count": 5,
   "id": "16933be8",
   "metadata": {},
   "outputs": [
    {
     "name": "stdout",
     "output_type": "stream",
     "text": [
      "Today: 2022-08-18 21:42:04.987568\n"
     ]
    }
   ],
   "source": [
    "fun = Fundamentals(calendardate=cal.previous_quarter_end())\n",
    "raw = query.merge(fun.get(), how='left', on='ticker')"
   ]
  },
  {
   "cell_type": "markdown",
   "id": "54d76fa2",
   "metadata": {},
   "source": [
    "## Percentile Ranks"
   ]
  },
  {
   "cell_type": "code",
   "execution_count": 6,
   "id": "24088a6f",
   "metadata": {},
   "outputs": [],
   "source": [
    "ticker_data = query[query.ticker == ticker]\n",
    "industry = ticker_data['industry'].iloc[0]\n",
    "sector = ticker_data['sector'].iloc[0]"
   ]
  },
  {
   "cell_type": "code",
   "execution_count": 19,
   "id": "e339a7d0",
   "metadata": {},
   "outputs": [
    {
     "data": {
      "text/plain": [
       "('Technology', 'Consumer Electronics')"
      ]
     },
     "execution_count": 19,
     "metadata": {},
     "output_type": "execute_result"
    }
   ],
   "source": [
    "sector, industry"
   ]
  },
  {
   "cell_type": "code",
   "execution_count": 7,
   "id": "b5384d78",
   "metadata": {
    "scrolled": false
   },
   "outputs": [
    {
     "name": "stdout",
     "output_type": "stream",
     "text": [
      "Tickers data has been updated today - reading from file\n",
      "Today: 2022-08-18 21:42:11.964560\n",
      "*****[ERROR]***** zero-size array to reduction operation maximum which has no identity\n",
      "*****[ERROR]***** zero-size array to reduction operation maximum which has no identity\n",
      "*****[ERROR]***** zero-size array to reduction operation maximum which has no identity\n"
     ]
    }
   ],
   "source": [
    "unique_sectors_list, unique_industries_list, sector_percentile_frames, sector_rank_frames , industry_percentile_frames, industry_rank_frames = peer_percentiles.fundamental_peer_percentiles()"
   ]
  },
  {
   "cell_type": "code",
   "execution_count": 8,
   "id": "611f753a",
   "metadata": {},
   "outputs": [],
   "source": [
    "box_cols = [ 'ticker','roe','roc', 'roa', 'pe','opp margin']"
   ]
  },
  {
   "cell_type": "markdown",
   "id": "c6797109",
   "metadata": {},
   "source": [
    "### Sector"
   ]
  },
  {
   "cell_type": "code",
   "execution_count": 9,
   "id": "cfc35de5",
   "metadata": {},
   "outputs": [
    {
     "data": {
      "text/html": [
       "<div>\n",
       "<style scoped>\n",
       "    .dataframe tbody tr th:only-of-type {\n",
       "        vertical-align: middle;\n",
       "    }\n",
       "\n",
       "    .dataframe tbody tr th {\n",
       "        vertical-align: top;\n",
       "    }\n",
       "\n",
       "    .dataframe thead th {\n",
       "        text-align: right;\n",
       "    }\n",
       "</style>\n",
       "<table border=\"1\" class=\"dataframe\">\n",
       "  <thead>\n",
       "    <tr style=\"text-align: right;\">\n",
       "      <th></th>\n",
       "      <th>index</th>\n",
       "      <th>roe</th>\n",
       "      <th>roc</th>\n",
       "      <th>roa</th>\n",
       "      <th>pe</th>\n",
       "      <th>opp margin</th>\n",
       "    </tr>\n",
       "  </thead>\n",
       "  <tbody>\n",
       "    <tr>\n",
       "      <th>0</th>\n",
       "      <td>low</td>\n",
       "      <td>-0.28</td>\n",
       "      <td>-0.19</td>\n",
       "      <td>-0.14</td>\n",
       "      <td>-53.65</td>\n",
       "      <td>-1.14</td>\n",
       "    </tr>\n",
       "    <tr>\n",
       "      <th>1</th>\n",
       "      <td>Q1</td>\n",
       "      <td>-0.09</td>\n",
       "      <td>-0.06</td>\n",
       "      <td>-0.05</td>\n",
       "      <td>-10.93</td>\n",
       "      <td>-0.40</td>\n",
       "    </tr>\n",
       "    <tr>\n",
       "      <th>2</th>\n",
       "      <td>median</td>\n",
       "      <td>-0.01</td>\n",
       "      <td>-0.01</td>\n",
       "      <td>-0.01</td>\n",
       "      <td>-1.34</td>\n",
       "      <td>-0.05</td>\n",
       "    </tr>\n",
       "    <tr>\n",
       "      <th>3</th>\n",
       "      <td>Q3</td>\n",
       "      <td>0.04</td>\n",
       "      <td>0.02</td>\n",
       "      <td>0.02</td>\n",
       "      <td>18.19</td>\n",
       "      <td>0.10</td>\n",
       "    </tr>\n",
       "    <tr>\n",
       "      <th>4</th>\n",
       "      <td>high</td>\n",
       "      <td>0.17</td>\n",
       "      <td>0.14</td>\n",
       "      <td>0.10</td>\n",
       "      <td>61.15</td>\n",
       "      <td>0.75</td>\n",
       "    </tr>\n",
       "  </tbody>\n",
       "</table>\n",
       "</div>"
      ],
      "text/plain": [
       "    index    roe    roc    roa      pe opp margin\n",
       "0     low  -0.28  -0.19  -0.14  -53.65      -1.14\n",
       "1      Q1  -0.09  -0.06  -0.05  -10.93      -0.40\n",
       "2  median  -0.01  -0.01  -0.01   -1.34      -0.05\n",
       "3      Q3   0.04   0.02   0.02   18.19       0.10\n",
       "4    high   0.17   0.14   0.10   61.15       0.75"
      ]
     },
     "execution_count": 9,
     "metadata": {},
     "output_type": "execute_result"
    }
   ],
   "source": [
    "percentiles = sector_percentile_frames.get(sector)\n",
    "percentiles[ ['index'] + box_cols[1:]]"
   ]
  },
  {
   "cell_type": "code",
   "execution_count": 10,
   "id": "08e2e0f5",
   "metadata": {},
   "outputs": [
    {
     "data": {
      "text/html": [
       "<div>\n",
       "<style scoped>\n",
       "    .dataframe tbody tr th:only-of-type {\n",
       "        vertical-align: middle;\n",
       "    }\n",
       "\n",
       "    .dataframe tbody tr th {\n",
       "        vertical-align: top;\n",
       "    }\n",
       "\n",
       "    .dataframe thead th {\n",
       "        text-align: right;\n",
       "    }\n",
       "</style>\n",
       "<table border=\"1\" class=\"dataframe\">\n",
       "  <thead>\n",
       "    <tr style=\"text-align: right;\">\n",
       "      <th></th>\n",
       "      <th>ticker</th>\n",
       "      <th>roe</th>\n",
       "      <th>roc</th>\n",
       "      <th>roa</th>\n",
       "      <th>pe</th>\n",
       "      <th>opp margin</th>\n",
       "    </tr>\n",
       "  </thead>\n",
       "  <tbody>\n",
       "    <tr>\n",
       "      <th>12</th>\n",
       "      <td>AAPL</td>\n",
       "      <td>0.97</td>\n",
       "      <td>0.98</td>\n",
       "      <td>0.97</td>\n",
       "      <td>0.80</td>\n",
       "      <td>0.94</td>\n",
       "    </tr>\n",
       "  </tbody>\n",
       "</table>\n",
       "</div>"
      ],
      "text/plain": [
       "   ticker   roe   roc   roa    pe opp margin\n",
       "12   AAPL  0.97  0.98  0.97  0.80       0.94"
      ]
     },
     "execution_count": 10,
     "metadata": {},
     "output_type": "execute_result"
    }
   ],
   "source": [
    "ranks = sector_rank_frames.get(sector)\n",
    "ranks = ranks.loc[ranks.ticker == ticker]\n",
    "ranks[ ['ticker'] + box_cols[1:]]"
   ]
  },
  {
   "cell_type": "code",
   "execution_count": 11,
   "id": "89fadb19",
   "metadata": {},
   "outputs": [],
   "source": [
    "sector_raw = raw[box_cols].loc[raw.sector == sector].dropna()"
   ]
  },
  {
   "cell_type": "code",
   "execution_count": 12,
   "id": "026a817a",
   "metadata": {},
   "outputs": [
    {
     "data": {
      "text/html": [
       "<div>\n",
       "<style scoped>\n",
       "    .dataframe tbody tr th:only-of-type {\n",
       "        vertical-align: middle;\n",
       "    }\n",
       "\n",
       "    .dataframe tbody tr th {\n",
       "        vertical-align: top;\n",
       "    }\n",
       "\n",
       "    .dataframe thead th {\n",
       "        text-align: right;\n",
       "    }\n",
       "</style>\n",
       "<table border=\"1\" class=\"dataframe\">\n",
       "  <thead>\n",
       "    <tr style=\"text-align: right;\">\n",
       "      <th></th>\n",
       "      <th>ticker</th>\n",
       "      <th>roe</th>\n",
       "      <th>roc</th>\n",
       "      <th>roa</th>\n",
       "      <th>pe</th>\n",
       "      <th>opp margin</th>\n",
       "    </tr>\n",
       "  </thead>\n",
       "  <tbody>\n",
       "    <tr>\n",
       "      <th>13</th>\n",
       "      <td>AAPL</td>\n",
       "      <td>0.3346</td>\n",
       "      <td>0.1093</td>\n",
       "      <td>0.0578</td>\n",
       "      <td>23.0120</td>\n",
       "      <td>0.2800</td>\n",
       "    </tr>\n",
       "  </tbody>\n",
       "</table>\n",
       "</div>"
      ],
      "text/plain": [
       "   ticker    roe    roc    roa      pe  opp margin\n",
       "13   AAPL 0.3346 0.1093 0.0578 23.0120      0.2800"
      ]
     },
     "execution_count": 12,
     "metadata": {},
     "output_type": "execute_result"
    }
   ],
   "source": [
    "this_ticker =sector_raw[box_cols].loc[sector_raw.ticker == ticker] \n",
    "this_ticker"
   ]
  },
  {
   "cell_type": "code",
   "execution_count": 13,
   "id": "c829c440",
   "metadata": {},
   "outputs": [
    {
     "data": {
      "text/plain": [
       "<seaborn.axisgrid.FacetGrid at 0x2e54d919e20>"
      ]
     },
     "execution_count": 13,
     "metadata": {},
     "output_type": "execute_result"
    },
    {
     "data": {
      "image/png": "[encoded data removed]",
      "text/plain": [
       "<Figure size 864x432 with 5 Axes>"
      ]
     },
     "metadata": {
      "needs_background": "light"
     },
     "output_type": "display_data"
    }
   ],
   "source": [
    "melt = sector_raw.melt(id_vars = 'ticker').dropna()\n",
    "\n",
    "def annotate(data, **kws):\n",
    "    n = np.round(data.value.loc[data.ticker==ticker].values[0], 4)\n",
    "    ax = plt.gca()\n",
    "    ax.text(.15, n, f\"{n}\")\n",
    "    ax.scatter(.1, n, color = 'orange')\n",
    "        \n",
    "g = sns.FacetGrid(melt, col=\"variable\", sharey=False,  col_wrap=4)\n",
    "g.map_dataframe(sns.boxplot, y=\"value\")\n",
    "g.map_dataframe(annotate)"
   ]
  },
  {
   "cell_type": "markdown",
   "id": "37e3e4b7",
   "metadata": {},
   "source": [
    "### Industry"
   ]
  },
  {
   "cell_type": "code",
   "execution_count": 14,
   "id": "171d3cd9",
   "metadata": {},
   "outputs": [
    {
     "data": {
      "text/html": [
       "<div>\n",
       "<style scoped>\n",
       "    .dataframe tbody tr th:only-of-type {\n",
       "        vertical-align: middle;\n",
       "    }\n",
       "\n",
       "    .dataframe tbody tr th {\n",
       "        vertical-align: top;\n",
       "    }\n",
       "\n",
       "    .dataframe thead th {\n",
       "        text-align: right;\n",
       "    }\n",
       "</style>\n",
       "<table border=\"1\" class=\"dataframe\">\n",
       "  <thead>\n",
       "    <tr style=\"text-align: right;\">\n",
       "      <th></th>\n",
       "      <th>index</th>\n",
       "      <th>roe</th>\n",
       "      <th>roc</th>\n",
       "      <th>roa</th>\n",
       "      <th>pe</th>\n",
       "      <th>opp margin</th>\n",
       "    </tr>\n",
       "  </thead>\n",
       "  <tbody>\n",
       "    <tr>\n",
       "      <th>0</th>\n",
       "      <td>low</td>\n",
       "      <td>-0.26</td>\n",
       "      <td>-0.07</td>\n",
       "      <td>-0.05</td>\n",
       "      <td>-26.10</td>\n",
       "      <td>-0.39</td>\n",
       "    </tr>\n",
       "    <tr>\n",
       "      <th>1</th>\n",
       "      <td>Q1</td>\n",
       "      <td>-0.14</td>\n",
       "      <td>-0.04</td>\n",
       "      <td>-0.03</td>\n",
       "      <td>-20.89</td>\n",
       "      <td>-0.29</td>\n",
       "    </tr>\n",
       "    <tr>\n",
       "      <th>2</th>\n",
       "      <td>median</td>\n",
       "      <td>-0.03</td>\n",
       "      <td>-0.00</td>\n",
       "      <td>-0.00</td>\n",
       "      <td>-2.22</td>\n",
       "      <td>0.05</td>\n",
       "    </tr>\n",
       "    <tr>\n",
       "      <th>3</th>\n",
       "      <td>Q3</td>\n",
       "      <td>0.01</td>\n",
       "      <td>0.01</td>\n",
       "      <td>0.01</td>\n",
       "      <td>6.13</td>\n",
       "      <td>0.20</td>\n",
       "    </tr>\n",
       "    <tr>\n",
       "      <th>4</th>\n",
       "      <td>high</td>\n",
       "      <td>0.04</td>\n",
       "      <td>0.03</td>\n",
       "      <td>0.03</td>\n",
       "      <td>21.59</td>\n",
       "      <td>0.40</td>\n",
       "    </tr>\n",
       "  </tbody>\n",
       "</table>\n",
       "</div>"
      ],
      "text/plain": [
       "    index    roe    roc    roa      pe opp margin\n",
       "0     low  -0.26  -0.07  -0.05  -26.10      -0.39\n",
       "1      Q1  -0.14  -0.04  -0.03  -20.89      -0.29\n",
       "2  median  -0.03  -0.00  -0.00   -2.22       0.05\n",
       "3      Q3   0.01   0.01   0.01    6.13       0.20\n",
       "4    high   0.04   0.03   0.03   21.59       0.40"
      ]
     },
     "execution_count": 14,
     "metadata": {},
     "output_type": "execute_result"
    }
   ],
   "source": [
    "percentiles = industry_percentile_frames.get(industry)\n",
    "percentiles[ ['index'] + box_cols[1:]]"
   ]
  },
  {
   "cell_type": "code",
   "execution_count": 15,
   "id": "3e5ac025",
   "metadata": {},
   "outputs": [
    {
     "data": {
      "text/html": [
       "<div>\n",
       "<style scoped>\n",
       "    .dataframe tbody tr th:only-of-type {\n",
       "        vertical-align: middle;\n",
       "    }\n",
       "\n",
       "    .dataframe tbody tr th {\n",
       "        vertical-align: top;\n",
       "    }\n",
       "\n",
       "    .dataframe thead th {\n",
       "        text-align: right;\n",
       "    }\n",
       "</style>\n",
       "<table border=\"1\" class=\"dataframe\">\n",
       "  <thead>\n",
       "    <tr style=\"text-align: right;\">\n",
       "      <th></th>\n",
       "      <th>ticker</th>\n",
       "      <th>roe</th>\n",
       "      <th>roc</th>\n",
       "      <th>roa</th>\n",
       "      <th>pe</th>\n",
       "      <th>opp margin</th>\n",
       "    </tr>\n",
       "  </thead>\n",
       "  <tbody>\n",
       "    <tr>\n",
       "      <th>12</th>\n",
       "      <td>AAPL</td>\n",
       "      <td>1.00</td>\n",
       "      <td>1.00</td>\n",
       "      <td>1.00</td>\n",
       "      <td>1.00</td>\n",
       "      <td>1.00</td>\n",
       "    </tr>\n",
       "  </tbody>\n",
       "</table>\n",
       "</div>"
      ],
      "text/plain": [
       "   ticker   roe   roc   roa    pe opp margin\n",
       "12   AAPL  1.00  1.00  1.00  1.00       1.00"
      ]
     },
     "execution_count": 15,
     "metadata": {},
     "output_type": "execute_result"
    }
   ],
   "source": [
    "ranks = industry_rank_frames.get(industry)\n",
    "ranks = ranks.loc[ranks.ticker == ticker]\n",
    "ranks[ ['ticker'] + box_cols[1:]]"
   ]
  },
  {
   "cell_type": "code",
   "execution_count": 16,
   "id": "15cf1e14",
   "metadata": {},
   "outputs": [],
   "source": [
    "industry_raw = raw[box_cols].loc[raw.industry == industry].dropna()"
   ]
  },
  {
   "cell_type": "code",
   "execution_count": 17,
   "id": "309e0c31",
   "metadata": {},
   "outputs": [
    {
     "data": {
      "text/html": [
       "<div>\n",
       "<style scoped>\n",
       "    .dataframe tbody tr th:only-of-type {\n",
       "        vertical-align: middle;\n",
       "    }\n",
       "\n",
       "    .dataframe tbody tr th {\n",
       "        vertical-align: top;\n",
       "    }\n",
       "\n",
       "    .dataframe thead th {\n",
       "        text-align: right;\n",
       "    }\n",
       "</style>\n",
       "<table border=\"1\" class=\"dataframe\">\n",
       "  <thead>\n",
       "    <tr style=\"text-align: right;\">\n",
       "      <th></th>\n",
       "      <th>ticker</th>\n",
       "      <th>roe</th>\n",
       "      <th>roc</th>\n",
       "      <th>roa</th>\n",
       "      <th>pe</th>\n",
       "      <th>opp margin</th>\n",
       "    </tr>\n",
       "  </thead>\n",
       "  <tbody>\n",
       "    <tr>\n",
       "      <th>13</th>\n",
       "      <td>AAPL</td>\n",
       "      <td>0.3346</td>\n",
       "      <td>0.1093</td>\n",
       "      <td>0.0578</td>\n",
       "      <td>23.0120</td>\n",
       "      <td>0.2800</td>\n",
       "    </tr>\n",
       "  </tbody>\n",
       "</table>\n",
       "</div>"
      ],
      "text/plain": [
       "   ticker    roe    roc    roa      pe  opp margin\n",
       "13   AAPL 0.3346 0.1093 0.0578 23.0120      0.2800"
      ]
     },
     "execution_count": 17,
     "metadata": {},
     "output_type": "execute_result"
    }
   ],
   "source": [
    "this_ticker =industry_raw[box_cols].loc[industry_raw.ticker == ticker] \n",
    "this_ticker"
   ]
  },
  {
   "cell_type": "code",
   "execution_count": 18,
   "id": "b9662b10",
   "metadata": {},
   "outputs": [
    {
     "data": {
      "text/plain": [
       "<seaborn.axisgrid.FacetGrid at 0x2e5630fed00>"
      ]
     },
     "execution_count": 18,
     "metadata": {},
     "output_type": "execute_result"
    },
    {
     "data": {
      "image/png": "[encoded data removed]",
      "text/plain": [
       "<Figure size 864x432 with 5 Axes>"
      ]
     },
     "metadata": {
      "needs_background": "light"
     },
     "output_type": "display_data"
    }
   ],
   "source": [
    "melt = industry_raw.melt(id_vars = 'ticker').dropna()\n",
    "\n",
    "def annotate(data, **kws):\n",
    "    n = np.round(data.value.loc[data.ticker==ticker].values[0], 4)\n",
    "    ax = plt.gca()\n",
    "    ax.text(.15, n, f\"{n}\")\n",
    "    ax.scatter(.1, n, color = 'orange')\n",
    "        \n",
    "g = sns.FacetGrid(melt, col=\"variable\", sharey=False,  col_wrap=4)\n",
    "g.map_dataframe(sns.boxplot, y=\"value\")\n",
    "g.map_dataframe(annotate)"
   ]
  }
 ],
 "metadata": {
  "kernelspec": {
   "display_name": "pynance_venv",
   "language": "python",
   "name": "pynance_venv"
  },
  "language_info": {
   "codemirror_mode": {
    "name": "ipython",
    "version": 3
   },
   "file_extension": ".py",
   "mimetype": "text/x-python",
   "name": "python",
   "nbconvert_exporter": "python",
   "pygments_lexer": "ipython3",
   "version": "3.8.13"
  }
 },
 "nbformat": 4,
 "nbformat_minor": 5
}

{
 "cells": [
  {
   "cell_type": "code",
   "execution_count": 1,
   "id": "55ef7f72",
   "metadata": {},
   "outputs": [],
   "source": [
    "import pandas as pd\n",
    "import nasdaqdatalink\n",
    "import seaborn as sns\n",
    "import matplotlib.pyplot as plt\n",
    "import numpy as np"
   ]
  },
  {
   "cell_type": "code",
   "execution_count": 2,
   "id": "649da398",
   "metadata": {},
   "outputs": [],
   "source": [
    "from lib.nasdaq import Fundamentals, Tickers\n",
    "from lib.equity.fundamentals import peer_percentiles\n",
    "\n",
    "from lib.calendar import Calendar\n",
    "cal = Calendar()\n",
    "\n"
   ]
  },
  {
   "cell_type": "code",
   "execution_count": 3,
   "id": "c43dd5ba",
   "metadata": {},
   "outputs": [],
   "source": [
    "ticker = 'AMZN'"
   ]
  },
  {
   "cell_type": "code",
   "execution_count": 4,
   "id": "6f6a2936",
   "metadata": {},
   "outputs": [
    {
     "name": "stdout",
     "output_type": "stream",
     "text": [
      "Tickers data has been updated today - reading from file\n"
     ]
    }
   ],
   "source": [
    "# ticker_data = nasdaqdatalink.get_table('SHARADAR/TICKERS', ticker = ticker)\n",
    "query = Tickers().get()"
   ]
  },
  {
   "cell_type": "code",
   "execution_count": 5,
   "id": "24088a6f",
   "metadata": {},
   "outputs": [],
   "source": [
    "ticker_data = query[query.ticker == ticker]\n",
    "industry = ticker_data['industry'].iloc[0]\n",
    "sector = ticker_data['sector'].iloc[0]"
   ]
  },
  {
   "cell_type": "markdown",
   "id": "0fdb4ffd",
   "metadata": {},
   "source": [
    "# Fundamentals"
   ]
  },
  {
   "cell_type": "code",
   "execution_count": 6,
   "id": "7b796790",
   "metadata": {},
   "outputs": [
    {
     "name": "stdout",
     "output_type": "stream",
     "text": [
      "Today: 2022-08-17 18:03:28.157831\n"
     ]
    }
   ],
   "source": [
    "fun = Fundamentals(calendardate=cal.previous_quarter_end())\n",
    "raw = query.merge(fun.get(), how='left', on='ticker')"
   ]
  },
  {
   "cell_type": "markdown",
   "id": "b4294e5d",
   "metadata": {},
   "source": [
    "## Reported"
   ]
  },
  {
   "cell_type": "code",
   "execution_count": 7,
   "id": "c580d431",
   "metadata": {},
   "outputs": [],
   "source": [
    "# Fundamentals(ticker = ticker, calendardate=cal.previous_quarter_end()).get()\n",
    "# None"
   ]
  },
  {
   "cell_type": "markdown",
   "id": "1a7a6f20",
   "metadata": {},
   "source": [
    "## Balance Sheet"
   ]
  },
  {
   "cell_type": "code",
   "execution_count": 8,
   "id": "2817f058",
   "metadata": {},
   "outputs": [],
   "source": [
    "bs_cols = []"
   ]
  },
  {
   "cell_type": "markdown",
   "id": "4047199b",
   "metadata": {},
   "source": [
    "## Income Statement"
   ]
  },
  {
   "cell_type": "code",
   "execution_count": 9,
   "id": "0a97dc85",
   "metadata": {},
   "outputs": [],
   "source": [
    "is_cols = []"
   ]
  },
  {
   "cell_type": "markdown",
   "id": "4bc53947",
   "metadata": {},
   "source": [
    "## Cash Flow"
   ]
  },
  {
   "cell_type": "code",
   "execution_count": 10,
   "id": "5523ba82",
   "metadata": {},
   "outputs": [],
   "source": [
    "cf_cols = []"
   ]
  },
  {
   "cell_type": "markdown",
   "id": "54d76fa2",
   "metadata": {},
   "source": [
    "## Percentile Ranks"
   ]
  },
  {
   "cell_type": "code",
   "execution_count": 11,
   "id": "b5384d78",
   "metadata": {
    "scrolled": false
   },
   "outputs": [
    {
     "name": "stdout",
     "output_type": "stream",
     "text": [
      "Tickers data has been updated today - reading from file\n",
      "Today: 2022-08-17 18:03:34.917874\n",
      "*****[ERROR]***** zero-size array to reduction operation maximum which has no identity\n",
      "*****[ERROR]***** zero-size array to reduction operation maximum which has no identity\n",
      "*****[ERROR]***** zero-size array to reduction operation maximum which has no identity\n"
     ]
    }
   ],
   "source": [
    "unique_sectors_list, unique_industries_list, sector_percentile_frames, sector_rank_frames , industry_percentile_frames, industry_rank_frames = peer_percentiles.fundamental_peer_percentiles()"
   ]
  },
  {
   "cell_type": "code",
   "execution_count": 12,
   "id": "611f753a",
   "metadata": {},
   "outputs": [],
   "source": [
    "box_cols = [ 'ticker','roe','roa', 'expected roe growth','expected netinc growth']"
   ]
  },
  {
   "cell_type": "markdown",
   "id": "c6797109",
   "metadata": {},
   "source": [
    "### Sector"
   ]
  },
  {
   "cell_type": "code",
   "execution_count": 13,
   "id": "cfc35de5",
   "metadata": {},
   "outputs": [
    {
     "data": {
      "text/html": [
       "<div>\n",
       "<style scoped>\n",
       "    .dataframe tbody tr th:only-of-type {\n",
       "        vertical-align: middle;\n",
       "    }\n",
       "\n",
       "    .dataframe tbody tr th {\n",
       "        vertical-align: top;\n",
       "    }\n",
       "\n",
       "    .dataframe thead th {\n",
       "        text-align: right;\n",
       "    }\n",
       "</style>\n",
       "<table border=\"1\" class=\"dataframe\">\n",
       "  <thead>\n",
       "    <tr style=\"text-align: right;\">\n",
       "      <th></th>\n",
       "      <th>index</th>\n",
       "      <th>accoci</th>\n",
       "      <th>assets</th>\n",
       "      <th>assetsc</th>\n",
       "      <th>assetsnc</th>\n",
       "      <th>bvps</th>\n",
       "      <th>capex</th>\n",
       "      <th>cashneq</th>\n",
       "      <th>cashnequsd</th>\n",
       "      <th>cor</th>\n",
       "      <th>...</th>\n",
       "      <th>retained earnigns</th>\n",
       "      <th>retention ratio</th>\n",
       "      <th>equity reinvested</th>\n",
       "      <th>expected netinc growth</th>\n",
       "      <th>expected roe growth</th>\n",
       "      <th>equity reinvestment rate</th>\n",
       "      <th>expected ebit growth</th>\n",
       "      <th>sector</th>\n",
       "      <th>date</th>\n",
       "      <th>uid</th>\n",
       "    </tr>\n",
       "  </thead>\n",
       "  <tbody>\n",
       "    <tr>\n",
       "      <th>0</th>\n",
       "      <td>low</td>\n",
       "      <td>-53,669,000.00</td>\n",
       "      <td>1,709,000.00</td>\n",
       "      <td>80,005.00</td>\n",
       "      <td>0.00</td>\n",
       "      <td>-12.48</td>\n",
       "      <td>-28,100,000.00</td>\n",
       "      <td>3,213.00</td>\n",
       "      <td>3,213.00</td>\n",
       "      <td>0.00</td>\n",
       "      <td>...</td>\n",
       "      <td>-917,506,000.00</td>\n",
       "      <td>-0.37</td>\n",
       "      <td>-816,799,000.00</td>\n",
       "      <td>-0.05</td>\n",
       "      <td>-0.19</td>\n",
       "      <td>-0.37</td>\n",
       "      <td>-0.04</td>\n",
       "      <td>Technology</td>\n",
       "      <td>2022-06-30</td>\n",
       "      <td>Technology 2022-06-30</td>\n",
       "    </tr>\n",
       "    <tr>\n",
       "      <th>1</th>\n",
       "      <td>Q1</td>\n",
       "      <td>-21,647,500.00</td>\n",
       "      <td>140,931,250.00</td>\n",
       "      <td>75,770,500.00</td>\n",
       "      <td>46,112,250.00</td>\n",
       "      <td>1.16</td>\n",
       "      <td>-11,883,000.00</td>\n",
       "      <td>23,035,000.00</td>\n",
       "      <td>23,035,000.00</td>\n",
       "      <td>8,718,500.00</td>\n",
       "      <td>...</td>\n",
       "      <td>-335,079,000.00</td>\n",
       "      <td>0.02</td>\n",
       "      <td>-262,634,065.25</td>\n",
       "      <td>-0.02</td>\n",
       "      <td>-0.06</td>\n",
       "      <td>0.02</td>\n",
       "      <td>-0.01</td>\n",
       "      <td>Technology</td>\n",
       "      <td>2022-06-30</td>\n",
       "      <td>Technology 2022-06-30</td>\n",
       "    </tr>\n",
       "    <tr>\n",
       "      <th>2</th>\n",
       "      <td>median</td>\n",
       "      <td>-2,123,000.00</td>\n",
       "      <td>756,362,500.00</td>\n",
       "      <td>308,014,500.00</td>\n",
       "      <td>299,751,500.00</td>\n",
       "      <td>3.95</td>\n",
       "      <td>-2,639,500.00</td>\n",
       "      <td>96,150,000.00</td>\n",
       "      <td>96,150,000.00</td>\n",
       "      <td>39,432,500.00</td>\n",
       "      <td>...</td>\n",
       "      <td>-75,705,850.50</td>\n",
       "      <td>0.11</td>\n",
       "      <td>-15,271,000.00</td>\n",
       "      <td>-0.00</td>\n",
       "      <td>-0.00</td>\n",
       "      <td>0.11</td>\n",
       "      <td>-0.00</td>\n",
       "      <td>Technology</td>\n",
       "      <td>2022-06-30</td>\n",
       "      <td>Technology 2022-06-30</td>\n",
       "    </tr>\n",
       "    <tr>\n",
       "      <th>3</th>\n",
       "      <td>Q3</td>\n",
       "      <td>0.00</td>\n",
       "      <td>2,469,535,500.00</td>\n",
       "      <td>1,067,329,750.00</td>\n",
       "      <td>1,324,638,000.00</td>\n",
       "      <td>10.34</td>\n",
       "      <td>-358,250.00</td>\n",
       "      <td>360,592,250.00</td>\n",
       "      <td>360,592,250.00</td>\n",
       "      <td>154,991,250.00</td>\n",
       "      <td>...</td>\n",
       "      <td>54,594,500.00</td>\n",
       "      <td>0.28</td>\n",
       "      <td>110,591,506.00</td>\n",
       "      <td>0.01</td>\n",
       "      <td>0.02</td>\n",
       "      <td>0.28</td>\n",
       "      <td>0.00</td>\n",
       "      <td>Technology</td>\n",
       "      <td>2022-06-30</td>\n",
       "      <td>Technology 2022-06-30</td>\n",
       "    </tr>\n",
       "    <tr>\n",
       "      <th>4</th>\n",
       "      <td>high</td>\n",
       "      <td>29,177,000.00</td>\n",
       "      <td>5,930,828,000.00</td>\n",
       "      <td>2,459,483,000.00</td>\n",
       "      <td>3,145,900,000.00</td>\n",
       "      <td>23.91</td>\n",
       "      <td>9,999,000.00</td>\n",
       "      <td>865,597,000.00</td>\n",
       "      <td>865,597,000.00</td>\n",
       "      <td>360,500,000.00</td>\n",
       "      <td>...</td>\n",
       "      <td>628,830,000.00</td>\n",
       "      <td>0.68</td>\n",
       "      <td>640,248,000.00</td>\n",
       "      <td>0.03</td>\n",
       "      <td>0.14</td>\n",
       "      <td>0.67</td>\n",
       "      <td>0.02</td>\n",
       "      <td>Technology</td>\n",
       "      <td>2022-06-30</td>\n",
       "      <td>Technology 2022-06-30</td>\n",
       "    </tr>\n",
       "  </tbody>\n",
       "</table>\n",
       "<p>5 rows × 125 columns</p>\n",
       "</div>"
      ],
      "text/plain": [
       "    index          accoci            assets           assetsc  \\\n",
       "0     low  -53,669,000.00      1,709,000.00         80,005.00   \n",
       "1      Q1  -21,647,500.00    140,931,250.00     75,770,500.00   \n",
       "2  median   -2,123,000.00    756,362,500.00    308,014,500.00   \n",
       "3      Q3            0.00  2,469,535,500.00  1,067,329,750.00   \n",
       "4    high   29,177,000.00  5,930,828,000.00  2,459,483,000.00   \n",
       "\n",
       "           assetsnc    bvps           capex         cashneq      cashnequsd  \\\n",
       "0              0.00  -12.48  -28,100,000.00        3,213.00        3,213.00   \n",
       "1     46,112,250.00    1.16  -11,883,000.00   23,035,000.00   23,035,000.00   \n",
       "2    299,751,500.00    3.95   -2,639,500.00   96,150,000.00   96,150,000.00   \n",
       "3  1,324,638,000.00   10.34     -358,250.00  360,592,250.00  360,592,250.00   \n",
       "4  3,145,900,000.00   23.91    9,999,000.00  865,597,000.00  865,597,000.00   \n",
       "\n",
       "              cor  ... retained earnigns retention ratio equity reinvested  \\\n",
       "0            0.00  ...   -917,506,000.00           -0.37   -816,799,000.00   \n",
       "1    8,718,500.00  ...   -335,079,000.00            0.02   -262,634,065.25   \n",
       "2   39,432,500.00  ...    -75,705,850.50            0.11    -15,271,000.00   \n",
       "3  154,991,250.00  ...     54,594,500.00            0.28    110,591,506.00   \n",
       "4  360,500,000.00  ...    628,830,000.00            0.68    640,248,000.00   \n",
       "\n",
       "  expected netinc growth expected roe growth equity reinvestment rate  \\\n",
       "0                  -0.05               -0.19                    -0.37   \n",
       "1                  -0.02               -0.06                     0.02   \n",
       "2                  -0.00               -0.00                     0.11   \n",
       "3                   0.01                0.02                     0.28   \n",
       "4                   0.03                0.14                     0.67   \n",
       "\n",
       "  expected ebit growth      sector        date                    uid  \n",
       "0                -0.04  Technology  2022-06-30  Technology 2022-06-30  \n",
       "1                -0.01  Technology  2022-06-30  Technology 2022-06-30  \n",
       "2                -0.00  Technology  2022-06-30  Technology 2022-06-30  \n",
       "3                 0.00  Technology  2022-06-30  Technology 2022-06-30  \n",
       "4                 0.02  Technology  2022-06-30  Technology 2022-06-30  \n",
       "\n",
       "[5 rows x 125 columns]"
      ]
     },
     "execution_count": 13,
     "metadata": {},
     "output_type": "execute_result"
    }
   ],
   "source": [
    "percentiles = sector_percentile_frames.get(sector)\n",
    "percentiles#[box_cols[1:]]"
   ]
  },
  {
   "cell_type": "markdown",
   "id": "74a87f19",
   "metadata": {},
   "source": [
    " 0 Percentile Rank is Largest, 1000 Percentile Ranks is Smallest"
   ]
  },
  {
   "cell_type": "code",
   "execution_count": 14,
   "id": "08e2e0f5",
   "metadata": {},
   "outputs": [
    {
     "data": {
      "text/html": [
       "<div>\n",
       "<style scoped>\n",
       "    .dataframe tbody tr th:only-of-type {\n",
       "        vertical-align: middle;\n",
       "    }\n",
       "\n",
       "    .dataframe tbody tr th {\n",
       "        vertical-align: top;\n",
       "    }\n",
       "\n",
       "    .dataframe thead th {\n",
       "        text-align: right;\n",
       "    }\n",
       "</style>\n",
       "<table border=\"1\" class=\"dataframe\">\n",
       "  <thead>\n",
       "    <tr style=\"text-align: right;\">\n",
       "      <th></th>\n",
       "      <th>ticker</th>\n",
       "      <th>accoci</th>\n",
       "      <th>assets</th>\n",
       "      <th>assetsc</th>\n",
       "      <th>assetsnc</th>\n",
       "      <th>bvps</th>\n",
       "      <th>capex</th>\n",
       "      <th>cashneq</th>\n",
       "      <th>cashnequsd</th>\n",
       "      <th>cor</th>\n",
       "      <th>...</th>\n",
       "      <th>retained earnigns</th>\n",
       "      <th>retention ratio</th>\n",
       "      <th>equity reinvested</th>\n",
       "      <th>expected netinc growth</th>\n",
       "      <th>expected roe growth</th>\n",
       "      <th>equity reinvestment rate</th>\n",
       "      <th>expected ebit growth</th>\n",
       "      <th>sector</th>\n",
       "      <th>date</th>\n",
       "      <th>uid</th>\n",
       "    </tr>\n",
       "  </thead>\n",
       "  <tbody>\n",
       "    <tr>\n",
       "      <th>326</th>\n",
       "      <td>AMZN</td>\n",
       "      <td>0.01</td>\n",
       "      <td>1.00</td>\n",
       "      <td>1.00</td>\n",
       "      <td>1.00</td>\n",
       "      <td>0.79</td>\n",
       "      <td>0.00</td>\n",
       "      <td>1.00</td>\n",
       "      <td>1.00</td>\n",
       "      <td>1.00</td>\n",
       "      <td>...</td>\n",
       "      <td>0.99</td>\n",
       "      <td>0.09</td>\n",
       "      <td>0.00</td>\n",
       "      <td>0.78</td>\n",
       "      <td>0.49</td>\n",
       "      <td>0.08</td>\n",
       "      <td>0.80</td>\n",
       "      <td>Technology</td>\n",
       "      <td>2022-06-30</td>\n",
       "      <td>Technology 2022-06-30</td>\n",
       "    </tr>\n",
       "  </tbody>\n",
       "</table>\n",
       "<p>1 rows × 125 columns</p>\n",
       "</div>"
      ],
      "text/plain": [
       "    ticker accoci assets assetsc assetsnc  bvps capex cashneq cashnequsd  \\\n",
       "326   AMZN   0.01   1.00    1.00     1.00  0.79  0.00    1.00       1.00   \n",
       "\n",
       "      cor  ... retained earnigns retention ratio equity reinvested  \\\n",
       "326  1.00  ...              0.99            0.09              0.00   \n",
       "\n",
       "    expected netinc growth expected roe growth equity reinvestment rate  \\\n",
       "326                   0.78                0.49                     0.08   \n",
       "\n",
       "    expected ebit growth      sector        date                    uid  \n",
       "326                 0.80  Technology  2022-06-30  Technology 2022-06-30  \n",
       "\n",
       "[1 rows x 125 columns]"
      ]
     },
     "execution_count": 14,
     "metadata": {},
     "output_type": "execute_result"
    }
   ],
   "source": [
    "ranks = sector_rank_frames.get(sector)\n",
    "ranks = ranks.loc[ranks.ticker == ticker]\n",
    "ranks"
   ]
  },
  {
   "cell_type": "code",
   "execution_count": 16,
   "id": "89fadb19",
   "metadata": {},
   "outputs": [],
   "source": [
    "sector_raw = raw[box_cols].loc[raw.sector == sector].dropna()"
   ]
  },
  {
   "cell_type": "code",
   "execution_count": 17,
   "id": "026a817a",
   "metadata": {},
   "outputs": [
    {
     "data": {
      "text/html": [
       "<div>\n",
       "<style scoped>\n",
       "    .dataframe tbody tr th:only-of-type {\n",
       "        vertical-align: middle;\n",
       "    }\n",
       "\n",
       "    .dataframe tbody tr th {\n",
       "        vertical-align: top;\n",
       "    }\n",
       "\n",
       "    .dataframe thead th {\n",
       "        text-align: right;\n",
       "    }\n",
       "</style>\n",
       "<table border=\"1\" class=\"dataframe\">\n",
       "  <thead>\n",
       "    <tr style=\"text-align: right;\">\n",
       "      <th></th>\n",
       "      <th>ticker</th>\n",
       "      <th>roe</th>\n",
       "      <th>roa</th>\n",
       "      <th>expected roe growth</th>\n",
       "      <th>expected netinc growth</th>\n",
       "    </tr>\n",
       "  </thead>\n",
       "  <tbody>\n",
       "    <tr>\n",
       "      <th>348</th>\n",
       "      <td>AMZN</td>\n",
       "      <td>-0.015434</td>\n",
       "      <td>-0.004832</td>\n",
       "      <td>-0.006178</td>\n",
       "      <td>0.006091</td>\n",
       "    </tr>\n",
       "  </tbody>\n",
       "</table>\n",
       "</div>"
      ],
      "text/plain": [
       "    ticker       roe       roa  expected roe growth  expected netinc growth\n",
       "348   AMZN -0.015434 -0.004832            -0.006178                0.006091"
      ]
     },
     "execution_count": 17,
     "metadata": {},
     "output_type": "execute_result"
    }
   ],
   "source": [
    "this_ticker =sector_raw[box_cols].loc[sector_raw.ticker == ticker] \n",
    "this_ticker"
   ]
  },
  {
   "cell_type": "code",
   "execution_count": 18,
   "id": "c829c440",
   "metadata": {},
   "outputs": [
    {
     "data": {
      "text/plain": [
       "<seaborn.axisgrid.FacetGrid at 0x29a1fc7c2b0>"
      ]
     },
     "execution_count": 18,
     "metadata": {},
     "output_type": "execute_result"
    },
    {
     "data": {
      "image/png": "[encoded data removed]",
      "text/plain": [
       "<Figure size 864x216 with 4 Axes>"
      ]
     },
     "metadata": {
      "needs_background": "light"
     },
     "output_type": "display_data"
    }
   ],
   "source": [
    "\n",
    "melt = sector_raw.melt(id_vars = 'ticker').dropna()\n",
    "# melt.value = melt.value.divide(100)\n",
    "\n",
    "def annotate(data, **kws):\n",
    "    n = np.round(data.value.loc[data.ticker==ticker].values[0], 4)*100\n",
    "    ax = plt.gca()\n",
    "    ax.text(.1, n, f\"{n}\")\n",
    "    ax.scatter(.1, n, color = 'orange')\n",
    "        \n",
    "g = sns.FacetGrid(melt, col=\"variable\", sharey=False,  col_wrap=4)\n",
    "g.map_dataframe(sns.boxplot, y=\"value\")\n",
    "g.map_dataframe(annotate)"
   ]
  },
  {
   "cell_type": "markdown",
   "id": "37e3e4b7",
   "metadata": {},
   "source": [
    "### Industry"
   ]
  },
  {
   "cell_type": "code",
   "execution_count": null,
   "id": "171d3cd9",
   "metadata": {},
   "outputs": [],
   "source": [
    "percentiles = industry_percentile_frames.get(industry)\n",
    "percentiles"
   ]
  },
  {
   "cell_type": "code",
   "execution_count": null,
   "id": "3e5ac025",
   "metadata": {},
   "outputs": [],
   "source": [
    "ranks = industry_rank_frames.get(industry)\n",
    "ranks = ranks.loc[ranks.ticker == ticker]\n",
    "ranks"
   ]
  },
  {
   "cell_type": "code",
   "execution_count": null,
   "id": "b9662b10",
   "metadata": {},
   "outputs": [],
   "source": [
    "industry_raw = raw[box_cols].loc[raw.industry == industry].dropna()\n",
    "\n",
    "melt = industry_raw.melt(id_vars = 'ticker').dropna()\n",
    "\n",
    "sns.catplot(\n",
    "    data=melt, y='value',\n",
    "    col='variable', kind='box', col_wrap=2, sharey=False\n",
    ")"
   ]
  },
  {
   "cell_type": "code",
   "execution_count": null,
   "id": "f4b4f0a0",
   "metadata": {},
   "outputs": [],
   "source": []
  }
 ],
 "metadata": {
  "kernelspec": {
   "display_name": "pynance_venv",
   "language": "python",
   "name": "pynance_venv"
  },
  "language_info": {
   "codemirror_mode": {
    "name": "ipython",
    "version": 3
   },
   "file_extension": ".py",
   "mimetype": "text/x-python",
   "name": "python",
   "nbconvert_exporter": "python",
   "pygments_lexer": "ipython3",
   "version": "3.8.13"
  }
 },
 "nbformat": 4,
 "nbformat_minor": 5
}

{
 "cells": [
  {
   "cell_type": "code",
   "execution_count": 1,
   "id": "56f6daef",
   "metadata": {},
   "outputs": [
    {
     "name": "stdout",
     "output_type": "stream",
     "text": [
      "C:\\dev\\pynance\n",
      "C:\\dev\\pynance\\lib\n"
     ]
    }
   ],
   "source": [
    "from enum import Enum\n",
    "import sys, os\n",
    "import nasdaqdatalink\n",
    "import pandas as pd \n",
    "import numpy as np\n",
    "from scipy.stats.mstats import gmean\n",
    "\n",
    "proj_root = os.path.join(os.path.dirname(os.path.dirname(os.path.abspath(''))), 'pynance')\n",
    "print(proj_root)\n",
    "sys.path.append(proj_root)\n",
    "\n",
    "\n",
    "import nasdaq_data_link as nasdaq\n",
    "from nasdaq_data_link import Sharadar\n",
    "from numeric import custom_formatting\n",
    "\n",
    "from calendar_dates import Calendar\n",
    "from lib.equity.fundamentals import Fundamentals, Columns\n",
    "cal = Calendar()\n",
    "\n",
    "\n",
    "import warnings\n",
    "warnings.filterwarnings('ignore')"
   ]
  },
  {
   "cell_type": "markdown",
   "id": "8d130f3d",
   "metadata": {},
   "source": [
    "\n",
    "Two tables: One flat; One tall<br><br>\n",
    "    CompFunBase - Company Fundamentals with a record indexed by Ticker and Calendar Date<br><br>\n",
    "    CompFunRanks - Tall table indexed by Ticker, Industry, and Calendar Date with the companies ranks against their peer group (industry) <br>   Use this melted form to pivot and present ranks as a time series<br>\n",
    "<br>\n",
    "CompFunIndStats - descriptive statistics at the industry level for each date and metric\n",
    "<br><br>\n",
    "https://data.nasdaq.com/api/v3/datatables/SHARADAR/SF1?qopts.export=true&api_key=API_KEY\n",
    "\n"
   ]
  },
  {
   "cell_type": "markdown",
   "id": "d77ef3a8",
   "metadata": {},
   "source": [
    "# Join equity fundamentals and static company info"
   ]
  },
  {
   "cell_type": "code",
   "execution_count": null,
   "id": "b7bfdeb4",
   "metadata": {
    "scrolled": true
   },
   "outputs": [],
   "source": [
    "# Fundamentals\n",
    "fun = Fundamentals()\n",
    "df_fun = fun.full_export(curl = False) # Set curl = True if data should be refreshed\n",
    "df_fun = df_fun[df_fun.dimension == 'MRQ']\n",
    "\n",
    "# Static Profile info\n",
    "nasdaq.Nasdaq()\n",
    "tick = nasdaq.Tickers()\n",
    "df_prof = tick.full_export(curl = False) # Set curl = True if data should be refreshed\n",
    "\n",
    "#Industry list\n",
    "all_industies = df_prof.industry.unique().tolist()\n",
    "# print(all_industies)\n",
    "\n",
    "# Join\n",
    "df = df_fun.set_index('ticker').merge(df_prof.set_index('ticker'), how='inner', left_index=True, right_index=True).reset_index()\n",
    "df"
   ]
  },
  {
   "cell_type": "markdown",
   "id": "6e26bc80",
   "metadata": {},
   "source": [
    "# Subset for rank columns of interest"
   ]
  },
  {
   "cell_type": "code",
   "execution_count": null,
   "id": "a2862e85",
   "metadata": {},
   "outputs": [],
   "source": [
    "df = df[Columns.RANKS.value]"
   ]
  },
  {
   "cell_type": "code",
   "execution_count": null,
   "id": "909a5ed0",
   "metadata": {},
   "outputs": [],
   "source": [
    "cols = ['ticker', 'calendardate'] + [c for c in df.columns if c not in ['ticker', 'calendardate']]\n",
    "df = df[cols]"
   ]
  },
  {
   "cell_type": "code",
   "execution_count": null,
   "id": "e2af17c1",
   "metadata": {},
   "outputs": [],
   "source": [
    "df.shape"
   ]
  },
  {
   "cell_type": "code",
   "execution_count": null,
   "id": "ef919475",
   "metadata": {},
   "outputs": [],
   "source": [
    "# df.columns.tolist()"
   ]
  },
  {
   "cell_type": "markdown",
   "id": "5d6d83d9",
   "metadata": {},
   "source": [
    "# 1. load fundamentals to flat table"
   ]
  },
  {
   "cell_type": "code",
   "execution_count": null,
   "id": "c3dce70b",
   "metadata": {
    "scrolled": true
   },
   "outputs": [],
   "source": [
    "from sqlalchemy import create_engine\n",
    "engine = create_engine('sqlite:///C:\\data\\industry_fundamentals.db', echo=False)\n",
    "cnxn = engine.connect()\n",
    "df.to_sql(con=cnxn, if_exists='replace', name = 'CompFunBase', index = False) #Company Fundamentals base"
   ]
  },
  {
   "cell_type": "code",
   "execution_count": null,
   "id": "59d82a27",
   "metadata": {},
   "outputs": [],
   "source": [
    "base = pd.read_sql(\"select * from CompFunBase where industry = 'Utilities - Regulated Electric' and ticker = 'DUK'\", cnxn)\n",
    "base"
   ]
  },
  {
   "cell_type": "markdown",
   "id": "cf5a87e9",
   "metadata": {},
   "source": [
    "# 2. load ranks to tall table"
   ]
  },
  {
   "cell_type": "markdown",
   "id": "34888a61",
   "metadata": {},
   "source": [
    "CompFunRanks"
   ]
  },
  {
   "cell_type": "code",
   "execution_count": null,
   "id": "4ed9d3b4",
   "metadata": {},
   "outputs": [],
   "source": [
    "dates = df['calendardate'].unique().tolist()\n",
    "industries =  df['industry'].unique().tolist()"
   ]
  },
  {
   "cell_type": "code",
   "execution_count": null,
   "id": "84df13bb",
   "metadata": {},
   "outputs": [],
   "source": [
    "frames =[]\n",
    "for date in dates[-6:]:\n",
    "    for industry in industries:\n",
    "        data = df[(df.calendardate == date) & (df.industry == industry)].set_index(['ticker','calendardate','industry'])\n",
    "        ranks = data.rank(axis=1, pct=True, numeric_only = True).reset_index()\n",
    "        melt = ranks.melt(id_vars = ['ticker', 'calendardate','industry'])\n",
    "        frames.append(melt)\n",
    "res = pd.concat(frames, axis=0)"
   ]
  },
  {
   "cell_type": "code",
   "execution_count": null,
   "id": "ce0298e0",
   "metadata": {},
   "outputs": [],
   "source": [
    "res"
   ]
  },
  {
   "cell_type": "code",
   "execution_count": null,
   "id": "c5ed2967",
   "metadata": {
    "scrolled": true
   },
   "outputs": [],
   "source": [
    "from sqlalchemy import create_engine\n",
    "engine = create_engine('sqlite:///C:\\data\\industry_fundamentals.db', echo=False)\n",
    "cnxn = engine.connect()\n",
    "res.to_sql(con=cnxn, if_exists='replace', name = 'CompFunRanks', index = False) #Company Fundamentals Ranks"
   ]
  },
  {
   "cell_type": "code",
   "execution_count": null,
   "id": "b6cca4a4",
   "metadata": {},
   "outputs": [],
   "source": [
    "# res[(res.ticker == 'AMZN') & (res.variable == 'revenue')]"
   ]
  },
  {
   "cell_type": "code",
   "execution_count": null,
   "id": "03816858",
   "metadata": {},
   "outputs": [],
   "source": [
    "rank = pd.read_sql(\"select * from CompFunRanks where ticker == 'AMZN'\", cnxn)\n",
    "rank"
   ]
  },
  {
   "cell_type": "markdown",
   "id": "da13375d",
   "metadata": {},
   "source": [
    "# 3. Industry descriptive stats"
   ]
  },
  {
   "cell_type": "code",
   "execution_count": null,
   "id": "ce55f5da",
   "metadata": {},
   "outputs": [],
   "source": [
    "dates = df['calendardate'].unique().tolist()\n",
    "industries =  df['industry'].unique().tolist()"
   ]
  },
  {
   "cell_type": "code",
   "execution_count": null,
   "id": "783ca1af",
   "metadata": {},
   "outputs": [],
   "source": [
    "frames =[]\n",
    "for date in dates[-6:]:\n",
    "    for industry in industries:\n",
    "        data = df[(df.calendardate == date) & (df.industry == industry)].set_index(['ticker','calendardate','industry'])\n",
    "        stats = data.describe().reset_index()\n",
    "        stats.rename(columns={'index':'stat'}, inplace = True)\n",
    "        stats['calendardate'] = date\n",
    "        stats['industry'] = industry\n",
    "        melt = stats.melt(id_vars = ['calendardate','industry','stat'])\n",
    "        frames.append(melt)\n",
    "res = pd.concat(frames, axis=0)"
   ]
  },
  {
   "cell_type": "code",
   "execution_count": null,
   "id": "9bd2586d",
   "metadata": {},
   "outputs": [],
   "source": [
    "res"
   ]
  },
  {
   "cell_type": "code",
   "execution_count": null,
   "id": "c6a40af2",
   "metadata": {},
   "outputs": [],
   "source": [
    "from sqlalchemy import create_engine\n",
    "engine = create_engine('sqlite:///C:\\data\\industry_fundamentals.db', echo=False)\n",
    "cnxn = engine.connect()\n",
    "res.to_sql(con=cnxn, if_exists='replace', name = 'CompFunIndStats', index = False) #Company Fundamentals Ranks"
   ]
  },
  {
   "cell_type": "code",
   "execution_count": null,
   "id": "3895e5c5",
   "metadata": {},
   "outputs": [],
   "source": []
  }
 ],
 "metadata": {
  "kernelspec": {
   "display_name": "pynance_venv",
   "language": "python",
   "name": "pynance_venv"
  },
  "language_info": {
   "codemirror_mode": {
    "name": "ipython",
    "version": 3
   },
   "file_extension": ".py",
   "mimetype": "text/x-python",
   "name": "python",
   "nbconvert_exporter": "python",
   "pygments_lexer": "ipython3",
   "version": "3.8.13"
  }
 },
 "nbformat": 4,
 "nbformat_minor": 5
}

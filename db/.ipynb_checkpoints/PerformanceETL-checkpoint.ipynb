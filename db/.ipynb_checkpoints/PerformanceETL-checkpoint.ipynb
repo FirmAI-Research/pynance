{
 "cells": [
  {
   "cell_type": "code",
   "execution_count": null,
   "id": "fa047d4c",
   "metadata": {},
   "outputs": [],
   "source": [
    "''' 5-,10-,30-,90- losers joined with Fundamentals Percentile Ranks; Price weighted performance of Equity Sectors (5-,10-,30-,90-, horizontal bar chart)\n",
    "'''"
   ]
  }
 ],
 "metadata": {
  "kernelspec": {
   "display_name": "pynance_venv",
   "language": "python",
   "name": "pynance_venv"
  },
  "language_info": {
   "codemirror_mode": {
    "name": "ipython",
    "version": 3
   },
   "file_extension": ".py",
   "mimetype": "text/x-python",
   "name": "python",
   "nbconvert_exporter": "python",
   "pygments_lexer": "ipython3",
   "version": "3.8.13"
  }
 },
 "nbformat": 4,
 "nbformat_minor": 5
}

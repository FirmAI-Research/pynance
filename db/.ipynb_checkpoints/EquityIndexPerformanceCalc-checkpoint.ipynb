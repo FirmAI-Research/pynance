{
 "cells": [
  {
   "cell_type": "markdown",
   "id": "0a10daa4",
   "metadata": {},
   "source": [
    "Market Cap weighted performance of Equity Sectors (5-,10-,30-,90-, horizontal bar chart)\n",
    "5-,10-,30-,90- losers joined with Fundamentals Percentile Ranks;\n"
   ]
  },
  {
   "cell_type": "code",
   "execution_count": 81,
   "id": "111d3530",
   "metadata": {},
   "outputs": [
    {
     "name": "stdout",
     "output_type": "stream",
     "text": [
      "C:\\dev\\pynance\n"
     ]
    }
   ],
   "source": [
    "from enum import Enum\n",
    "import sys, os\n",
    "import nasdaqdatalink\n",
    "import pandas as pd \n",
    "import numpy as np\n",
    "from scipy.stats.mstats import gmean\n",
    "from sqlalchemy import create_engine\n",
    "\n",
    "proj_root = os.path.join(os.path.dirname(os.path.dirname(os.path.abspath(''))), 'pynance')\n",
    "print(proj_root)\n",
    "sys.path.append(proj_root)\n",
    "\n",
    "import nasdaq_data_link as nasdaq\n",
    "from nasdaq_data_link import Sharadar\n",
    "from numeric import custom_formatting\n",
    "\n",
    "from calendar_dates import Calendar\n",
    "from lib.equity.fundamentals import Fundamentals, Columns\n",
    "cal = Calendar()\n",
    "\n",
    "import warnings\n",
    "warnings.filterwarnings('ignore')\n",
    "\n",
    "pd.options.display.float_format = '{:,.4f}'.format\n",
    "\n",
    "\n",
    "RECALC = True\n",
    "indexDivisors = {}"
   ]
  },
  {
   "cell_type": "markdown",
   "id": "6e518ba9",
   "metadata": {},
   "source": [
    "# Construct Initial Index (Constituents --> Index Divisor)"
   ]
  },
  {
   "cell_type": "code",
   "execution_count": 89,
   "id": "6fa15ca2",
   "metadata": {},
   "outputs": [],
   "source": [
    "def construct_initial_index(df, sector):\n",
    "    # Market Cap Weighted Index\n",
    "    # https://www.ftserussell.com/education-center/calculating-index-values\n",
    "    \n",
    "    baseValue = 100\n",
    "    totalShares = 1000\n",
    "    \n",
    "    df['mktCap'] = df.closeadj * df.sharesbas\n",
    "    \n",
    "    df['indexCap'] = df.mktCap.sum()\n",
    "    \n",
    "    df['ratio'] = df.mktCap / df.indexCap\n",
    "    \n",
    "    df['indexWeight'] = df.ratio * 100\n",
    "    \n",
    "    df['shares'] = df.indexWeight * totalShares\n",
    "    \n",
    "    df['indexMarketValue'] = df.closeadj * df.shares\n",
    "    \n",
    "    indexDivisor = df.indexMarketValue.sum() / baseValue   \n",
    "\n",
    "    #     print(indexDivisor)\n",
    "    #     from sqlalchemy import create_engine\n",
    "    #     engine = create_engine('sqlite:///C:\\data\\industry_fundamentals.db', echo=False)\n",
    "    #     cnxn = engine.connect()\n",
    "    #     res.to_sql(con=cnxn, if_exists='replace', name = 'EqIndex', index = False) #Company Fundamentals Ranks\n",
    "\n",
    "    \n",
    "    return indexDivisor, df"
   ]
  },
  {
   "cell_type": "markdown",
   "id": "b7907727",
   "metadata": {},
   "source": [
    "# Calculate Index value on a specific date"
   ]
  },
  {
   "cell_type": "code",
   "execution_count": 97,
   "id": "3abfa522",
   "metadata": {},
   "outputs": [],
   "source": [
    "def calculate_index_by_date(constituents, date = '2022-01-04'):\n",
    "    prices = nasdaqdatalink.get_table(Sharadar.PRICES.value, date = date, paginate=True)\n",
    "    prices = prices[prices.ticker.isin(constituents.ticker.tolist())]\n",
    "    prices = prices.set_index('ticker').merge(constituents.set_index('ticker')[['shares']], left_index = True, right_index=True).reset_index()\n",
    "    prices['indexMarketValue'] = prices.closeadj * prices.shares\n",
    "    \n",
    "    print(prices.indexMarketValue.sum())\n",
    "    \n",
    "    return prices.indexMarketValue.sum() / indexDivisors[sector]"
   ]
  },
  {
   "cell_type": "markdown",
   "id": "5637180d",
   "metadata": {},
   "source": [
    "# Run"
   ]
  },
  {
   "cell_type": "code",
   "execution_count": 98,
   "id": "433dea1d",
   "metadata": {},
   "outputs": [],
   "source": [
    "# Get prices by ticker for index start date with shares outstanding and sector/industry\n",
    "ndq = nasdaq.Nasdaq()\n",
    "\n",
    "df_fun = nasdaqdatalink.get_table(Sharadar.FUNDAMENTALS.value, dimension=\"MRQ\", calendardate = cal.prior_quarter_end().strftime('%Y-%m-%d'),  paginate=True) # All MRQ periods; One Ticker\n",
    "\n",
    "prev_bd = cal.previous_market_day(cal.today()).strftime('%Y-%m-%d')\n",
    "prev_bd\n",
    "\n",
    "data = nasdaqdatalink.get_table(Sharadar.PRICES.value, date = '2022-01-03', paginate=True) \n",
    "\n",
    "tick = nasdaq.Tickers()\n",
    "df_prof = tick.full_export(curl = False) # Set curl = True if data should be refreshed\n",
    "\n",
    "df = data.set_index('ticker') \\\n",
    "    .merge(df_prof.set_index('ticker'), how='inner', left_index=True, right_index=True) \\\n",
    "    .merge(df_fun.set_index('ticker'), how='inner', left_index=True, right_index=True).reset_index()\n",
    "\n",
    "df = df[['ticker','date','open','closeadj','sector','industry','sharesbas']]\n"
   ]
  },
  {
   "cell_type": "code",
   "execution_count": 99,
   "id": "f84f925d",
   "metadata": {},
   "outputs": [
    {
     "name": "stdout",
     "output_type": "stream",
     "text": [
      "Healthcare\n",
      "18316480.65480311\n",
      "-0.11767831511200999\n",
      "Basic Materials\n",
      "9951917.397974044\n",
      "-0.18633217355588183\n",
      "Industrials\n",
      "18167979.943117607\n",
      "-0.1305270971556053\n",
      "Consumer Defensive\n",
      "12925262.723759359\n",
      "-0.11964578466812614\n",
      "Technology\n",
      "11068808.542129751\n",
      "-0.4272690231349936\n",
      "Consumer Cyclical\n",
      "15515071.957546506\n",
      "-0.32141947608527643\n",
      "Energy\n",
      "1331593.814958639\n",
      "-0.7056132391005336\n",
      "Communication Services\n",
      "5647416.290209806\n",
      "-0.2165887292645\n",
      "Financial Services\n",
      "12784281.513325464\n",
      "-0.19819457165145427\n",
      "Utilities\n",
      "6820442.89626445\n",
      "-0.06603427980284582\n",
      "Real Estate\n",
      "10558566.067199025\n",
      "-0.30466825074771153\n"
     ]
    }
   ],
   "source": [
    "sectors = df.sector.unique().tolist()\n",
    "\n",
    "for sector in sectors:\n",
    "\n",
    "    print(sector)\n",
    "\n",
    "    constituents = df[df.sector == sector] \n",
    "\n",
    "    # Only run this when constructing the intial index weights and divisor\n",
    "    if RECALC:\n",
    "\n",
    "        indexDivisor, sectorDf = construct_initial_index(constituents, sector)\n",
    "\n",
    "        indexDivisors[sector] = indexDivisor  \n",
    "\n",
    "        # store index divisors for each sector in sql table\n",
    "        divisorDf = pd.DataFrame.from_dict(indexDivisors, orient = 'index')\n",
    "        divisorDf.columns = ['IndexDivisor']\n",
    "\n",
    "    indexValue = calculate_index_by_date(constituents, date = '2022-11-03')\n",
    "\n",
    "    indexReturn = (indexValue / 100) -1  # 100 is the base value for all index's\n",
    "    print(indexReturn)"
   ]
  },
  {
   "cell_type": "code",
   "execution_count": 102,
   "id": "8772ac50",
   "metadata": {},
   "outputs": [
    {
     "data": {
      "text/plain": [
       "{'Healthcare': 207594.1345262116,\n",
       " 'Basic Materials': 122309.33895304427,\n",
       " 'Industrials': 208953.95225869436,\n",
       " 'Consumer Defensive': 146818.8883367455,\n",
       " 'Technology': 193263.6611121994,\n",
       " 'Consumer Cyclical': 228640.1010751123,\n",
       " 'Energy': 45232.802279902135,\n",
       " 'Communication Services': 72087.50373105776,\n",
       " 'Financial Services': 159443.68872204894,\n",
       " 'Utilities': 73026.69411490497,\n",
       " 'Real Estate': 151849.33060446288}"
      ]
     },
     "execution_count": 102,
     "metadata": {},
     "output_type": "execute_result"
    }
   ],
   "source": [
    "indexDivisors"
   ]
  },
  {
   "cell_type": "code",
   "execution_count": null,
   "id": "c525f7ed",
   "metadata": {},
   "outputs": [],
   "source": []
  }
 ],
 "metadata": {
  "kernelspec": {
   "display_name": "pynance_venv",
   "language": "python",
   "name": "pynance_venv"
  },
  "language_info": {
   "codemirror_mode": {
    "name": "ipython",
    "version": 3
   },
   "file_extension": ".py",
   "mimetype": "text/x-python",
   "name": "python",
   "nbconvert_exporter": "python",
   "pygments_lexer": "ipython3",
   "version": "3.8.13"
  }
 },
 "nbformat": 4,
 "nbformat_minor": 5
}

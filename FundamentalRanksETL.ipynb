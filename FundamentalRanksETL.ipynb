{
 "cells": [
  {
   "cell_type": "code",
   "execution_count": 1,
   "id": "56f6daef",
   "metadata": {},
   "outputs": [
    {
     "name": "stdout",
     "output_type": "stream",
     "text": [
      "C:\\dev\\pynance\\lib\n"
     ]
    }
   ],
   "source": [
    "from enum import Enum\n",
    "import sys, os\n",
    "import nasdaqdatalink\n",
    "import pandas as pd \n",
    "import numpy as np\n",
    "from scipy.stats.mstats import gmean\n",
    "\n",
    "# proj_root = os.path.dirname(os.path.dirname(os.path.abspath(__file__)))\n",
    "# print(proj_root)\n",
    "# sys.path.append(proj_root)\n",
    "\n",
    "\n",
    "import nasdaq_data_link as nasdaq\n",
    "from nasdaq_data_link import Sharadar\n",
    "from numeric import custom_formatting\n",
    "from calendar_dates import Calendar\n",
    "from lib.equity.fundamentals import Fundamentals\n",
    "cal = Calendar()\n"
   ]
  },
  {
   "cell_type": "code",
   "execution_count": null,
   "id": "b7bfdeb4",
   "metadata": {},
   "outputs": [],
   "source": [
    "# Fundamentals\n",
    "fun = Fundamentals()\n",
    "df_fun = fun.full_export(curl = False) # Set curl = True if data should be refreshed\n",
    "print(df_fun)\n",
    "\n",
    "# Static Profile info\n",
    "nasdaq.Nasdaq()\n",
    "tick = nasdaq.Tickers()\n",
    "df_prof = tick.full_export()\n",
    "\n",
    "all_industies = df_prof.industry.unique().tolist()\n",
    "print(all_industies)\n",
    "\n",
    "# Join\n",
    "df = df_fun.set_index('ticker').merge(df_prof.set_index('ticker'), how='inner', left_index=True, right_index=True)\n",
    "print(df)"
   ]
  },
  {
   "cell_type": "code",
   "execution_count": null,
   "id": "fe54222d",
   "metadata": {},
   "outputs": [],
   "source": [
    "df.columns.tolist()"
   ]
  },
  {
   "cell_type": "code",
   "execution_count": null,
   "id": "d508c3a1",
   "metadata": {},
   "outputs": [],
   "source": [
    "\n",
    "\n",
    "def calculate_percentile_rank(self, df, column=None):\n",
    "    arr = pd.to_numeric(df[column]).dropna().values\n",
    "    Q1, median, Q3 = np.percentile(arr, [25, 50, 75])\n",
    "    IQR = Q3 - Q1\n",
    "\n",
    "    loval = Q1 - 1.5 * IQR\n",
    "    hival = Q3 + 1.5 * IQR\n",
    "\n",
    "    wiskhi = np.compress(arr <= hival, arr)\n",
    "    wisklo = np.compress(arr >= loval, arr)\n",
    "\n",
    "    actual_hival = np.max(wiskhi)\n",
    "    actual_loval = np.min(wisklo)\n",
    "\n",
    "    outliers_high = np.compress(arr > actual_hival, arr)\n",
    "    outliers_low = np.compress(arr < actual_loval, arr)\n",
    "    outliers = [x for x in outliers_high ] + [y for y in outliers_low]\n",
    "\n",
    "    Qs = [actual_loval, Q1, median, Q3, actual_hival]\n",
    "    # print(arr)\n",
    "    # print(Qs)\n",
    "    return Qs, outliers\n",
    "\n",
    "\n"
   ]
  }
 ],
 "metadata": {
  "kernelspec": {
   "display_name": "pynance_venv",
   "language": "python",
   "name": "pynance_venv"
  },
  "language_info": {
   "codemirror_mode": {
    "name": "ipython",
    "version": 3
   },
   "file_extension": ".py",
   "mimetype": "text/x-python",
   "name": "python",
   "nbconvert_exporter": "python",
   "pygments_lexer": "ipython3",
   "version": "3.8.13"
  }
 },
 "nbformat": 4,
 "nbformat_minor": 5
}
